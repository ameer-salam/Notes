{
  "nbformat": 4,
  "nbformat_minor": 0,
  "metadata": {
    "colab": {
      "provenance": [],
      "authorship_tag": "ABX9TyPAjLmuDuonQeQMPKGUNvq2",
      "include_colab_link": true
    },
    "kernelspec": {
      "name": "python3",
      "display_name": "Python 3"
    },
    "language_info": {
      "name": "python"
    }
  },
  "cells": [
    {
      "cell_type": "markdown",
      "metadata": {
        "id": "view-in-github",
        "colab_type": "text"
      },
      "source": [
        "<a href=\"https://colab.research.google.com/github/ameer-salam/Notes/blob/main/Python.ipynb\" target=\"_parent\"><img src=\"https://colab.research.google.com/assets/colab-badge.svg\" alt=\"Open In Colab\"/></a>"
      ]
    },
    {
      "cell_type": "markdown",
      "source": [
        "# Python\n",
        "Python is a general purpose Programming language. It's Design philosophy emphasisi code redability\n",
        "* it was developed by Guido van Rossum in 1993\n",
        "\n",
        "## Advantages of Python\n",
        "1. Easy to code,\n",
        "2. Improved productivity,\n",
        "3. Vast libraries\n",
        "4. Career opportunities\n",
        "5. used in many fields\n",
        "\n",
        "How Youtube is using python - VIdeo recommendation, Personalised Ads and content.\n",
        "\n",
        "## Fields Python is used\n",
        "1. AI and ML\n",
        "2. Data analytics\n",
        "3. Programming apps,\n",
        "4. web developement\n",
        "5. Game developement\n",
        "\n",
        "## Module wise topics are :\n",
        "- [ ]  Introduction\n",
        "- [ ] Installation\n",
        "- [ ] Python Fundamentals\n",
        "- [ ] Print functions\n",
        "- [ ] Operators and Expressions\n",
        "- [ ] Control FLow\n",
        "- [ ] Loops\n",
        "- [ ] Strings\n",
        "- [ ] Lists\n",
        "- [ ] Tuples\n",
        "- [ ] Dictionaries\n",
        "- [ ] Sets\n",
        "- [ ] Python Functions\n",
        "- [ ] OOPs\n",
        "- [ ] File Handling\n",
        "- [ ] Errors & Exception Handling\n",
        "\n"
      ],
      "metadata": {
        "id": "dGGkJSjPopP1"
      }
    },
    {
      "cell_type": "markdown",
      "source": [
        "## Basic Fundamentals of Python"
      ],
      "metadata": {
        "id": "LWQITZors27I"
      }
    },
    {
      "cell_type": "markdown",
      "source": [
        "### print() function in Python"
      ],
      "metadata": {
        "id": "l3g0LQ8ByuXC"
      }
    },
    {
      "cell_type": "code",
      "source": [
        "#print statement\n",
        "print(\"Hello World!\")"
      ],
      "metadata": {
        "colab": {
          "base_uri": "https://localhost:8080/"
        },
        "id": "y5z6A7srs6sR",
        "outputId": "8494864c-84a8-4d02-9f7b-af185166cce4"
      },
      "execution_count": null,
      "outputs": [
        {
          "output_type": "stream",
          "name": "stdout",
          "text": [
            "Hello World!\n"
          ]
        }
      ]
    },
    {
      "cell_type": "markdown",
      "source": [
        "### Variables in Python"
      ],
      "metadata": {
        "id": "akRP1Nx-yySc"
      }
    },
    {
      "cell_type": "code",
      "source": [
        "#variables\n",
        "# varialbel_name =(addignment operator) Value_of_variable\n",
        "x=10\n",
        "print(x)\n",
        "\n",
        "#conditions with Variables\n",
        "'''\n",
        "1. Variable name must start with charater or underscore (_)\n",
        "2. variable name cannot start with number, and it can only contain alpha-numeric characters\n",
        "3. variables in Python are case sensitive\n",
        "4. variables are name given to a memory location in the Computer Memory\n",
        "5. variables cannot be named with inbuilt Keywords\n",
        "'''\n",
        "# to know all the keywords\n",
        "print(\"All the Keywords in Python are : \\n\")\n",
        "help('keywords')"
      ],
      "metadata": {
        "colab": {
          "base_uri": "https://localhost:8080/"
        },
        "id": "F4LqCyAqtMDF",
        "outputId": "822612eb-3a37-48b2-f6bf-25306e82df4b"
      },
      "execution_count": null,
      "outputs": [
        {
          "output_type": "stream",
          "name": "stdout",
          "text": [
            "10\n",
            "All the Keywords in Python are : \n",
            "\n",
            "\n",
            "Here is a list of the Python keywords.  Enter any keyword to get more help.\n",
            "\n",
            "False               class               from                or\n",
            "None                continue            global              pass\n",
            "True                def                 if                  raise\n",
            "and                 del                 import              return\n",
            "as                  elif                in                  try\n",
            "assert              else                is                  while\n",
            "async               except              lambda              with\n",
            "await               finally             nonlocal            yield\n",
            "break               for                 not                 \n",
            "\n"
          ]
        }
      ]
    },
    {
      "cell_type": "markdown",
      "source": [
        "### Heap vs Stack memory\n",
        "\n",
        "| Aspect         | Stack Memory                                       | Heap Memory                                       |\n",
        "|----------------|----------------------------------------------------|---------------------------------------------------|\n",
        "| Purpose        | Used for storing local variables, function call     | Used for dynamic memory allocation, including    |\n",
        "|                | frames, and other execution-related data.           | objects that are too large to fit on the stack   |\n",
        "|                |                                                    | or have a longer lifetime than a single function |\n",
        "|                |                                                    | call.                                             |\n",
        "| Allocation     | Memory is allocated and deallocated automatically   | Memory is allocated and deallocated by Python's  |\n",
        "| and Deallocation | by the Python interpreter as function calls are   | memory manager using techniques like reference   |\n",
        "|                 | made and completed.                                | counting and garbage collection.                 |\n",
        "| Data Lifetime  | Limited to the duration of the function call.      | Can have a longer lifetime and can persist      |\n",
        "|                | Once the function returns, local variables         | beyond the duration of a single function call.   |\n",
        "|                | and function call frames are deallocated.          |                                                   |\n",
        "| Data Structure | Typically stores local variables, function call    | Stores objects created using constructors like   |\n",
        "|                | frames, and other execution-related data.          | `list`, `dict`, `set`, or custom classes.       |\n",
        "|                | Operates in a last-in-first-out (LIFO) manner.     |                                                   |\n",
        "| Management     | Managed automatically by the Python interpreter.   | Managed by Python's memory manager using        |\n",
        "|                | No need for manual memory management.              | techniques like reference counting and garbage  |\n",
        "|                |                                                    | collection.                                       |\n",
        "| Risk of Errors | Lower risk of memory-related errors like memory    | Lower risk of memory-related errors like memory |\n",
        "|                | leaks or dangling pointers.                        | leaks or dangling pointers due to automatic     |\n",
        "|                |                                                    | memory management.                                |\n"
      ],
      "metadata": {
        "id": "O4N08W2wvnXX"
      }
    },
    {
      "cell_type": "markdown",
      "source": [
        "### Id Function\n",
        "\n",
        "* it is a builtin function which returns the unique identidfier of the vairable (memory address) of the variable\n",
        "* the identifer is gauranteed to be unique and constant throught the lifetime of the object.\n",
        "* it is used to compare weather two variables(in Stack memory) refer to the same object in the memory(Heap memory)"
      ],
      "metadata": {
        "id": "WjzZsFPWxA0S"
      }
    },
    {
      "cell_type": "code",
      "source": [
        "# using the id() function\n",
        "x=10\n",
        "\n",
        "print(\"The Address of the Variable is : \", id(x))\n",
        "\n",
        "y=x\n",
        "\n",
        "print(\"To check if the variable Y refers to teh same object in Heap memory\")\n",
        "print(id(y))\n",
        "if(id(x)==id(y)):\n",
        "  print(\"The varaible X and Y refer to the same object in the Heap memory\")"
      ],
      "metadata": {
        "colab": {
          "base_uri": "https://localhost:8080/"
        },
        "id": "IPiElj0IvriP",
        "outputId": "45aeb794-5498-40b8-e967-f439ba1bd2a9"
      },
      "execution_count": null,
      "outputs": [
        {
          "output_type": "stream",
          "name": "stdout",
          "text": [
            "The Address of the Variable is :  135744504021520\n",
            "To check if the variable Y refers to teh same object in Heap memory\n",
            "135744504021520\n",
            "The varaible X and Y refer to the same object in the Heap memory\n"
          ]
        }
      ]
    },
    {
      "cell_type": "markdown",
      "source": [
        "### Data Types in Python\n",
        "\n",
        "1. Integers -oo to ooo\n",
        "2. Floats -oo.D to oo.D (D - floating point)\n",
        "3. Booleans\n",
        "4. Strings\n",
        "5. None\n"
      ],
      "metadata": {
        "id": "faTCyt4Oy31Y"
      }
    },
    {
      "cell_type": "code",
      "source": [
        "#using the type() function to find the datatype of the given variable\n",
        "a=98.99\n",
        "print(a)\n",
        "print(\"The datatype of A is : \", type(a))"
      ],
      "metadata": {
        "colab": {
          "base_uri": "https://localhost:8080/"
        },
        "id": "TFjOuWM036no",
        "outputId": "b012eb8d-4b59-444a-d353-54e58f04e1e9"
      },
      "execution_count": null,
      "outputs": [
        {
          "output_type": "stream",
          "name": "stdout",
          "text": [
            "98.99\n",
            "The datatype of A is :  <class 'float'>\n"
          ]
        }
      ]
    },
    {
      "cell_type": "code",
      "source": [
        "#example of boolean data type\n",
        "bool_type=True\n",
        "# remember True and 'True' are different in Python\n",
        "# 'True'is treated as a string and True is treated as Boolean value\n",
        "print(bool_type)\n",
        "print(type(bool_type))"
      ],
      "metadata": {
        "colab": {
          "base_uri": "https://localhost:8080/"
        },
        "id": "i6dzjRif4k7b",
        "outputId": "327bebfb-dfd6-4d20-c2e2-146f4572b651"
      },
      "execution_count": null,
      "outputs": [
        {
          "output_type": "stream",
          "name": "stdout",
          "text": [
            "True\n",
            "<class 'bool'>\n"
          ]
        }
      ]
    },
    {
      "cell_type": "code",
      "source": [
        "#Strings\n",
        "str1='Ameer Salam'\n",
        "str2=\"Danish\"\n",
        "str3=\"\"\"\n",
        "Hi How are you?\n",
        "I hope you are fine\n",
        "\"\"\""
      ],
      "metadata": {
        "id": "Qks4i5J15b2v"
      },
      "execution_count": null,
      "outputs": []
    },
    {
      "cell_type": "code",
      "source": [
        "print(\"\\n\", str1, \"\\n\", str2,\"\\n\", str3)"
      ],
      "metadata": {
        "colab": {
          "base_uri": "https://localhost:8080/"
        },
        "id": "cPo-ST3g5jfJ",
        "outputId": "91984412-e820-4b36-9981-58124a8be3c5"
      },
      "execution_count": null,
      "outputs": [
        {
          "output_type": "stream",
          "name": "stdout",
          "text": [
            "\n",
            " Ameer Salam \n",
            " Danish \n",
            " \"Hi How are you?\n"
          ]
        }
      ]
    },
    {
      "cell_type": "code",
      "source": [
        "#null\n",
        "a=None\n",
        "print(a)"
      ],
      "metadata": {
        "colab": {
          "base_uri": "https://localhost:8080/"
        },
        "id": "_kcW3aOJ6Ly1",
        "outputId": "1ba983f2-d88b-453d-cc42-1985e8a5fd93"
      },
      "execution_count": null,
      "outputs": [
        {
          "output_type": "stream",
          "name": "stdout",
          "text": [
            "None\n"
          ]
        }
      ]
    },
    {
      "cell_type": "markdown",
      "source": [
        "### Input function input()\n",
        "\n",
        "* by  default the input() function treates the object entered as **String**"
      ],
      "metadata": {
        "id": "fVXLtS6s6VnC"
      }
    },
    {
      "cell_type": "code",
      "source": [
        "#input function\n",
        "name=input()\n",
        "print(name)"
      ],
      "metadata": {
        "colab": {
          "base_uri": "https://localhost:8080/"
        },
        "id": "2L7fx0f97ENi",
        "outputId": "8192c0d6-a277-450a-ca71-b04834164391"
      },
      "execution_count": null,
      "outputs": [
        {
          "name": "stdout",
          "output_type": "stream",
          "text": [
            "ameer\n"
          ]
        }
      ]
    },
    {
      "cell_type": "code",
      "source": [
        "a=int(input(\"Enter the number : \")) #example of type conversion\n",
        "print(\"Square of \", a, \" is : \", a**2)\n"
      ],
      "metadata": {
        "colab": {
          "base_uri": "https://localhost:8080/"
        },
        "id": "tZ-DnXtE7MUa",
        "outputId": "ebd80d3b-ef1f-49f1-dba2-463297f2a4b5"
      },
      "execution_count": null,
      "outputs": [
        {
          "output_type": "stream",
          "name": "stdout",
          "text": [
            "Enter the number : 3\n",
            "Square of  3  is :  9\n"
          ]
        }
      ]
    },
    {
      "cell_type": "markdown",
      "source": [
        "## Print function\n"
      ],
      "metadata": {
        "id": "m4j2OBgX85lZ"
      }
    },
    {
      "cell_type": "code",
      "source": [
        "# Printing multiple values in the same print statement\n",
        "print(\"Ameer\", \"Salam\", \"Danish\", 21, 23, 20, 99.87, 78.45, 67.65)"
      ],
      "metadata": {
        "colab": {
          "base_uri": "https://localhost:8080/"
        },
        "id": "1h2v_R769KtO",
        "outputId": "b6a5ebd5-7344-4d88-9e55-42150733a634"
      },
      "execution_count": null,
      "outputs": [
        {
          "output_type": "stream",
          "name": "stdout",
          "text": [
            "Ameer Salam Danish 21 23 20 99.87 78.45 67.65\n"
          ]
        }
      ]
    },
    {
      "cell_type": "code",
      "source": [
        "#the objects above in the print statement are printed with a space\n",
        "print?\n",
        "#in every print() statement, by default we have the seperator ' ' and '\\n' at end line\n",
        "#unsing Sererator function\n",
        "print(\"Ameer\", \"Salam\", \"Danish\", 21, 23, 20, 99.87, 78.45, 67.65, sep='\\n')"
      ],
      "metadata": {
        "colab": {
          "base_uri": "https://localhost:8080/"
        },
        "id": "v1Wh81KZ9coZ",
        "outputId": "aacc9576-5b8d-4bdb-ed8d-045a16076c85"
      },
      "execution_count": null,
      "outputs": [
        {
          "output_type": "stream",
          "name": "stdout",
          "text": [
            "Ameer\n",
            "Salam\n",
            "Danish\n",
            "21\n",
            "23\n",
            "20\n",
            "99.87\n",
            "78.45\n",
            "67.65\n"
          ]
        }
      ]
    },
    {
      "cell_type": "code",
      "source": [
        "print(\"Ameer\", 21)\n",
        "#after applyong seperator\n",
        "print(\"Ameer\", 21, sep='->')"
      ],
      "metadata": {
        "colab": {
          "base_uri": "https://localhost:8080/"
        },
        "id": "1FHOvYpbBlKf",
        "outputId": "80cdaa5f-5b18-4093-aaed-f86d6ed8eeb1"
      },
      "execution_count": null,
      "outputs": [
        {
          "output_type": "stream",
          "name": "stdout",
          "text": [
            "Ameer 21\n",
            "Ameer->21\n"
          ]
        }
      ]
    },
    {
      "cell_type": "code",
      "source": [
        "#chaning the end line in print()\n",
        "print(\"Ameer\", \"Salam\", \"Danish\", 21, 23, 20, 99.87, 78.45, 67.65, sep=' ->> ', end='\\t->\\t')\n",
        "print(\"Printed after the first STATEMENT\")"
      ],
      "metadata": {
        "colab": {
          "base_uri": "https://localhost:8080/"
        },
        "id": "FxgnYGB-B8uY",
        "outputId": "3276a900-9c76-437b-aa53-eecc1f480f7c"
      },
      "execution_count": null,
      "outputs": [
        {
          "output_type": "stream",
          "name": "stdout",
          "text": [
            "Ameer ->> Salam ->> Danish ->> 21 ->> 23 ->> 20 ->> 99.87 ->> 78.45 ->> 67.65\t->\tPrinted after the first STATEMENT\n"
          ]
        }
      ]
    }
  ]
}