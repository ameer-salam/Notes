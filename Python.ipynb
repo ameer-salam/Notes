{
  "nbformat": 4,
  "nbformat_minor": 0,
  "metadata": {
    "colab": {
      "provenance": [],
      "authorship_tag": "ABX9TyM2d4hbdzx7S0tjarVqzx/c",
      "include_colab_link": true
    },
    "kernelspec": {
      "name": "python3",
      "display_name": "Python 3"
    },
    "language_info": {
      "name": "python"
    }
  },
  "cells": [
    {
      "cell_type": "markdown",
      "metadata": {
        "id": "view-in-github",
        "colab_type": "text"
      },
      "source": [
        "<a href=\"https://colab.research.google.com/github/ameer-salam/Notes/blob/main/Python.ipynb\" target=\"_parent\"><img src=\"https://colab.research.google.com/assets/colab-badge.svg\" alt=\"Open In Colab\"/></a>"
      ]
    },
    {
      "cell_type": "markdown",
      "source": [
        "# Python\n",
        "Python is a general purpose Programming language. It's Design philosophy emphasisi code redability\n",
        "* it was developed by Guido van Rossum in 1993\n",
        "\n",
        "## Advantages of Python\n",
        "1. Easy to code,\n",
        "2. Improved productivity,\n",
        "3. Vast libraries\n",
        "4. Career opportunities\n",
        "5. used in many fields\n",
        "\n",
        "How Youtube is using python - VIdeo recommendation, Personalised Ads and content.\n",
        "\n",
        "## Fields Python is used\n",
        "1. AI and ML\n",
        "2. Data analytics\n",
        "3. Programming apps,\n",
        "4. web developement\n",
        "5. Game developement\n",
        "\n",
        "## Module wise topics are :\n",
        "- [ ]  Introduction\n",
        "- [ ] Installation\n",
        "- [ ] Python Fundamentals\n",
        "- [ ] Print functions\n",
        "- [ ] Operators and Expressions\n",
        "- [ ] Control FLow\n",
        "- [ ] Loops\n",
        "- [ ] Strings\n",
        "- [ ] Lists\n",
        "- [ ] Tuples\n",
        "- [ ] Dictionaries\n",
        "- [ ] Sets\n",
        "- [ ] Python Functions\n",
        "- [ ] OOPs\n",
        "- [ ] File Handling\n",
        "- [ ] Errors & Exception Handling\n",
        "\n"
      ],
      "metadata": {
        "id": "dGGkJSjPopP1"
      }
    },
    {
      "cell_type": "markdown",
      "source": [
        "## Basic Fundamentals of Python"
      ],
      "metadata": {
        "id": "LWQITZors27I"
      }
    },
    {
      "cell_type": "markdown",
      "source": [
        "### print() function in Python"
      ],
      "metadata": {
        "id": "l3g0LQ8ByuXC"
      }
    },
    {
      "cell_type": "code",
      "source": [
        "#print statement\n",
        "print(\"Hello World!\")"
      ],
      "metadata": {
        "colab": {
          "base_uri": "https://localhost:8080/"
        },
        "id": "y5z6A7srs6sR",
        "outputId": "8494864c-84a8-4d02-9f7b-af185166cce4"
      },
      "execution_count": null,
      "outputs": [
        {
          "output_type": "stream",
          "name": "stdout",
          "text": [
            "Hello World!\n"
          ]
        }
      ]
    },
    {
      "cell_type": "markdown",
      "source": [
        "### Variables in Python"
      ],
      "metadata": {
        "id": "akRP1Nx-yySc"
      }
    },
    {
      "cell_type": "code",
      "source": [
        "#variables\n",
        "# varialbel_name =(addignment operator) Value_of_variable\n",
        "x=10\n",
        "print(x)\n",
        "\n",
        "#conditions with Variables\n",
        "'''\n",
        "1. Variable name must start with charater or underscore (_)\n",
        "2. variable name cannot start with number, and it can only contain alpha-numeric characters\n",
        "3. variables in Python are case sensitive\n",
        "4. variables are name given to a memory location in the Computer Memory\n",
        "5. variables cannot be named with inbuilt Keywords\n",
        "'''\n",
        "# to know all the keywords\n",
        "print(\"All the Keywords in Python are : \\n\")\n",
        "help('keywords')"
      ],
      "metadata": {
        "colab": {
          "base_uri": "https://localhost:8080/"
        },
        "id": "F4LqCyAqtMDF",
        "outputId": "822612eb-3a37-48b2-f6bf-25306e82df4b"
      },
      "execution_count": null,
      "outputs": [
        {
          "output_type": "stream",
          "name": "stdout",
          "text": [
            "10\n",
            "All the Keywords in Python are : \n",
            "\n",
            "\n",
            "Here is a list of the Python keywords.  Enter any keyword to get more help.\n",
            "\n",
            "False               class               from                or\n",
            "None                continue            global              pass\n",
            "True                def                 if                  raise\n",
            "and                 del                 import              return\n",
            "as                  elif                in                  try\n",
            "assert              else                is                  while\n",
            "async               except              lambda              with\n",
            "await               finally             nonlocal            yield\n",
            "break               for                 not                 \n",
            "\n"
          ]
        }
      ]
    },
    {
      "cell_type": "markdown",
      "source": [
        "### Heap vs Stack memory\n",
        "\n",
        "| Aspect         | Stack Memory                                       | Heap Memory                                       |\n",
        "|----------------|----------------------------------------------------|---------------------------------------------------|\n",
        "| Purpose        | Used for storing local variables, function call     | Used for dynamic memory allocation, including    |\n",
        "|                | frames, and other execution-related data.           | objects that are too large to fit on the stack   |\n",
        "|                |                                                    | or have a longer lifetime than a single function |\n",
        "|                |                                                    | call.                                             |\n",
        "| Allocation     | Memory is allocated and deallocated automatically   | Memory is allocated and deallocated by Python's  |\n",
        "| and Deallocation | by the Python interpreter as function calls are   | memory manager using techniques like reference   |\n",
        "|                 | made and completed.                                | counting and garbage collection.                 |\n",
        "| Data Lifetime  | Limited to the duration of the function call.      | Can have a longer lifetime and can persist      |\n",
        "|                | Once the function returns, local variables         | beyond the duration of a single function call.   |\n",
        "|                | and function call frames are deallocated.          |                                                   |\n",
        "| Data Structure | Typically stores local variables, function call    | Stores objects created using constructors like   |\n",
        "|                | frames, and other execution-related data.          | `list`, `dict`, `set`, or custom classes.       |\n",
        "|                | Operates in a last-in-first-out (LIFO) manner.     |                                                   |\n",
        "| Management     | Managed automatically by the Python interpreter.   | Managed by Python's memory manager using        |\n",
        "|                | No need for manual memory management.              | techniques like reference counting and garbage  |\n",
        "|                |                                                    | collection.                                       |\n",
        "| Risk of Errors | Lower risk of memory-related errors like memory    | Lower risk of memory-related errors like memory |\n",
        "|                | leaks or dangling pointers.                        | leaks or dangling pointers due to automatic     |\n",
        "|                |                                                    | memory management.                                |\n"
      ],
      "metadata": {
        "id": "O4N08W2wvnXX"
      }
    },
    {
      "cell_type": "markdown",
      "source": [
        "### Id Function\n",
        "\n",
        "* it is a builtin function which returns the unique identidfier of the vairable (memory address) of the variable\n",
        "* the identifer is gauranteed to be unique and constant throught the lifetime of the object.\n",
        "* it is used to compare weather two variables(in Stack memory) refer to the same object in the memory(Heap memory)"
      ],
      "metadata": {
        "id": "WjzZsFPWxA0S"
      }
    },
    {
      "cell_type": "code",
      "source": [
        "# using the id() function\n",
        "x=10\n",
        "\n",
        "print(\"The Address of the Variable is : \", id(x))\n",
        "\n",
        "y=x\n",
        "\n",
        "print(\"To check if the variable Y refers to teh same object in Heap memory\")\n",
        "print(id(y))\n",
        "if(id(x)==id(y)):\n",
        "  print(\"The varaible X and Y refer to the same object in the Heap memory\")"
      ],
      "metadata": {
        "colab": {
          "base_uri": "https://localhost:8080/"
        },
        "id": "IPiElj0IvriP",
        "outputId": "45aeb794-5498-40b8-e967-f439ba1bd2a9"
      },
      "execution_count": null,
      "outputs": [
        {
          "output_type": "stream",
          "name": "stdout",
          "text": [
            "The Address of the Variable is :  135744504021520\n",
            "To check if the variable Y refers to teh same object in Heap memory\n",
            "135744504021520\n",
            "The varaible X and Y refer to the same object in the Heap memory\n"
          ]
        }
      ]
    },
    {
      "cell_type": "markdown",
      "source": [
        "### Data Types in Python\n",
        "\n",
        "1. Integers -oo to ooo\n",
        "2. Floats -oo.D to oo.D (D - floating point)\n",
        "3. Booleans\n",
        "4. Strings\n",
        "5. None\n"
      ],
      "metadata": {
        "id": "faTCyt4Oy31Y"
      }
    },
    {
      "cell_type": "code",
      "source": [
        "#using the type() function to find the datatype of the given variable\n",
        "a=98.99\n",
        "print(a)\n",
        "print(\"The datatype of A is : \", type(a))"
      ],
      "metadata": {
        "colab": {
          "base_uri": "https://localhost:8080/"
        },
        "id": "TFjOuWM036no",
        "outputId": "b012eb8d-4b59-444a-d353-54e58f04e1e9"
      },
      "execution_count": null,
      "outputs": [
        {
          "output_type": "stream",
          "name": "stdout",
          "text": [
            "98.99\n",
            "The datatype of A is :  <class 'float'>\n"
          ]
        }
      ]
    },
    {
      "cell_type": "code",
      "source": [
        "#example of boolean data type\n",
        "bool_type=True\n",
        "# remember True and 'True' are different in Python\n",
        "# 'True'is treated as a string and True is treated as Boolean value\n",
        "print(bool_type)\n",
        "print(type(bool_type))"
      ],
      "metadata": {
        "colab": {
          "base_uri": "https://localhost:8080/"
        },
        "id": "i6dzjRif4k7b",
        "outputId": "327bebfb-dfd6-4d20-c2e2-146f4572b651"
      },
      "execution_count": null,
      "outputs": [
        {
          "output_type": "stream",
          "name": "stdout",
          "text": [
            "True\n",
            "<class 'bool'>\n"
          ]
        }
      ]
    },
    {
      "cell_type": "code",
      "source": [
        "#Strings\n",
        "str1='Ameer Salam'\n",
        "str2=\"Danish\"\n",
        "str3=\"\"\"\n",
        "Hi How are you?\n",
        "I hope you are fine\n",
        "\"\"\""
      ],
      "metadata": {
        "id": "Qks4i5J15b2v"
      },
      "execution_count": null,
      "outputs": []
    },
    {
      "cell_type": "code",
      "source": [
        "print(\"\\n\", str1, \"\\n\", str2,\"\\n\", str3)"
      ],
      "metadata": {
        "colab": {
          "base_uri": "https://localhost:8080/"
        },
        "id": "cPo-ST3g5jfJ",
        "outputId": "91984412-e820-4b36-9981-58124a8be3c5"
      },
      "execution_count": null,
      "outputs": [
        {
          "output_type": "stream",
          "name": "stdout",
          "text": [
            "\n",
            " Ameer Salam \n",
            " Danish \n",
            " \"Hi How are you?\n"
          ]
        }
      ]
    },
    {
      "cell_type": "code",
      "source": [
        "#null\n",
        "a=None\n",
        "print(a)"
      ],
      "metadata": {
        "colab": {
          "base_uri": "https://localhost:8080/"
        },
        "id": "_kcW3aOJ6Ly1",
        "outputId": "1ba983f2-d88b-453d-cc42-1985e8a5fd93"
      },
      "execution_count": null,
      "outputs": [
        {
          "output_type": "stream",
          "name": "stdout",
          "text": [
            "None\n"
          ]
        }
      ]
    },
    {
      "cell_type": "markdown",
      "source": [
        "### Input function input()\n",
        "\n",
        "* by  default the input() function treates the object entered as **String**"
      ],
      "metadata": {
        "id": "fVXLtS6s6VnC"
      }
    },
    {
      "cell_type": "code",
      "source": [
        "#input function\n",
        "name=input()\n",
        "print(name)"
      ],
      "metadata": {
        "colab": {
          "base_uri": "https://localhost:8080/"
        },
        "id": "2L7fx0f97ENi",
        "outputId": "8192c0d6-a277-450a-ca71-b04834164391"
      },
      "execution_count": null,
      "outputs": [
        {
          "name": "stdout",
          "output_type": "stream",
          "text": [
            "ameer\n"
          ]
        }
      ]
    },
    {
      "cell_type": "code",
      "source": [
        "a=int(input(\"Enter the number : \")) #example of type conversion\n",
        "print(\"Square of \", a, \" is : \", a**2)\n"
      ],
      "metadata": {
        "colab": {
          "base_uri": "https://localhost:8080/"
        },
        "id": "tZ-DnXtE7MUa",
        "outputId": "ebd80d3b-ef1f-49f1-dba2-463297f2a4b5"
      },
      "execution_count": null,
      "outputs": [
        {
          "output_type": "stream",
          "name": "stdout",
          "text": [
            "Enter the number : 3\n",
            "Square of  3  is :  9\n"
          ]
        }
      ]
    },
    {
      "cell_type": "markdown",
      "source": [
        "## Print function\n"
      ],
      "metadata": {
        "id": "m4j2OBgX85lZ"
      }
    },
    {
      "cell_type": "code",
      "source": [
        "# Printing multiple values in the same print statement\n",
        "print(\"Ameer\", \"Salam\", \"Danish\", 21, 23, 20, 99.87, 78.45, 67.65)"
      ],
      "metadata": {
        "colab": {
          "base_uri": "https://localhost:8080/"
        },
        "id": "1h2v_R769KtO",
        "outputId": "b6a5ebd5-7344-4d88-9e55-42150733a634"
      },
      "execution_count": null,
      "outputs": [
        {
          "output_type": "stream",
          "name": "stdout",
          "text": [
            "Ameer Salam Danish 21 23 20 99.87 78.45 67.65\n"
          ]
        }
      ]
    },
    {
      "cell_type": "code",
      "source": [
        "#the objects above in the print statement are printed with a space\n",
        "print?\n",
        "#in every print() statement, by default we have the seperator ' ' and '\\n' at end line\n",
        "#unsing Sererator function\n",
        "print(\"Ameer\", \"Salam\", \"Danish\", 21, 23, 20, 99.87, 78.45, 67.65, sep='\\n')"
      ],
      "metadata": {
        "colab": {
          "base_uri": "https://localhost:8080/"
        },
        "id": "v1Wh81KZ9coZ",
        "outputId": "aacc9576-5b8d-4bdb-ed8d-045a16076c85"
      },
      "execution_count": null,
      "outputs": [
        {
          "output_type": "stream",
          "name": "stdout",
          "text": [
            "Ameer\n",
            "Salam\n",
            "Danish\n",
            "21\n",
            "23\n",
            "20\n",
            "99.87\n",
            "78.45\n",
            "67.65\n"
          ]
        }
      ]
    },
    {
      "cell_type": "code",
      "source": [
        "print(\"Ameer\", 21)\n",
        "#after applyong seperator\n",
        "print(\"Ameer\", 21, sep='->')"
      ],
      "metadata": {
        "colab": {
          "base_uri": "https://localhost:8080/"
        },
        "id": "1FHOvYpbBlKf",
        "outputId": "80cdaa5f-5b18-4093-aaed-f86d6ed8eeb1"
      },
      "execution_count": null,
      "outputs": [
        {
          "output_type": "stream",
          "name": "stdout",
          "text": [
            "Ameer 21\n",
            "Ameer->21\n"
          ]
        }
      ]
    },
    {
      "cell_type": "code",
      "source": [
        "#chaning the end line in print()\n",
        "print(\"Ameer\", \"Salam\", \"Danish\", 21, 23, 20, 99.87, 78.45, 67.65, sep=' ->> ', end='\\t->\\t')\n",
        "print(\"Printed after the first STATEMENT\")"
      ],
      "metadata": {
        "colab": {
          "base_uri": "https://localhost:8080/"
        },
        "id": "FxgnYGB-B8uY",
        "outputId": "3276a900-9c76-437b-aa53-eecc1f480f7c"
      },
      "execution_count": null,
      "outputs": [
        {
          "output_type": "stream",
          "name": "stdout",
          "text": [
            "Ameer ->> Salam ->> Danish ->> 21 ->> 23 ->> 20 ->> 99.87 ->> 78.45 ->> 67.65\t->\tPrinted after the first STATEMENT\n"
          ]
        }
      ]
    },
    {
      "cell_type": "markdown",
      "source": [
        "## Operators in Python\n",
        "* Epression is a combinition of operator (+/-/*) and operand(a,b,c)\n"
      ],
      "metadata": {
        "id": "3LM8jOoWoKug"
      }
    },
    {
      "cell_type": "markdown",
      "source": [
        "### Arithematic Operators"
      ],
      "metadata": {
        "id": "4XkY_mQuqzwT"
      }
    },
    {
      "cell_type": "code",
      "source": [
        "#mathematic operators\n",
        "a=5\n",
        "b=3\n",
        "\n",
        "print(a+b)\n",
        "print(a-b)\n",
        "print(a/b) #division operator will alwasy yeild float values\n",
        "print(a*b) #python prints the last value automatically(implicitly)\n",
        "\n",
        "first='Ameer '\n",
        "last='Salam'\n",
        "fullname=first+last #no string multiplication, subtraction and division\n",
        "print(fullname)\n",
        "print(fullname*3)"
      ],
      "metadata": {
        "colab": {
          "base_uri": "https://localhost:8080/"
        },
        "id": "3m6jqH5Eoezd",
        "outputId": "e69bd926-aac7-4e15-ae44-22a6832d2b24"
      },
      "execution_count": 6,
      "outputs": [
        {
          "output_type": "stream",
          "name": "stdout",
          "text": [
            "8\n",
            "2\n",
            "1.6666666666666667\n",
            "15\n",
            "Ameer Salam\n",
            "('Ameer Salam', '\\t', 'Ameer Salam', '\\t', 'Ameer Salam', '\\t')\n"
          ]
        }
      ]
    },
    {
      "cell_type": "code",
      "source": [
        "#modulo operator\n",
        "#modulo operator yeilds REMINDER\n",
        "\n",
        "a=50\n",
        "b=5\n",
        "print(\"Performing Division Operator : \", a/b)\n",
        "print(\"Performing Modulo Operator : \", a%b)"
      ],
      "metadata": {
        "colab": {
          "base_uri": "https://localhost:8080/"
        },
        "id": "kUTbkJA9paXf",
        "outputId": "ac50c4be-78c1-4908-8426-af5884f0f631"
      },
      "execution_count": 7,
      "outputs": [
        {
          "output_type": "stream",
          "name": "stdout",
          "text": [
            "Performing Division Operator :  10.0\n",
            "Performing Modulo Operator :  0\n"
          ]
        }
      ]
    },
    {
      "cell_type": "code",
      "source": [
        "#floor division operator\n",
        "#floor division yeilds neartest integer value\n",
        "\n",
        "a=8\n",
        "b=3\n",
        "print(\"Performing Division : \", a/b)\n",
        "print(\"Performing Floor Division // : \", a//b)"
      ],
      "metadata": {
        "colab": {
          "base_uri": "https://localhost:8080/"
        },
        "id": "XTfVMS5op-hP",
        "outputId": "599f19d6-55a4-4cc7-ac4b-2054ecda3f1d"
      },
      "execution_count": 12,
      "outputs": [
        {
          "output_type": "stream",
          "name": "stdout",
          "text": [
            "Performing Division :  2.6666666666666665\n",
            "Performing Floor Division // :  2\n"
          ]
        }
      ]
    },
    {
      "cell_type": "code",
      "source": [
        "#power operator\n",
        "a=5\n",
        "b=3\n",
        "\n",
        "print(a, b, sep=\"\\n\")\n",
        "print(\"5 to the power of 3 is : \", a**b, end=\"\\n\")"
      ],
      "metadata": {
        "colab": {
          "base_uri": "https://localhost:8080/"
        },
        "id": "YW3bmsVBqX0P",
        "outputId": "c25a6a7a-4792-4221-9072-7e3a057ed893"
      },
      "execution_count": 18,
      "outputs": [
        {
          "output_type": "stream",
          "name": "stdout",
          "text": [
            "5\n",
            "3\n",
            "5 to the power of 3 is :  125\n"
          ]
        }
      ]
    },
    {
      "cell_type": "markdown",
      "source": [
        "### Comparision Operattors\n",
        "* it always return boolean value\n",
        "* some of the Comparission operators are:\n",
        "  * *==*\n",
        "  * *>=*\n",
        "  * <=\n",
        "  * *!=*\n",
        "  * *>*\n",
        "  * *>*"
      ],
      "metadata": {
        "id": "magSPOOzq6fW"
      }
    },
    {
      "cell_type": "markdown",
      "source": [
        "### Assignment operator\n",
        "* \"=\"\n",
        "* \"+=\"\n",
        "* \"-=\"\n",
        "* \"/=\"\n",
        "* \"*=\"\n",
        "\n",
        "\n",
        "\n"
      ],
      "metadata": {
        "id": "oKkSh5RVxlXu"
      }
    },
    {
      "cell_type": "code",
      "source": [
        "a=3\n",
        "print(a)"
      ],
      "metadata": {
        "colab": {
          "base_uri": "https://localhost:8080/"
        },
        "id": "_DR7mhv5xuHV",
        "outputId": "629159c6-8279-48f6-871a-77936e33b6fb"
      },
      "execution_count": 19,
      "outputs": [
        {
          "output_type": "stream",
          "name": "stdout",
          "text": [
            "3\n"
          ]
        }
      ]
    },
    {
      "cell_type": "code",
      "source": [
        "#a=a+3 can also be written as\n",
        "\n",
        "a=3\n",
        "a+=3\n",
        "print(a)\n",
        "\n",
        "a-=3\n",
        "print(a)\n",
        "\n",
        "a/=3\n",
        "print(a)\n",
        "\n",
        "b=9\n",
        "b*=3\n",
        "print(b)"
      ],
      "metadata": {
        "colab": {
          "base_uri": "https://localhost:8080/"
        },
        "id": "LC-rPminxw7O",
        "outputId": "23c8ce31-d36e-4829-e416-db76a039e289"
      },
      "execution_count": 28,
      "outputs": [
        {
          "output_type": "stream",
          "name": "stdout",
          "text": [
            "6\n",
            "3\n",
            "1.0\n",
            "27\n"
          ]
        }
      ]
    },
    {
      "cell_type": "markdown",
      "source": [
        "### Logical Operators\n",
        "* takes in boolean and gives boolean values\n",
        "\n",
        "* and\n",
        "* or\n",
        "* not\n",
        "\n",
        "\n",
        "1. **AND Truth Table**:\n",
        "\n",
        "| A   | B   | A AND B |\n",
        "| --- | --- | ------- |\n",
        "| False | False | False   |\n",
        "| False | True  | False   |\n",
        "| True  | False | False   |\n",
        "| True  | True  | True    |\n",
        "\n",
        "In the AND operation, the result is true only if both A and B are true.\n",
        "\n",
        "2. **OR Truth Table**:\n",
        "\n",
        "| A   | B   | A OR B  |\n",
        "| --- | --- | ------- |\n",
        "| False | False | False   |\n",
        "| False | True  | True    |\n",
        "| True  | False | True    |\n",
        "| True  | True  | True    |\n",
        "\n",
        "In the OR operation, the result is true if at least one of A or B is true.\n",
        "\n",
        "3. **NOT Truth Table**:\n",
        "\n",
        "| A   | NOT A |\n",
        "| --- | ----- |\n",
        "| False | True  |\n",
        "| True  | False |\n",
        "\n",
        "In the NOT operation, the result is the opposite of the input value.\n"
      ],
      "metadata": {
        "id": "BlyO7orAyj0t"
      }
    },
    {
      "cell_type": "markdown",
      "source": [
        "### Special Operators\n",
        "\n",
        "1. **Identity Operator**\n",
        "  * is\n",
        "  * not is\n",
        "2. **Membership Operator**\n",
        "  * in - finds specified value\n",
        "  * not in\n",
        "3. **Bitwise Operator**\n",
        "  * & - Bitwise AND\n",
        "  * | - Bitwise OR\n",
        "  * ^ - Bitwise XOR\n",
        "  * '' - Bitwise NOT\n",
        "  * << - Left shift\n",
        "  * >> - Right shift"
      ],
      "metadata": {
        "id": "RMAIIAro02E6"
      }
    },
    {
      "cell_type": "code",
      "source": [
        "name = \"Ameer Salam\""
      ],
      "metadata": {
        "id": "wPPOD-231v86"
      },
      "execution_count": 29,
      "outputs": []
    },
    {
      "cell_type": "code",
      "source": [
        "print(\"z\" in name)\n",
        "print(\"S\" in name)"
      ],
      "metadata": {
        "colab": {
          "base_uri": "https://localhost:8080/"
        },
        "id": "GtSwwhCI15KD",
        "outputId": "0f1889b8-7096-4fc9-9fb2-971d3cea1338"
      },
      "execution_count": 35,
      "outputs": [
        {
          "output_type": "stream",
          "name": "stdout",
          "text": [
            "False\n",
            "True\n"
          ]
        }
      ]
    },
    {
      "cell_type": "code",
      "source": [
        "print(\"z\" not in name)\n",
        "print(\"S\" not in name)"
      ],
      "metadata": {
        "colab": {
          "base_uri": "https://localhost:8080/"
        },
        "id": "2cH2gQs52OJi",
        "outputId": "5c055bb9-4020-49d7-d5f2-ec28185a3a7b"
      },
      "execution_count": 36,
      "outputs": [
        {
          "output_type": "stream",
          "name": "stdout",
          "text": [
            "True\n",
            "False\n"
          ]
        }
      ]
    },
    {
      "cell_type": "code",
      "source": [
        "print((\"Z\" in name) is False)\n",
        "print((\"A\" in name) is False)"
      ],
      "metadata": {
        "colab": {
          "base_uri": "https://localhost:8080/"
        },
        "id": "GYikNs5W2Xd6",
        "outputId": "e015ebd1-22c9-441b-88a1-1fae290d66a0"
      },
      "execution_count": 41,
      "outputs": [
        {
          "output_type": "stream",
          "name": "stdout",
          "text": [
            "True\n",
            "False\n"
          ]
        }
      ]
    },
    {
      "cell_type": "code",
      "source": [
        "a=5\n",
        "b=a\n",
        "c=10\n",
        "aAdd=id(a)\n",
        "bAdd=id(b)\n",
        "cAdd=id(c)\n",
        "\n",
        "print(\"Is A and B refering to same object : \", a is b)\n",
        "print(\"Is A and C refering to same object : \", a is c)"
      ],
      "metadata": {
        "colab": {
          "base_uri": "https://localhost:8080/"
        },
        "id": "1AC93sWK2_Pp",
        "outputId": "49b236a4-b6e3-40b5-ec7c-a4d0b8951a9d"
      },
      "execution_count": 43,
      "outputs": [
        {
          "output_type": "stream",
          "name": "stdout",
          "text": [
            "Is A and B refering to same object :  True\n",
            "Is A and C refering to same object :  False\n"
          ]
        }
      ]
    },
    {
      "cell_type": "markdown",
      "source": [
        "## Control Flow Statements\n",
        "Taking decission based on certain conditions\n",
        "\n",
        "1. **Conditional Statements** - if, if-else, if-elif-else\n",
        "2. **loops** - for, while\n",
        "3. **loop control statements** - break, continue, pass\n",
        "5. **Exception Handline** - try-except, try-except-finally"
      ],
      "metadata": {
        "id": "XrssqOLiUauk"
      }
    },
    {
      "cell_type": "code",
      "source": [
        "#if-else condition\n",
        "\n",
        "age=int(input(\"Enter your age\"))\n",
        "if(age>18):\n",
        "  print(\"You can drive a car!\")\n",
        "else:\n",
        "  print(\"You cannot drive a car\")"
      ],
      "metadata": {
        "colab": {
          "base_uri": "https://localhost:8080/"
        },
        "id": "kSC4HBsrVvXv",
        "outputId": "9b5affe8-2970-4027-cc65-e6f5604f0e7c"
      },
      "execution_count": 3,
      "outputs": [
        {
          "output_type": "stream",
          "name": "stdout",
          "text": [
            "Enter your age3\n",
            "You cannot drive a car\n"
          ]
        }
      ]
    },
    {
      "cell_type": "code",
      "source": [
        "#if-elif-else condition\n",
        "\n",
        "age=int(input(\"Enter your age\"))\n",
        "if(age>18):\n",
        "  print(\"You can drive a car!\")\n",
        "elif(age>=16 & age<18):\n",
        "  print(\"You can drive a car. But, with elders only!\")\n",
        "else:\n",
        "  print(\"You cannot drive a car\")"
      ],
      "metadata": {
        "colab": {
          "base_uri": "https://localhost:8080/"
        },
        "id": "ScJ5Kj-IWLDZ",
        "outputId": "70344506-f7c3-49cf-fbee-3395aa9712aa"
      },
      "execution_count": 5,
      "outputs": [
        {
          "output_type": "stream",
          "name": "stdout",
          "text": [
            "Enter your age16\n",
            "You can drive a car. But, with elders only!\n"
          ]
        }
      ]
    }
  ]
}