{
  "nbformat": 4,
  "nbformat_minor": 0,
  "metadata": {
    "colab": {
      "provenance": [],
      "authorship_tag": "ABX9TyOt2VAcC1qHMeOZVW0PsUjv",
      "include_colab_link": true
    },
    "kernelspec": {
      "name": "python3",
      "display_name": "Python 3"
    },
    "language_info": {
      "name": "python"
    }
  },
  "cells": [
    {
      "cell_type": "markdown",
      "metadata": {
        "id": "view-in-github",
        "colab_type": "text"
      },
      "source": [
        "<a href=\"https://colab.research.google.com/github/ameer-salam/Notes/blob/main/Python.ipynb\" target=\"_parent\"><img src=\"https://colab.research.google.com/assets/colab-badge.svg\" alt=\"Open In Colab\"/></a>"
      ]
    },
    {
      "cell_type": "markdown",
      "source": [
        "# Python\n",
        "Python is a general purpose Programming language. It's Design philosophy emphasisi code redability\n",
        "* it was developed by Guido van Rossum in 1993\n",
        "\n",
        "## Advantages of Python\n",
        "1. Easy to code,\n",
        "2. Improved productivity,\n",
        "3. Vast libraries\n",
        "4. Career opportunities\n",
        "5. used in many fields\n",
        "\n",
        "How Youtube is using python - VIdeo recommendation, Personalised Ads and content.\n",
        "\n",
        "## Fields Python is used\n",
        "1. AI and ML\n",
        "2. Data analytics\n",
        "3. Programming apps,\n",
        "4. web developement\n",
        "5. Game developement\n",
        "\n",
        "## Module wise topics are :\n",
        "- [ ]  Introduction\n",
        "- [] Installation\n",
        "- [] Python Fundamentals\n",
        "- [] Print functions\n",
        "- [] Operators and Expressions\n",
        "- [] Control FLow\n",
        "- [] Loops\n",
        "- [] Strings\n",
        "- [] Lists\n"
      ],
      "metadata": {
        "id": "dGGkJSjPopP1"
      }
    }
  ]
}