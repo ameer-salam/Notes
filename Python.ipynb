{
  "nbformat": 4,
  "nbformat_minor": 0,
  "metadata": {
    "colab": {
      "provenance": [],
      "authorship_tag": "ABX9TyMd0mlqEZ10722HMnupe4ei",
      "include_colab_link": true
    },
    "kernelspec": {
      "name": "python3",
      "display_name": "Python 3"
    },
    "language_info": {
      "name": "python"
    }
  },
  "cells": [
    {
      "cell_type": "markdown",
      "metadata": {
        "id": "view-in-github",
        "colab_type": "text"
      },
      "source": [
        "<a href=\"https://colab.research.google.com/github/ameer-salam/Notes/blob/main/Python.ipynb\" target=\"_parent\"><img src=\"https://colab.research.google.com/assets/colab-badge.svg\" alt=\"Open In Colab\"/></a>"
      ]
    },
    {
      "cell_type": "markdown",
      "source": [
        "# Python\n",
        "Python is a general purpose Programming language. It's Design philosophy emphasisi code redability\n",
        "* it was developed by Guido van Rossum in 1993\n",
        "\n",
        "## Advantages of Python\n",
        "1. Easy to code,\n",
        "2. Improved productivity,\n",
        "3. Vast libraries\n",
        "4. Career opportunities\n",
        "5. used in many fields\n",
        "\n",
        "How Youtube is using python - VIdeo recommendation, Personalised Ads and content.\n",
        "\n",
        "## Fields Python is used\n",
        "1. AI and ML\n",
        "2. Data analytics\n",
        "3. Programming apps,\n",
        "4. web developement\n",
        "5. Game developement\n",
        "\n",
        "## Module wise topics are :\n",
        "- [ ]  Introduction\n",
        "- [ ] Installation\n",
        "- [ ] Python Fundamentals\n",
        "- [ ] Print functions\n",
        "- [ ] Operators and Expressions\n",
        "- [ ] Control FLow\n",
        "- [ ] Loops\n",
        "- [ ] Strings\n",
        "- [ ] Lists\n",
        "- [ ] Tuples\n",
        "- [ ] Dictionaries\n",
        "- [ ] Sets\n",
        "- [ ] Python Functions\n",
        "- [ ] OOPs\n",
        "- [ ] File Handling\n",
        "- [ ] Errors & Exception Handling\n",
        "\n"
      ],
      "metadata": {
        "id": "dGGkJSjPopP1"
      }
    },
    {
      "cell_type": "markdown",
      "source": [
        "## Module 3 - Basic Fundamentals of Python"
      ],
      "metadata": {
        "id": "LWQITZors27I"
      }
    },
    {
      "cell_type": "code",
      "source": [
        "#print statement\n",
        "print(\"Hello World!\")"
      ],
      "metadata": {
        "colab": {
          "base_uri": "https://localhost:8080/"
        },
        "id": "y5z6A7srs6sR",
        "outputId": "8494864c-84a8-4d02-9f7b-af185166cce4"
      },
      "execution_count": 1,
      "outputs": [
        {
          "output_type": "stream",
          "name": "stdout",
          "text": [
            "Hello World!\n"
          ]
        }
      ]
    }
  ]
}