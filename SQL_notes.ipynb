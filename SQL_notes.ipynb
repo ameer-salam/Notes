{
  "nbformat": 4,
  "nbformat_minor": 0,
  "metadata": {
    "colab": {
      "provenance": [],
      "authorship_tag": "ABX9TyMgI8R7C5u7VIOO/ifonJ/s",
      "include_colab_link": true
    },
    "kernelspec": {
      "name": "python3",
      "display_name": "Python 3"
    },
    "language_info": {
      "name": "python"
    }
  },
  "cells": [
    {
      "cell_type": "markdown",
      "metadata": {
        "id": "view-in-github",
        "colab_type": "text"
      },
      "source": [
        "<a href=\"https://colab.research.google.com/github/ameer-salam/Notes/blob/main/SQL_notes.ipynb\" target=\"_parent\"><img src=\"https://colab.research.google.com/assets/colab-badge.svg\" alt=\"Open In Colab\"/></a>"
      ]
    },
    {
      "cell_type": "markdown",
      "source": [
        "# Confugiering Google colab for MySQL\n",
        "1. Install the `PyMySQL` library\n",
        "  this library helps you connect to interact with MySQL databases from Python code.\n",
        "2. Load the `SQL` extension\n",
        "  this helps you to run the SQL queires girectly in the notebook cells."
      ],
      "metadata": {
        "id": "9C_qKGjqM9vn"
      }
    },
    {
      "cell_type": "code",
      "execution_count": null,
      "metadata": {
        "colab": {
          "base_uri": "https://localhost:8080/"
        },
        "id": "sB0B5DgTH9Rx",
        "outputId": "31106cc2-596e-4f3e-873f-eebde63e99d7"
      },
      "outputs": [
        {
          "output_type": "stream",
          "name": "stdout",
          "text": [
            "Collecting pymysql\n",
            "  Downloading PyMySQL-1.1.1-py3-none-any.whl (44 kB)\n",
            "\u001b[?25l     \u001b[90m━━━━━━━━━━━━━━━━━━━━━━━━━━━━━━━━━━━━━━━━\u001b[0m \u001b[32m0.0/45.0 kB\u001b[0m \u001b[31m?\u001b[0m eta \u001b[36m-:--:--\u001b[0m\r\u001b[2K     \u001b[90m━━━━━━━━━━━━━━━━━━━━━━━━━━━━━━━━━━━━━━━━\u001b[0m \u001b[32m45.0/45.0 kB\u001b[0m \u001b[31m1.2 MB/s\u001b[0m eta \u001b[36m0:00:00\u001b[0m\n",
            "\u001b[?25hInstalling collected packages: pymysql\n",
            "Successfully installed pymysql-1.1.1\n"
          ]
        }
      ],
      "source": [
        "!pip install pymysql"
      ]
    },
    {
      "cell_type": "code",
      "source": [
        "%load_ext sql"
      ],
      "metadata": {
        "id": "Yg3dhf_sMTnE"
      },
      "execution_count": null,
      "outputs": []
    },
    {
      "cell_type": "markdown",
      "source": [
        "# Introduction to DBMS\n",
        "* DBMS is used to for a databases like - MySQL, Oracle, MongoDB, etc.\n",
        "* it is used to create, update, and delete DM in an organised manner,\n",
        "* Key features of of DBMS are:\n",
        "1. Data modeling,\n",
        "2. Data Storage and Retrival,\n",
        "3. Data backup and Recovery,\n",
        "4. Concurancy control,\n",
        "5. Data intigrity and security.\n",
        "\n",
        "* Types of DataBases\n",
        "1. Relational Database\n",
        "2. Non-Realational DataBase\n",
        "\n"
      ],
      "metadata": {
        "id": "wr4HQS5uORiy"
      }
    },
    {
      "cell_type": "markdown",
      "source": [
        "## Database Languages\n",
        "\n",
        "1. Data Definition Language,\n",
        "2. Data Manipulation Language,\n",
        "3. Data Control Language,\n",
        "4. Transaction Control Language.\n",
        "\n",
        "### Data Definition Language (**DDL**)\n",
        "it is used to define the discription and Schema of the Database, and how the data should reside in the Database\n",
        "example of DDL commands are:\n",
        "1. `CREATE` - create a database and add its objects (tables, index, views, functions, etc)\n",
        "2. `ALTER` - Altert the existing database,\n",
        "3. `DROP` - delete an object from the database,\n",
        "4. `TRUNCATE` - remove all the records from a table,\n",
        "5. `COMMENT` - add comment to the data dictionary\n",
        "6. `RENAME` - rename an object\n",
        "\n",
        "\n",
        "### Data Manipulation Language (**DML**)\n",
        "it is used for data manipulation and includes most common SQL statements like `SELECT`, `INSERT`, `UPDATE`, `DELETE`, `MERGE`, `CALL`, `EXPLAIN PLAN`, `LOCK TABLE`.\n",
        "\n",
        "### Data Control Language (**DCL**)\n",
        "this is used as the access specifier to the Database, and used to revoke the permissios to users in the database.\n",
        "the statements are - `GRANT`, `REVOKE`\n",
        "\n",
        "### Transaction Control Language (**TCL**)\n",
        "this is used to manage all types of trasactional data and all treansactions\n",
        "the commands are - `COMMIT`, `ROLL BACK`, `SAVE POINT`\n"
      ],
      "metadata": {
        "id": "3JVO97IbPTQB"
      }
    },
    {
      "cell_type": "markdown",
      "source": [
        "## Database management systems\n",
        "The DBMS are the softwares which are used to manage the databases like Oracle, MongoDB, mySQL, etc\n",
        "\n",
        "DBMS allows the following:\n",
        "1. Data Definition,\n",
        "2. Data Updation,\n",
        "3. Data Retrival,\n",
        "4. User administraton."
      ],
      "metadata": {
        "id": "6lNS6CZpYrVn"
      }
    },
    {
      "cell_type": "markdown",
      "source": [
        "## Why not use a Simple File System Instead of a DBMS?\n",
        "\n",
        "Although a DBMS ultimately stores data in files, it offers several advantages over traditional file systems:\n",
        "\n",
        "1. **Querying**: Provides powerful query capabilities to retrieve and manipulate data efficiently.\n",
        "2. **Storage and Indexing**: Efficiently stores and indexes data, making retrieval faster and more efficient.\n",
        "3. **Data Structures**: Builds specialized data structures internally to optimize data access and management.\n",
        "4. **Data Redundancy**: Minimizes repeated storage of data, reducing redundancy.\n",
        "5. **Data Consistency**: Maintains consistency by ensuring that interconnected data is accurately related, which is not readily achievable in traditional file systems.\n",
        "6. **Data Independence**: Hides low-level details from users, allowing them to interact with data without concerning themselves with how it is stored or maintained.\n",
        "7. **Security and Access Control**: Provides robust mechanisms for securing data and controlling access to ensure that only authorized users can access or modify data.\n",
        "8. **Abstraction and Ease of Use**: Offers various levels of data abstraction, making it easier to manage, understand, and manipulate data.\n"
      ],
      "metadata": {
        "id": "VDIWO94hZYnX"
      }
    },
    {
      "cell_type": "markdown",
      "source": [
        "## Tables, Keys and Schemas\n",
        "1. Realtional Databases - The most popular one (Table = Relation)\n",
        "* **Tables** - is a set of **Rows**(Tuples/Records) and **Columnns**(Fields/Attributes)\n",
        "* **Instance** - is a set oof tuples/row + table structure,\n",
        "* **Key** - a minimum set of attributes to *Uniquely* idetify a row/tuple (eample - custID)\n",
        "  * **Simpl key** - key with only one attribute,\n",
        "  * **Compound key** - key with multiple attributes.\n",
        "  * **Candidate key** -"
      ],
      "metadata": {
        "id": "jMbDaiq-rKrh"
      }
    }
  ]
}