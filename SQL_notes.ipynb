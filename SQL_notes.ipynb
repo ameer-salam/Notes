{
  "nbformat": 4,
  "nbformat_minor": 0,
  "metadata": {
    "colab": {
      "provenance": [],
      "toc_visible": true,
      "authorship_tag": "ABX9TyMC0JGdhP3AFqHCefJnTJjO",
      "include_colab_link": true
    },
    "kernelspec": {
      "name": "python3",
      "display_name": "Python 3"
    },
    "language_info": {
      "name": "python"
    }
  },
  "cells": [
    {
      "cell_type": "markdown",
      "metadata": {
        "id": "view-in-github",
        "colab_type": "text"
      },
      "source": [
        "<a href=\"https://colab.research.google.com/github/ameer-salam/Notes/blob/main/SQL_notes.ipynb\" target=\"_parent\"><img src=\"https://colab.research.google.com/assets/colab-badge.svg\" alt=\"Open In Colab\"/></a>"
      ]
    },
    {
      "cell_type": "markdown",
      "source": [
        "# Confugering Google colab for MySQL\n",
        "1. Install the `PyMySQL` library\n",
        "  this library helps you connect to interact with MySQL databases from Python code.\n",
        "2. Load the `SQL` extension\n",
        "  this helps you to run the SQL queires girectly in the notebook cells."
      ],
      "metadata": {
        "id": "9C_qKGjqM9vn"
      }
    },
    {
      "cell_type": "code",
      "execution_count": null,
      "metadata": {
        "colab": {
          "base_uri": "https://localhost:8080/"
        },
        "id": "sB0B5DgTH9Rx",
        "outputId": "31106cc2-596e-4f3e-873f-eebde63e99d7"
      },
      "outputs": [
        {
          "output_type": "stream",
          "name": "stdout",
          "text": [
            "Collecting pymysql\n",
            "  Downloading PyMySQL-1.1.1-py3-none-any.whl (44 kB)\n",
            "\u001b[?25l     \u001b[90m━━━━━━━━━━━━━━━━━━━━━━━━━━━━━━━━━━━━━━━━\u001b[0m \u001b[32m0.0/45.0 kB\u001b[0m \u001b[31m?\u001b[0m eta \u001b[36m-:--:--\u001b[0m\r\u001b[2K     \u001b[90m━━━━━━━━━━━━━━━━━━━━━━━━━━━━━━━━━━━━━━━━\u001b[0m \u001b[32m45.0/45.0 kB\u001b[0m \u001b[31m1.2 MB/s\u001b[0m eta \u001b[36m0:00:00\u001b[0m\n",
            "\u001b[?25hInstalling collected packages: pymysql\n",
            "Successfully installed pymysql-1.1.1\n"
          ]
        }
      ],
      "source": [
        "!pip install pymysql"
      ]
    },
    {
      "cell_type": "code",
      "source": [
        "%load_ext sql"
      ],
      "metadata": {
        "id": "Yg3dhf_sMTnE"
      },
      "execution_count": null,
      "outputs": []
    },
    {
      "cell_type": "markdown",
      "source": [
        "# Introduction to DBMS\n",
        "* DBMS is used to for a databases like - MySQL, Oracle, MongoDB, etc.\n",
        "* it is used to create, update, and delete DM in an organised manner,\n",
        "* Key features of of DBMS are:\n",
        "1. Data modeling,\n",
        "2. Data Storage and Retrival,\n",
        "3. Data backup and Recovery,\n",
        "4. Concurancy control,\n",
        "5. Data intigrity and security.\n",
        "\n",
        "* Types of DataBases\n",
        "1. Relational Database\n",
        "2. Non-Realational DataBase\n",
        "\n"
      ],
      "metadata": {
        "id": "wr4HQS5uORiy"
      }
    },
    {
      "cell_type": "markdown",
      "source": [
        "## Database Languages\n",
        "\n",
        "1. Data Definition Language,\n",
        "2. Data Manipulation Language,\n",
        "3. Data Control Language,\n",
        "4. Transaction Control Language.\n",
        "\n",
        "### Data Definition Language (**DDL**)\n",
        "it is used to define the discription and Schema of the Database, and how the data should reside in the Database\n",
        "example of DDL commands are:\n",
        "1. `CREATE` - create a database and add its objects (tables, index, views, functions, etc)\n",
        "2. `ALTER` - Altert the existing database,\n",
        "3. `DROP` - delete an object from the database,\n",
        "4. `TRUNCATE` - remove all the records from a table,\n",
        "5. `COMMENT` - add comment to the data dictionary\n",
        "6. `RENAME` - rename an object\n",
        "\n",
        "\n",
        "### Data Manipulation Language (**DML**)\n",
        "it is used for data manipulation and includes most common SQL statements like `SELECT`, `INSERT`, `UPDATE`, `DELETE`, `MERGE`, `CALL`, `EXPLAIN PLAN`, `LOCK TABLE`.\n",
        "\n",
        "### Data Control Language (**DCL**)\n",
        "this is used as the access specifier to the Database, and used to revoke the permissios to users in the database.\n",
        "the statements are - `GRANT`, `REVOKE`\n",
        "\n",
        "### Transaction Control Language (**TCL**)\n",
        "this is used to manage all types of trasactional data and all treansactions\n",
        "the commands are - `COMMIT`, `ROLL BACK`, `SAVE POINT`\n"
      ],
      "metadata": {
        "id": "3JVO97IbPTQB"
      }
    },
    {
      "cell_type": "markdown",
      "source": [
        "## Database management systems\n",
        "The DBMS are the softwares which are used to manage the databases like Oracle, MongoDB, mySQL, etc\n",
        "\n",
        "DBMS allows the following:\n",
        "1. Data Definition,\n",
        "2. Data Updation,\n",
        "3. Data Retrival,\n",
        "4. User administraton."
      ],
      "metadata": {
        "id": "6lNS6CZpYrVn"
      }
    },
    {
      "cell_type": "markdown",
      "source": [
        "## Why not use a Simple File System Instead of a DBMS?\n",
        "\n",
        "Although a DBMS ultimately stores data in files, it offers several advantages over traditional file systems:\n",
        "\n",
        "1. **Querying**: Provides powerful query capabilities to retrieve and manipulate data efficiently.\n",
        "2. **Storage and Indexing**: Efficiently stores and indexes data, making retrieval faster and more efficient.\n",
        "3. **Data Structures**: Builds specialized data structures internally to optimize data access and management.\n",
        "4. **Data Redundancy**: Minimizes repeated storage of data, reducing redundancy.\n",
        "5. **Data Consistency**: Maintains consistency by ensuring that interconnected data is accurately related, which is not readily achievable in traditional file systems.\n",
        "6. **Data Independence**: Hides low-level details from users, allowing them to interact with data without concerning themselves with how it is stored or maintained.\n",
        "7. **Security and Access Control**: Provides robust mechanisms for securing data and controlling access to ensure that only authorized users can access or modify data.\n",
        "8. **Abstraction and Ease of Use**: Offers various levels of data abstraction, making it easier to manage, understand, and manipulate data.\n"
      ],
      "metadata": {
        "id": "VDIWO94hZYnX"
      }
    },
    {
      "cell_type": "markdown",
      "source": [
        "## Tables, Keys and Schemas\n",
        "1. Realtional Databases - The most popular one (Table = Relation)\n",
        "* **Tables** - is a set of **Rows**(Tuples/Records) and **Columnns**(Fields/Attributes)\n",
        "* **Instance** - is a set oof tuples/row + table structure,\n",
        "* **Key** - a minimum set of attributes to *Uniquely* idetify a row/tuple (eample - custID)\n",
        "  * **Simpl key** - key with only one attribute,\n",
        "  * **Compound key** - key with multiple attributes.\n",
        "  * **Candidate key** - set of all unique keys, example - `candidate key = {custID, {custName, custAddress}}`\n",
        "  * **Primary Key** - one of the candidate keys, a database administrator uses to maintain uniqueness, *and it cannot be unique and null for any row (atmost one primary key for each table)*\n",
        "  * **Entity/Intigrity constraints** -\n",
        "    - **Unique**: The primary key must be unique across all rows in the table, ensuring no duplicate primary key values.\n",
        "    - **Not NULL**: The primary key cannot contain NULL values, as it must uniquely identify each row(But, other candidate keys can be Null)\n",
        "    - **Exactly One Primary Key**: Each table can have only one primary key, but it can consist of a single column or a combination of columns (composite key).\n",
        "  * **Alternative/Secondary Keys** - simply candidate keys which are not primary keys,\n",
        "  * **Relational Schema** - Relational because we are using tables, and Schema - is a blueprint of the structure which defines the orgnanization of data within a database. (*Table Structure + Intigrity constraints*)\n",
        "  * **Super Key** - is a candidate key UNION any other attribute, example `Super_key={custID} U {custNAME}`\n",
        "  * **Foreign key** - A foreign key is a field (or a combination of fields) in one table that refers to the primary key in another table. It is used to link the two tables together and to ensure data integrity and avoid inconsistencies.\n",
        "  * **Self refrential key** - is a foreign key which is related to the primary key of same table."
      ],
      "metadata": {
        "id": "jMbDaiq-rKrh"
      }
    },
    {
      "cell_type": "markdown",
      "source": [
        "## Integrity Constraints\n",
        "1. **Entity Constraints** - define the set of rules for the primary key (must be unique, must not be null and atmost one key per row)\n",
        "2. **Domain Integrity** - this ensures that the values enterd into a database are valid and consistan according to the predefined criteria.\n",
        "3. **User defined Intigrity** - it is an user defined constraint to meet certain buisness requirements and ensure data accuracy.\n",
        "4. **Refrential Integrity** - related to foreign keys, it contains a Refrence table(to which one table is refrencing) and the Refrencing table(the table which is refreing to the other REFRENCE table)"
      ],
      "metadata": {
        "id": "dGGxZaOarMiP"
      }
    },
    {
      "cell_type": "markdown",
      "source": [
        "## Entity Relationship model and Diagrams (ER Models)\n",
        "* Purpose of ER diagram - is to get a high level picture of all the data you want to store in database.\n",
        "* **Entity** - an any object that can be uniquely identified, and is typically depicted using a rectangle. it can be a physical or a logical item.\n",
        "* **Attribute** - it is a property/feature of an entity, usually represented by an elipse.\n",
        "* **Key attributes** - it is used to uniquely identify each instance of an entity within a database.\n",
        "* **Multivalued attriburtes** - it holds multiple values of an attribute of an entity\n",
        "* **Derived Attributes** - represented by a dotes elipse, Derived attribute means whose value is obtained or calculated form other atttributes and is not stored directly but, is computed.\n",
        "* **Coumpund attributes** - An attributes with other attributes which can be grouped to from the original attribute (Example - name->first->middle->last)\n",
        "\n",
        "\n",
        "\n",
        "* **Relationship** - often represented by a Rhombus/Diamond and are ways(relationships) to connect multiple entities and it can hav its own attributes (example time stamp as an `attribute` of a relationship `Buyer` which is between `Customer` and `Product`)\n",
        "In simple words a relationship is a way to connect multiple entities\n",
        "if plotted in a table, a relationship table will contain the Foreign keys(Primary keys of entities participating in a relationship) and the attributes.\n",
        "\n",
        "* **Relationships : Total and PArtial Participations** - Entities participaintg in a relationship. Total relationships are represented by two lines, and Partial participation by a single line. (Participation - mapping of elements)\n",
        "\n",
        "* **Total and Partial participation**\n",
        "* it is represented using two lines, and default is the partial participation.\n",
        "\n",
        "\n",
        "![ER Diagram shapes](https://imgs.search.brave.com/y0X_izVW2j33kh26imSCzFhx6aolv6xAYBk6NNRlZ7Y/rs:fit:860:0:0:0/g:ce/aHR0cHM6Ly93aGF0/aXNkYm1zLmNvbS93/cC1jb250ZW50L3Vw/bG9hZHMvMjAxNi8w/Ni9Fci1TeW1ib2xz/LWFuZC1Ob3RhdGlv/bnMuanBn)"
      ],
      "metadata": {
        "id": "JIKjHPGj95ld"
      }
    },
    {
      "cell_type": "markdown",
      "source": [
        "## Cardinality of Relationship\n",
        "ther are four cardinalaties of relationships\n",
        "1. **one-to-one,**\n",
        "2. **one-to-many,**\n",
        "3. **many-to-one,**\n",
        "4. **many-to-many.**\n",
        "\n",
        "### Explaination:\n",
        "1. **One-to-one** - each customer has one licence and each licence can be provided by only one user, represented by a single head arrow.\n",
        "2. **one-to-many,** represented using single arrow on the (one)(partial participation) and two lines on the (many relationships)(total participation)\n",
        "3. **many-to-one,** customers can have many credit card but, many credit cards cannot have many users,\n",
        "4. **many-to-many.**"
      ],
      "metadata": {
        "id": "BlBPPMGJf-6I"
      }
    },
    {
      "cell_type": "markdown",
      "source": [
        "## constructing Minimal tables\n",
        "* Tasks to follow during building a table\n",
        "1. Minimize the tables\n",
        "2. Primary key is a must (primary key cannot be null)\n",
        "3. each cell must have only one value associated."
      ],
      "metadata": {
        "id": "yDV4CpBTYH6L"
      }
    },
    {
      "cell_type": "markdown",
      "source": [
        "## Weak and Strong entities\n",
        "1. Weak entities does not have a primary keys\n",
        "2."
      ],
      "metadata": {
        "id": "saZjcp4mieCn"
      }
    }
  ]
}