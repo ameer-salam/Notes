{
  "nbformat": 4,
  "nbformat_minor": 0,
  "metadata": {
    "colab": {
      "provenance": [],
      "authorship_tag": "ABX9TyP0/KF3LJzlHKHxFsrwOuz4",
      "include_colab_link": true
    },
    "kernelspec": {
      "name": "python3",
      "display_name": "Python 3"
    },
    "language_info": {
      "name": "python"
    }
  },
  "cells": [
    {
      "cell_type": "markdown",
      "metadata": {
        "id": "view-in-github",
        "colab_type": "text"
      },
      "source": [
        "<a href=\"https://colab.research.google.com/github/ameer-salam/Notes/blob/main/Salesforce.ipynb\" target=\"_parent\"><img src=\"https://colab.research.google.com/assets/colab-badge.svg\" alt=\"Open In Colab\"/></a>"
      ]
    },
    {
      "cell_type": "markdown",
      "source": [
        "\n",
        "1. On-premisis applications\n",
        "  * Premise -> the device\n",
        "  * Requires pre-installation of the application insisde the local device\n",
        "\n",
        "2. On-Demand applications/Cloud applications\n",
        "  * does not require any pre installation\n",
        "  * requires browser and an internet access\n",
        "\n"
      ],
      "metadata": {
        "id": "N6oEgb3ianZZ"
      }
    },
    {
      "cell_type": "markdown",
      "source": [
        "# Cloud computing\n",
        "* remote server running on the internet which provides IT resources,\n",
        "* Example - server, stroage, database, networking, analytics and intelligence,\n",
        "* renting of IT resources\n",
        "* pay-as-you use model\n",
        "* types of Cloud services:\n",
        "  1. SaaS - Gmail, Salesforcce,\n",
        "  2. Platform as a service (Paas) - Windows, Oracle\n",
        "  3. Infrastructure as a service (Iaas) - Google drive, AWS, Ms Azure\n",
        "\n",
        "\n",
        "Salesforce of is a RAD - Rapid Application developement\n",
        "\n"
      ],
      "metadata": {
        "id": "1GR6rLP-a_62"
      }
    },
    {
      "cell_type": "markdown",
      "source": [
        "# Salesforce\n",
        "* Started in 1999\n",
        "* product based company\n",
        "* cloud-based CRM (Customer relationship management)\n",
        "* It is a hybrid of Saas and Paas\n",
        "* two types of job profiles in salesforce:\n",
        "  * Developer\n",
        "  * Administrator"
      ],
      "metadata": {
        "id": "B9qFoJGJefKI"
      }
    }
  ]
}