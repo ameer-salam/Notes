{
  "nbformat": 4,
  "nbformat_minor": 0,
  "metadata": {
    "colab": {
      "provenance": [],
      "authorship_tag": "ABX9TyOFOUBSKWDWuoXoju69jodL",
      "include_colab_link": true
    },
    "kernelspec": {
      "name": "python3",
      "display_name": "Python 3"
    },
    "language_info": {
      "name": "python"
    }
  },
  "cells": [
    {
      "cell_type": "markdown",
      "metadata": {
        "id": "view-in-github",
        "colab_type": "text"
      },
      "source": [
        "<a href=\"https://colab.research.google.com/github/ameer-salam/Notes/blob/main/Untitled1.ipynb\" target=\"_parent\"><img src=\"https://colab.research.google.com/assets/colab-badge.svg\" alt=\"Open In Colab\"/></a>"
      ]
    },
    {
      "cell_type": "code",
      "execution_count": 1,
      "metadata": {
        "colab": {
          "base_uri": "https://localhost:8080/"
        },
        "id": "r_JcTuRlIeNt",
        "outputId": "3776d7c3-85b2-4c66-dc3c-6831c06915c4"
      },
      "outputs": [
        {
          "output_type": "stream",
          "name": "stdout",
          "text": [
            "Orginal array is : [1 2 3 4]\n",
            "Test if none of the element of the said arrays is zero: True\n",
            "Original array is : [0 1 2 3]\n",
            "Test if none of the elements of the said arrays is zero: False\n"
          ]
        }
      ],
      "source": [
        "import numpy as np\n",
        "x=np.array([1,2,3,4])\n",
        "print(f\"Orginal array is : {x}\")\n",
        "print(f\"Test if none of the element of the said arrays is zero: {np.all(x)}\")\n",
        "x=np.array([0,1,2,3])\n",
        "print(f\"Original array is : {x}\")\n",
        "print(f\"Test if none of the elements of the said arrays is zero: {np.all(x)}\")"
      ]
    },
    {
      "cell_type": "code",
      "source": [
        "import numpy as np\n",
        "a=np.array([1,0,np.nan, np.inf])\n",
        "print(f\"Original array L {a}\")\n",
        "print(\"Test the elementwise for Nan:\")\n",
        "print(np.isnan(a))"
      ],
      "metadata": {
        "colab": {
          "base_uri": "https://localhost:8080/"
        },
        "id": "bUtcLT0vIsIB",
        "outputId": "d2211750-2475-4ef4-c803-7cbf1dcfba6f"
      },
      "execution_count": 3,
      "outputs": [
        {
          "output_type": "stream",
          "name": "stdout",
          "text": [
            "Original array L [ 1.  0. nan inf]\n",
            "Test the elementwise for Nan:\n",
            "[False False  True False]\n"
          ]
        }
      ]
    },
    {
      "cell_type": "code",
      "source": [
        "import numpy as np\n",
        "x=np.array([3,5])\n",
        "y=np.array([2,5])\n",
        "print(f\"Original array numbers : \",x,y,sep=\"\\n\")\n",
        "print(f\"Comparision - Greater -> {np.greater(x,y)}\")\n",
        "print(f\"Comparision - Greater or Equal -> {np.greater_equal(x,y)}\")\n",
        "print(f\"Comparision - Lesser -> {np.less(x,y)}\")\n",
        "print(f\"Comparision - Lesser or Equal -> {np.less_equal(x,y)}\")"
      ],
      "metadata": {
        "colab": {
          "base_uri": "https://localhost:8080/"
        },
        "id": "_QuIeUODJLfi",
        "outputId": "bdd3aff8-fed2-4bea-cc81-ea0d706b4602"
      },
      "execution_count": 8,
      "outputs": [
        {
          "output_type": "stream",
          "name": "stdout",
          "text": [
            "Original array numbers : \n",
            "[3 5]\n",
            "[2 5]\n",
            "Comparision - Greater -> [ True False]\n",
            "Comparision - Greater or Equal -> [ True  True]\n",
            "Comparision - Lesser -> [False False]\n",
            "Comparision - Lesser or Equal -> [False  True]\n"
          ]
        }
      ]
    },
    {
      "cell_type": "code",
      "source": [
        "import numpy as np\n",
        "x=np.array([1,7,13,105])\n",
        "print(f\"Original array : {x}\")\n",
        "print(\"The size of the memory occupied by the said array is : %d bytes\" % (x.size*x.itemsize))"
      ],
      "metadata": {
        "colab": {
          "base_uri": "https://localhost:8080/"
        },
        "id": "pe5YtLR0J2Qi",
        "outputId": "da56da8d-794b-4094-f983-b3c0bdb6920a"
      },
      "execution_count": 15,
      "outputs": [
        {
          "output_type": "stream",
          "name": "stdout",
          "text": [
            "Original array : [  1   7  13 105]\n",
            "The size of the memory occupied by the said array is : 32 bytes\n"
          ]
        }
      ]
    },
    {
      "cell_type": "code",
      "source": [
        "import numpy as np\n",
        "array=np.zeros(10)\n",
        "print(\"An array of 10 zeros : \")\n",
        "print(array)\n",
        "array=np.ones(10)\n",
        "print(f\"An array of 10 ones : {array}\")\n",
        "array=np.ones(5)*10\n",
        "print(f\"An array of 5 Tens : {array}\")"
      ],
      "metadata": {
        "colab": {
          "base_uri": "https://localhost:8080/"
        },
        "id": "sw0RXvMhLu7y",
        "outputId": "776122e8-5fb4-49b6-f835-0104699e283d"
      },
      "execution_count": 16,
      "outputs": [
        {
          "output_type": "stream",
          "name": "stdout",
          "text": [
            "An array of 10 zeros : \n",
            "[0. 0. 0. 0. 0. 0. 0. 0. 0. 0.]\n",
            "An array of 10 ones : [1. 1. 1. 1. 1. 1. 1. 1. 1. 1.]\n",
            "An array of 5 Tens : [10. 10. 10. 10. 10.]\n"
          ]
        }
      ]
    },
    {
      "cell_type": "code",
      "source": [
        "import numpy as np\n",
        "array=np.arange(30, 71, 2)\n",
        "print(f\"Array of all the even integers from 30 to 70 are: {array}\")"
      ],
      "metadata": {
        "colab": {
          "base_uri": "https://localhost:8080/"
        },
        "id": "trp2tjeZMFci",
        "outputId": "44a0399d-c018-4096-bbfc-e730a2c0eb91"
      },
      "execution_count": 18,
      "outputs": [
        {
          "output_type": "stream",
          "name": "stdout",
          "text": [
            "Array of all the even integers from 30 to 70 are: [30 32 34 36 38 40 42 44 46 48 50 52 54 56 58 60 62 64 66 68 70]\n"
          ]
        }
      ]
    },
    {
      "cell_type": "code",
      "source": [
        "import numpy as np\n",
        "array_3d=np.identity(3)\n",
        "print(f\"3X3 matrix : {array_3d}\")"
      ],
      "metadata": {
        "colab": {
          "base_uri": "https://localhost:8080/"
        },
        "id": "UZjd84wNMTGM",
        "outputId": "edc5f78f-eff7-4c53-b3df-fc2b5c72849d"
      },
      "execution_count": 21,
      "outputs": [
        {
          "output_type": "stream",
          "name": "stdout",
          "text": [
            "3X3 matrix : [[1. 0. 0.]\n",
            " [0. 1. 0.]\n",
            " [0. 0. 1.]]\n"
          ]
        }
      ]
    },
    {
      "cell_type": "code",
      "source": [
        "import numpy as np\n",
        "rand_num=np.random.normal(0,1,1)\n",
        "print(f\"The random numbers between 0 and 1 are : {rand_num}\")"
      ],
      "metadata": {
        "colab": {
          "base_uri": "https://localhost:8080/"
        },
        "id": "r86Eh_gONshJ",
        "outputId": "2d6fb986-65d0-4a89-8b8f-305be04487c2"
      },
      "execution_count": 24,
      "outputs": [
        {
          "output_type": "stream",
          "name": "stdout",
          "text": [
            "The random numbers between 0 and 1 are : [1.37089533]\n"
          ]
        }
      ]
    }
  ]
}