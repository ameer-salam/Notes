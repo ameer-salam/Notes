{
  "nbformat": 4,
  "nbformat_minor": 0,
  "metadata": {
    "colab": {
      "provenance": [],
      "authorship_tag": "ABX9TyMdLN3a4BJ8etdMoiJk5XMh",
      "include_colab_link": true
    },
    "kernelspec": {
      "name": "python3",
      "display_name": "Python 3"
    },
    "language_info": {
      "name": "python"
    }
  },
  "cells": [
    {
      "cell_type": "markdown",
      "metadata": {
        "id": "view-in-github",
        "colab_type": "text"
      },
      "source": [
        "<a href=\"https://colab.research.google.com/github/ameer-salam/Notes/blob/main/Untitled1.ipynb\" target=\"_parent\"><img src=\"https://colab.research.google.com/assets/colab-badge.svg\" alt=\"Open In Colab\"/></a>"
      ]
    },
    {
      "cell_type": "code",
      "execution_count": 1,
      "metadata": {
        "id": "r_JcTuRlIeNt",
        "outputId": "3776d7c3-85b2-4c66-dc3c-6831c06915c4",
        "colab": {
          "base_uri": "https://localhost:8080/"
        }
      },
      "outputs": [
        {
          "output_type": "stream",
          "name": "stdout",
          "text": [
            "Orginal array is : [1 2 3 4]\n",
            "Test if none of the element of the said arrays is zero: True\n",
            "Original array is : [0 1 2 3]\n",
            "Test if none of the elements of the said arrays is zero: False\n"
          ]
        }
      ],
      "source": [
        "import numpy as np\n",
        "x=np.array([1,2,3,4])\n",
        "print(f\"Orginal array is : {x}\")\n",
        "print(f\"Test if none of the element of the said arrays is zero: {np.all(x)}\")\n",
        "x=np.array([0,1,2,3])\n",
        "print(f\"Original array is : {x}\")\n",
        "print(f\"Test if none of the elements of the said arrays is zero: {np.all(x)}\")"
      ]
    }
  ]
}