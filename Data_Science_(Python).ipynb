{
  "nbformat": 4,
  "nbformat_minor": 0,
  "metadata": {
    "colab": {
      "provenance": [],
      "authorship_tag": "ABX9TyMOiEV5ZWi9yLc9MZPwmCpd",
      "include_colab_link": true
    },
    "kernelspec": {
      "name": "python3",
      "display_name": "Python 3"
    },
    "language_info": {
      "name": "python"
    }
  },
  "cells": [
    {
      "cell_type": "markdown",
      "metadata": {
        "id": "view-in-github",
        "colab_type": "text"
      },
      "source": [
        "<a href=\"https://colab.research.google.com/github/ameer-salam/Notes/blob/main/Data_Science_(Python).ipynb\" target=\"_parent\"><img src=\"https://colab.research.google.com/assets/colab-badge.svg\" alt=\"Open In Colab\"/></a>"
      ]
    },
    {
      "cell_type": "markdown",
      "source": [
        "# Data Science Course - Mastering the Fundamentals\n",
        "\n",
        "\n",
        "* **Uses of Python**\n",
        "1. Data Science\n",
        "2. Web developement\n",
        "3. DBMS\n",
        "4. Script writing\n",
        "5. Building pipeline\n",
        "\n",
        "\n",
        "* **What is Data Science**\n",
        "involves running experiments, doing analysis and coming to conclusion iinvolved building models and testing them,\n",
        "2.\n",
        "\n",
        "* **How to do Data Science**\n",
        "1. Extract Load Transform,\n",
        "2. A/B testing,\n",
        "3. Data Scraping and cleaning,\n",
        "4. Doing analyses and presenting results,\n",
        "5. Building and maintaining dashboards,\n",
        "6. Building and deploying ML models."
      ],
      "metadata": {
        "id": "VZmy703Qos5Q"
      }
    },
    {
      "cell_type": "markdown",
      "source": [
        "## Numpy\n",
        "1. **What is Numpy**\n",
        "  1. Fundamental of every Data Science Library,\n",
        "  2. it deals with the fundamental building blocks of all data science algos: **Vector and Matrices**\n",
        "\n",
        "2. **When to use Numpy?**\n",
        "  1. Optimizing to do Numerical Data science work,\n",
        "  2. Numpy is a python library written in C, Making it blazingly fast.\n",
        "  3. it has a lot of submodules capable of doing a variety of tasks related to Data science.\n",
        "\n",
        "3. **When not to used Numpy**\n",
        "  1. When you are working with non-numerical data,\n",
        "  2. when data is in Text format,\n",
        "  3. numpy runs on CPU while it cannot run on GPU wehn doing something like deep learning."
      ],
      "metadata": {
        "id": "fg8hdp_IwTk4"
      }
    },
    {
      "cell_type": "markdown",
      "source": [
        "### Vectors and Matrices\n",
        "1. **What is a vector**\n",
        "It is a list of numbers\n",
        "[1,3,5,3,2,8,]\n",
        "* it is very similar to python list, but it is quite differnet\n",
        "* in list you can have heterogenous elements\n",
        "* vectors only support elements with same data types(Numeric datatypes),\n",
        "* vectors are one dimensional.\n",
        "\n",
        "2. **What is a matrix**\n",
        "* matrix is a list of vectors (Collection of vectors)\n",
        "* matric is multidimensional.\n",
        "[\n",
        "  [1,2,3],\n",
        "  [4,5,6],\n",
        "  [7,8,9]\n",
        "]\n"
      ],
      "metadata": {
        "id": "1HMe5OquyBwY"
      }
    },
    {
      "cell_type": "code",
      "source": [
        "# code demo\n",
        "import numpy as np\n",
        "new_vector=np.array([1,2,3,4])\n",
        "print(new_vector)"
      ],
      "metadata": {
        "colab": {
          "base_uri": "https://localhost:8080/"
        },
        "id": "7EPFl8CjzahK",
        "outputId": "d8181188-1de8-4a7d-9011-e7e0656440b7"
      },
      "execution_count": null,
      "outputs": [
        {
          "output_type": "stream",
          "name": "stdout",
          "text": [
            "[1 2 3 4]\n"
          ]
        }
      ]
    },
    {
      "cell_type": "code",
      "source": [
        "print(new_vector.shape)"
      ],
      "metadata": {
        "colab": {
          "base_uri": "https://localhost:8080/"
        },
        "id": "azJoSZgFzxqM",
        "outputId": "366c1a70-796d-4465-fa19-006c5dbb4f8b"
      },
      "execution_count": null,
      "outputs": [
        {
          "output_type": "stream",
          "name": "stdout",
          "text": [
            "(4,)\n"
          ]
        }
      ]
    },
    {
      "cell_type": "code",
      "source": [
        "#multidimensioanl list\n",
        "multi_dim_list=np.array([\n",
        "    [1,2,3,4],\n",
        "    [5,6,7,8],\n",
        "    [9,10,11,12]\n",
        "])\n",
        "\n",
        "print(f\"The multidimensional list is :\",multi_dim_list, sep=\"\\n\")\n",
        "print(\"The shape of this matrix is : \", multi_dim_list.shape)"
      ],
      "metadata": {
        "colab": {
          "base_uri": "https://localhost:8080/"
        },
        "id": "FFCufArfz4_u",
        "outputId": "c6b577c3-9ab6-45a7-f2ca-18604f58275a"
      },
      "execution_count": null,
      "outputs": [
        {
          "output_type": "stream",
          "name": "stdout",
          "text": [
            "The multidimensional list is :\n",
            "[[ 1  2  3  4]\n",
            " [ 5  6  7  8]\n",
            " [ 9 10 11 12]]\n",
            "The shape of this matrix is :  (3, 4)\n"
          ]
        }
      ]
    },
    {
      "cell_type": "code",
      "source": [
        "#creating list with range\n",
        "range_list = np.array([[range(1,6)],[range(6,11)]])\n",
        "print(range_list)"
      ],
      "metadata": {
        "colab": {
          "base_uri": "https://localhost:8080/"
        },
        "id": "uifRiKjZ05gA",
        "outputId": "fa476bcd-70b6-42cc-b600-6236ffe4b3ce"
      },
      "execution_count": null,
      "outputs": [
        {
          "output_type": "stream",
          "name": "stdout",
          "text": [
            "[[[ 1  2  3  4  5]]\n",
            "\n",
            " [[ 6  7  8  9 10]]]\n"
          ]
        }
      ]
    },
    {
      "cell_type": "code",
      "source": [
        "#numpy array with all zeros\n",
        "zero_array=np.zeros((5,5))\n",
        "print(zero_array)\n",
        "print(zero_array,shape)"
      ],
      "metadata": {
        "colab": {
          "base_uri": "https://localhost:8080/"
        },
        "id": "mWytPbJG1W--",
        "outputId": "ef91680f-2100-4272-c4af-efb033eff4a7"
      },
      "execution_count": null,
      "outputs": [
        {
          "output_type": "stream",
          "name": "stdout",
          "text": [
            "[[0. 0. 0. 0. 0.]\n",
            " [0. 0. 0. 0. 0.]\n",
            " [0. 0. 0. 0. 0.]\n",
            " [0. 0. 0. 0. 0.]\n",
            " [0. 0. 0. 0. 0.]]\n"
          ]
        }
      ]
    },
    {
      "cell_type": "code",
      "source": [
        "#array with ones\n",
        "ones_arrays=np.ones((7,7))\n",
        "print(ones_arrays)\n",
        "print(ones_arrays.shape)"
      ],
      "metadata": {
        "colab": {
          "base_uri": "https://localhost:8080/"
        },
        "id": "dTXGKkxq1kf9",
        "outputId": "b25ed8ab-e432-4cf3-87ed-f30b04ed4082"
      },
      "execution_count": null,
      "outputs": [
        {
          "output_type": "stream",
          "name": "stdout",
          "text": [
            "[[1. 1. 1. 1. 1. 1. 1.]\n",
            " [1. 1. 1. 1. 1. 1. 1.]\n",
            " [1. 1. 1. 1. 1. 1. 1.]\n",
            " [1. 1. 1. 1. 1. 1. 1.]\n",
            " [1. 1. 1. 1. 1. 1. 1.]\n",
            " [1. 1. 1. 1. 1. 1. 1.]\n",
            " [1. 1. 1. 1. 1. 1. 1.]]\n",
            "(7, 7)\n"
          ]
        }
      ]
    },
    {
      "cell_type": "code",
      "source": [
        "#using random function\n",
        "rand_array=np.random.randint(90, size=(5,5))\n",
        "print(rand_array)"
      ],
      "metadata": {
        "colab": {
          "base_uri": "https://localhost:8080/"
        },
        "id": "86ELu6N12BVy",
        "outputId": "7c963352-4d8c-4b5e-c0bb-17016dd44708"
      },
      "execution_count": null,
      "outputs": [
        {
          "output_type": "stream",
          "name": "stdout",
          "text": [
            "[[ 1 69 19  7 37]\n",
            " [ 1 74 15  2 84]\n",
            " [84 70 84 22 80]\n",
            " [17 76 27 89 53]\n",
            " [60  2 76 87 49]]\n"
          ]
        }
      ]
    },
    {
      "cell_type": "markdown",
      "source": [
        "### Data Types in Numpy\n",
        "* unlike python, numpy have to have same datatype\n",
        "* supported datatypes are:\n",
        "\n",
        "\n",
        "| Data Type      | Variant     | Description                                                                 |\n",
        "|----------------|-------------|-----------------------------------------------------------------------------|\n",
        "| int            | int8, int16, int32, int64 | Integer data type with different bit sizes (8-bit, 16-bit, 32-bit, 64-bit). |\n",
        "| uint           | uint8, uint16, uint32, uint64 | Unsigned integer data type with different bit sizes.                         |\n",
        "| float          | float16, float32, float64 | Floating-point data type with different precision (16-bit, 32-bit, 64-bit).  |\n",
        "| complex        | complex64, complex128 | Complex number data type with different precision (64-bit and 128-bit).      |\n",
        "| bool           | -           | Boolean data type representing True or False values.                         |\n",
        "| str            | -           | String data type representing text.                                         |\n",
        "| object         | -           | Object data type for storing any Python object.                              |\n",
        "| datetime64     | -           | Date and time data type with nanosecond precision.                           |\n",
        "| timedelta64   | -            | Time difference data type representing the difference between two datetime64 values. |\n",
        "| void           | -           | Raw data type for storing fixed-size blocks of memory.                       |\n"
      ],
      "metadata": {
        "id": "WpBTCuej2ZLK"
      }
    },
    {
      "cell_type": "code",
      "source": [
        "#numpy to create a list\n",
        "num_exe=np.array([1,2,3,4,5,6])\n",
        "print(num_exe)\n",
        "print(num_exe.dtype)"
      ],
      "metadata": {
        "colab": {
          "base_uri": "https://localhost:8080/"
        },
        "id": "C7m9gXkC37t3",
        "outputId": "50053bf7-c3dc-46f7-a2d0-6a776b56d36c"
      },
      "execution_count": null,
      "outputs": [
        {
          "output_type": "stream",
          "name": "stdout",
          "text": [
            "[1 2 3 4 5 6]\n",
            "int64\n"
          ]
        }
      ]
    },
    {
      "cell_type": "code",
      "source": [
        "#numpy to create a flaot list\n",
        "num_exe=np.array([1.6323,2.5734452,3.5653573746345,4.6734526472460,5.242454626,6.346378467355134])\n",
        "print(num_exe)\n",
        "print(num_exe.dtype)"
      ],
      "metadata": {
        "colab": {
          "base_uri": "https://localhost:8080/"
        },
        "id": "_wZoDGhl6P6K",
        "outputId": "33f9b3b2-1056-40a8-d03b-83d8b496c722"
      },
      "execution_count": null,
      "outputs": [
        {
          "output_type": "stream",
          "name": "stdout",
          "text": [
            "[1.6323     2.5734452  3.56535737 4.67345265 5.24245463 6.34637847]\n",
            "float64\n"
          ]
        }
      ]
    },
    {
      "cell_type": "code",
      "source": [
        "#showcasing implicit conversion of string to integer\n",
        "lst=[4,5,8,1,5,'4', '67']\n",
        "new_lst=np.array(lst)\n",
        "print(new_lst)\n",
        "print(new_lst.dtype)"
      ],
      "metadata": {
        "colab": {
          "base_uri": "https://localhost:8080/"
        },
        "id": "eGQFmN-v6i9B",
        "outputId": "395b86ad-adb2-4da2-d456-bfe7644221aa"
      },
      "execution_count": null,
      "outputs": [
        {
          "output_type": "stream",
          "name": "stdout",
          "text": [
            "['4' '5' '8' '1' '5' '4' '67']\n",
            "<U21\n"
          ]
        }
      ]
    },
    {
      "cell_type": "code",
      "source": [
        "#explicit conversion to integer\n",
        "new_lst=new_lst.astype(int)\n",
        "print(new_lst)\n",
        "print(new_lst.dtype)"
      ],
      "metadata": {
        "colab": {
          "base_uri": "https://localhost:8080/"
        },
        "id": "u-Y1uZLz6vh4",
        "outputId": "6b5152be-623d-408b-9333-0fb099ab9c92"
      },
      "execution_count": null,
      "outputs": [
        {
          "output_type": "stream",
          "name": "stdout",
          "text": [
            "[ 4  5  8  1  5  4 67]\n",
            "int64\n"
          ]
        }
      ]
    },
    {
      "cell_type": "markdown",
      "source": [
        "### Slicing of NumPy arrays\n",
        " * it is used for manipulating arrays\n",
        "#### Masking -\n",
        "Masking in NumPy refers to the process of creating a boolean array (mask) based on certain conditions applied to another array."
      ],
      "metadata": {
        "id": "JbEWXfvU7lDn"
      }
    },
    {
      "cell_type": "code",
      "source": [
        "rand_array=np.random.rand(5,5)\n",
        "print(rand_array)\n",
        "print(rand_array.dtype)"
      ],
      "metadata": {
        "colab": {
          "base_uri": "https://localhost:8080/"
        },
        "id": "UgjSB8Yh9d_t",
        "outputId": "6d1f0efc-781e-41f6-a495-5bb99f6f87cd"
      },
      "execution_count": null,
      "outputs": [
        {
          "output_type": "stream",
          "name": "stdout",
          "text": [
            "[[0.43993728 0.45851486 0.04374261 0.67363283 0.90387723]\n",
            " [0.89288346 0.09850366 0.72193202 0.85393078 0.39881824]\n",
            " [0.45557176 0.19368448 0.5413505  0.28987994 0.76470739]\n",
            " [0.52056471 0.73228464 0.72534807 0.42676996 0.38103281]\n",
            " [0.50028244 0.32999332 0.23742968 0.60846778 0.30178632]]\n",
            "float64\n"
          ]
        }
      ]
    },
    {
      "cell_type": "code",
      "source": [
        "print(rand_array[2:])\n",
        "print(rand_array.dtype)\n",
        "print(rand_array[:2])\n",
        "print(rand_array.dtype)"
      ],
      "metadata": {
        "colab": {
          "base_uri": "https://localhost:8080/"
        },
        "id": "NQl_ti_x-S3L",
        "outputId": "75964dae-1351-4e84-824e-e6ddb83334b5"
      },
      "execution_count": null,
      "outputs": [
        {
          "output_type": "stream",
          "name": "stdout",
          "text": [
            "[[0.45557176 0.19368448 0.5413505  0.28987994 0.76470739]\n",
            " [0.52056471 0.73228464 0.72534807 0.42676996 0.38103281]\n",
            " [0.50028244 0.32999332 0.23742968 0.60846778 0.30178632]]\n",
            "float64\n",
            "[[0.43993728 0.45851486 0.04374261 0.67363283 0.90387723]\n",
            " [0.89288346 0.09850366 0.72193202 0.85393078 0.39881824]]\n",
            "float64\n"
          ]
        }
      ]
    },
    {
      "cell_type": "code",
      "source": [
        "#masking of array\n",
        "arr=np.array([2,3,56,8,34,2,6,7,3,6,75,425,3,12,6,7,8])\n",
        "mask=(arr%2)==0\n",
        "new_list=arr[mask]\n",
        "print(\"Oringinal array is : \", arr)\n",
        "print(\"Array after masking is : \", new_list)"
      ],
      "metadata": {
        "colab": {
          "base_uri": "https://localhost:8080/"
        },
        "id": "oOu1egz4CPwH",
        "outputId": "fe3642cd-0ec5-4e63-bc16-1dfd81b7e2aa"
      },
      "execution_count": null,
      "outputs": [
        {
          "output_type": "stream",
          "name": "stdout",
          "text": [
            "Oringinal array is :  [  2   3  56   8  34   2   6   7   3   6  75 425   3  12   6   7   8]\n",
            "Array after masking is :  [ 2 56  8 34  2  6  6 12  6  8]\n"
          ]
        }
      ]
    },
    {
      "cell_type": "markdown",
      "source": [
        "### Transpose of Matrix\n",
        "* Converts rows into column and column into rows\n",
        "* can change the shape of the original matrix\n",
        "\n",
        "example matrix A=\n",
        "[\n",
        "    [1,2,3],\n",
        "    [4,5,6],\n",
        "    [7,8,9]\n",
        "]\n",
        "\n",
        "now the transpose of thie matrix is\n",
        "A=\n",
        "[\n",
        "    [1,4,7],\n",
        "    [2,5,8],\n",
        "    [3,6,9]\n",
        "]"
      ],
      "metadata": {
        "id": "92pizyB1OwlK"
      }
    },
    {
      "cell_type": "code",
      "source": [
        "new_list=np.array([\n",
        "    [1,2,3],\n",
        "    [4,5,6],\n",
        "    [7,8,9]\n",
        "])\n",
        "print(new_list)"
      ],
      "metadata": {
        "colab": {
          "base_uri": "https://localhost:8080/"
        },
        "id": "9fbzKWewPccK",
        "outputId": "8ddeaf06-6433-4d00-fb66-19f42c1f6caa"
      },
      "execution_count": null,
      "outputs": [
        {
          "output_type": "stream",
          "name": "stdout",
          "text": [
            "[[1 2 3]\n",
            " [4 5 6]\n",
            " [7 8 9]]\n"
          ]
        }
      ]
    },
    {
      "cell_type": "code",
      "source": [
        "#transpose type 1\n",
        "transpose_matrix=new_list.transpose()\n",
        "print(transpose_matrix, \"\\n\\n\")\n",
        "\n",
        "#transpose type 2\n",
        "transpose_matrix=transpose_matrix.T\n",
        "print(transpose_matrix)"
      ],
      "metadata": {
        "colab": {
          "base_uri": "https://localhost:8080/"
        },
        "id": "Fqqql2d8Psw3",
        "outputId": "768a74e5-85ce-4db4-c29a-6fe7a747d963"
      },
      "execution_count": null,
      "outputs": [
        {
          "output_type": "stream",
          "name": "stdout",
          "text": [
            "[[1 4 7]\n",
            " [2 5 8]\n",
            " [3 6 9]] \n",
            "\n",
            "\n",
            "[[1 2 3]\n",
            " [4 5 6]\n",
            " [7 8 9]]\n"
          ]
        }
      ]
    },
    {
      "cell_type": "code",
      "source": [
        "#to perform calculation row-wise\n",
        "sum_row=transpose_matrix.sum(axis=0)\n",
        "print(sum_row, \"\\n\\n\")"
      ],
      "metadata": {
        "colab": {
          "base_uri": "https://localhost:8080/"
        },
        "id": "2hkEQL7cQKSE",
        "outputId": "fe018258-3430-4791-c9f2-49537981a42b"
      },
      "execution_count": null,
      "outputs": [
        {
          "output_type": "stream",
          "name": "stdout",
          "text": [
            "[12 15 18] \n",
            "\n",
            "\n"
          ]
        }
      ]
    },
    {
      "cell_type": "markdown",
      "source": [
        "### Broadcasting\n",
        "* broadcasting is the process of copying the matrix inorder to the the mathematical task done,\n",
        "* it allows us to add matrix of different shapes and sizes,\n",
        "*  it is only possible when the numebr of rows of both the matriz are the same,"
      ],
      "metadata": {
        "id": "PRWi_xvxQmZI"
      }
    },
    {
      "cell_type": "code",
      "source": [
        "new_list=np.array([\n",
        "    [1,2,3],\n",
        "    [4,5,6],\n",
        "    [7,8,9]\n",
        "])\n",
        "new_small_matrix=np.array([[1],\n",
        "                           [2],\n",
        "                           [3]])\n",
        "sum_matrix=new_list+new_small_matrix\n",
        "print(sum_matrix)"
      ],
      "metadata": {
        "colab": {
          "base_uri": "https://localhost:8080/"
        },
        "id": "jJ7y60fXR0Mh",
        "outputId": "0eacd8e9-3475-4a0f-8f36-6b5ed2b253b0"
      },
      "execution_count": null,
      "outputs": [
        {
          "output_type": "stream",
          "name": "stdout",
          "text": [
            "[[ 2  3  4]\n",
            " [ 6  7  8]\n",
            " [10 11 12]]\n"
          ]
        }
      ]
    },
    {
      "cell_type": "markdown",
      "source": [
        "### Matrix multiplication\n",
        "* GPU's help accelerate Matrix multiplication,\n",
        "* number of columns at the LHS must be equal to the number of rows at the RHS"
      ],
      "metadata": {
        "id": "szmuf_vVSjCf"
      }
    },
    {
      "cell_type": "code",
      "source": [
        "a=np.array([\n",
        "    [1,2,3],\n",
        "    [4,5,6],\n",
        "    [7,8,9]\n",
        "])\n",
        "\n",
        "b=np.array([\n",
        "    [1, 2, 3]\n",
        "])\n",
        "\n",
        "c=a*b\n",
        "print(c)\n",
        "\n",
        "b=b.T\n",
        "c=a*b\n",
        "print(b)\n",
        "print(c)"
      ],
      "metadata": {
        "colab": {
          "base_uri": "https://localhost:8080/"
        },
        "id": "b_rVjIFJUCnK",
        "outputId": "6491b0be-9c51-42ac-9c59-11733ca8afe5"
      },
      "execution_count": null,
      "outputs": [
        {
          "output_type": "stream",
          "name": "stdout",
          "text": [
            "[[ 1  4  9]\n",
            " [ 4 10 18]\n",
            " [ 7 16 27]]\n",
            "[[1]\n",
            " [2]\n",
            " [3]]\n",
            "[[ 1  2  3]\n",
            " [ 8 10 12]\n",
            " [21 24 27]]\n"
          ]
        }
      ]
    },
    {
      "cell_type": "markdown",
      "source": [
        "### **Tensors**\n",
        "* matrix is a 2d array, while a tensor is a 3D array,\n",
        "* they can also be 4d, 5d and so onn. but, they are generally 3d arrays\n",
        "* scalars have zero dimensions\n",
        "* Vectors have one dimensions (rows)\n",
        "* matrix have two dimensions (rows and columns)\n",
        "* tensors have multi dimensions (rows, columns and height)\n",
        "* most common example of a 3d matrix(tensor) is a color image\n",
        "\n",
        "#### Transpose of a tensor\n",
        "* tensors transpose is obtained by rotating the 3d matrix (swaps dept and columns)\n",
        "\n"
      ],
      "metadata": {
        "id": "ruK1Gd_nWXCE"
      }
    },
    {
      "cell_type": "markdown",
      "source": [
        "## Pandas\n",
        "* it is used to read and manipulate the tabular data using data frames,\n",
        "* it used numpy under the hood,\n",
        "* similar to using SQL,\n",
        "* Pandas can read data from files like CSV.\n",
        "* Pandas cannot be used on **Non-tabular** data, image data, and when the data size exceeds 3gb as Pandas are not multithreaded"
      ],
      "metadata": {
        "id": "CbNhHfGQGrzz"
      }
    },
    {
      "cell_type": "markdown",
      "source": [
        "### DataFrames and Series\n",
        "* DataFrame and Series are the two  main datastructures of Panadas:\n",
        "* Series is a singel dimensional labelled data type, which can hold any type of element and each element can be indexed.\n",
        "* DataFrame is basically a Tables, or combination of series\n",
        "* Pandas follows a column first principle,\n"
      ],
      "metadata": {
        "id": "OaXl6It4IiBX"
      }
    },
    {
      "cell_type": "code",
      "source": [
        "import pandas as pd\n",
        "import numpy as np\n",
        "\n",
        "a=[[1,2,3], [4,5,6], [7,8,9]]\n",
        "arr=np.array(a)\n",
        "print(a)\n",
        "\n",
        "arrDF=pd.DataFrame(arr)\n",
        "print(arrDF)"
      ],
      "metadata": {
        "colab": {
          "base_uri": "https://localhost:8080/"
        },
        "id": "8yvNHon_Jh_i",
        "outputId": "7dcb321e-5f8a-4b0d-847b-d710c2ac5584"
      },
      "execution_count": null,
      "outputs": [
        {
          "output_type": "stream",
          "name": "stdout",
          "text": [
            "[[1, 2, 3], [4, 5, 6], [7, 8, 9]]\n",
            "   0  1  2\n",
            "0  1  2  3\n",
            "1  4  5  6\n",
            "2  7  8  9\n"
          ]
        }
      ]
    },
    {
      "cell_type": "code",
      "source": [
        "marks=pd.DataFrame([{'Maths':3, 'Science':2}, {'Maths':3, 'Science':4}, {'Maths':4, 'Science':5}])\n",
        "print(marks)"
      ],
      "metadata": {
        "colab": {
          "base_uri": "https://localhost:8080/"
        },
        "id": "sEf8CMIt2fml",
        "outputId": "b5c142a4-91e8-4770-97f4-8ffdcb0ed008"
      },
      "execution_count": null,
      "outputs": [
        {
          "output_type": "stream",
          "name": "stdout",
          "text": [
            "   Maths  Science\n",
            "0      3        2\n",
            "1      3        4\n",
            "2      4        5\n"
          ]
        }
      ]
    },
    {
      "cell_type": "code",
      "source": [
        "#to print just the maths marks\n",
        "new_math=marks.Maths\n",
        "print(new_math)"
      ],
      "metadata": {
        "colab": {
          "base_uri": "https://localhost:8080/"
        },
        "id": "ZkYngJyQ3A7a",
        "outputId": "1dff0359-94ae-49ac-8820-ee10b13cbe14"
      },
      "execution_count": null,
      "outputs": [
        {
          "output_type": "stream",
          "name": "stdout",
          "text": [
            "0    3\n",
            "1    3\n",
            "2    4\n",
            "Name: Maths, dtype: int64\n"
          ]
        }
      ]
    },
    {
      "cell_type": "code",
      "source": [
        "#Difference between the series and  dataframes\n",
        "#print(marks.dtype)\n",
        "print(type(marks))\n",
        "print(type(marks.Maths))\n",
        "print(marks.info())"
      ],
      "metadata": {
        "colab": {
          "base_uri": "https://localhost:8080/"
        },
        "id": "MlLpT6ag3OyP",
        "outputId": "eb8c3571-43e2-4ed3-8a27-03f883389696"
      },
      "execution_count": null,
      "outputs": [
        {
          "output_type": "stream",
          "name": "stdout",
          "text": [
            "<class 'pandas.core.frame.DataFrame'>\n",
            "<class 'pandas.core.series.Series'>\n",
            "<class 'pandas.core.frame.DataFrame'>\n",
            "RangeIndex: 3 entries, 0 to 2\n",
            "Data columns (total 2 columns):\n",
            " #   Column   Non-Null Count  Dtype\n",
            "---  ------   --------------  -----\n",
            " 0   Maths    3 non-null      int64\n",
            " 1   Science  3 non-null      int64\n",
            "dtypes: int64(2)\n",
            "memory usage: 176.0 bytes\n",
            "None\n"
          ]
        }
      ]
    },
    {
      "cell_type": "code",
      "source": [
        "#multiplying the dataframe to have same elements\n",
        "marks=pd.DataFrame([{'Maths':3, 'Science':2}, {'Maths':3, 'Science':4}, {'Maths':4, 'Science':5}]*100)\n",
        "print(marks)"
      ],
      "metadata": {
        "colab": {
          "base_uri": "https://localhost:8080/"
        },
        "id": "KCjaUq1m4Mtb",
        "outputId": "2ee69205-ecb8-42bb-8b7e-4018f10a5729"
      },
      "execution_count": null,
      "outputs": [
        {
          "output_type": "stream",
          "name": "stdout",
          "text": [
            "     Maths  Science\n",
            "0        3        2\n",
            "1        3        4\n",
            "2        4        5\n",
            "3        3        2\n",
            "4        3        4\n",
            "..     ...      ...\n",
            "295      3        4\n",
            "296      4        5\n",
            "297      3        2\n",
            "298      3        4\n",
            "299      4        5\n",
            "\n",
            "[300 rows x 2 columns]\n"
          ]
        }
      ]
    },
    {
      "cell_type": "code",
      "source": [
        "print(marks.head())"
      ],
      "metadata": {
        "colab": {
          "base_uri": "https://localhost:8080/"
        },
        "id": "5ZuWQhEh4Vig",
        "outputId": "6750a745-7a42-4568-8c66-513e02b3dd74"
      },
      "execution_count": null,
      "outputs": [
        {
          "output_type": "stream",
          "name": "stdout",
          "text": [
            "   Maths  Science\n",
            "0      3        2\n",
            "1      3        4\n",
            "2      4        5\n",
            "3      3        2\n",
            "4      3        4\n"
          ]
        }
      ]
    },
    {
      "cell_type": "markdown",
      "source": [
        "### Reading Data\n",
        "\n",
        "| Data Format | Description                                              | Pandas Function                  |\n",
        "|-------------|----------------------------------------------------------|----------------------------------|\n",
        "| CSV         | Comma-separated values                                   | `pd.read_csv()`                  |\n",
        "| Excel       | Microsoft Excel files (.xls or .xlsx)                    | `pd.read_excel()`                |\n",
        "| JSON        | JavaScript Object Notation                               | `pd.read_json()`                 |\n",
        "| HTML        | Hypertext Markup Language                                | `pd.read_html()`                 |\n",
        "| SQL         | Structured Query Language                                | `pd.read_sql()`                  |\n",
        "| HDF5        | Hierarchical Data Format version 5                       | `pd.read_hdf()`                  |\n",
        "| Feather     | Feather binary columnar data format                      | `pd.read_feather()`              |\n",
        "| Parquet     | Apache Parquet columnar storage format                   | `pd.read_parquet()`              |\n",
        "| ORC         | Optimized Row Columnar (ORC) format                      | `pd.read_orc()`                  |\n",
        "| Msgpack     | MessagePack serialized format                            | `pd.read_msgpack()`              |\n",
        "| Stata       | Stata data files (.dta)                                   | `pd.read_stata()`                |\n",
        "| SAS         | SAS datasets                                             | `pd.read_sas()`                  |\n",
        "| SPSS        | SPSS datasets (.sav)                                      | `pd.read_spss()`                 |\n",
        "| Google BigQuery | Google BigQuery SQL database                             | `pd.read_gbq()`                  |\n",
        "| Clipboard   | Data copied to the clipboard                             | `pd.read_clipboard()`            |\n",
        "| Pickle      | Python pickle format                                      | `pd.read_pickle()`               |\n",
        "| Avro        | Apache Avro data serialization format                    | `pd.read_avro()`                 |\n",
        "| Feather     | Feather binary columnar data format                      | `pd.read_feather()`              |\n",
        "| Arrow       | Apache Arrow file format                                  | `pd.read_arrow()`                |\n",
        "| MATLAB      | MATLAB data files (.mat)                                  | `pd.read_mat()`                  |\n",
        "| YAML        | YAML (YAML Ain't Markup Language) format                  | `pd.read_yaml()`                 |\n",
        "\n",
        "\n",
        "#### Datatype supported by Pandas\n",
        "\n",
        "| Data Type    | Description                                        |\n",
        "|--------------|----------------------------------------------------|\n",
        "| int64        | Integer numbers                                    |\n",
        "| float64      | Floating-point numbers                             |\n",
        "| object       | Python objects (usually strings)                   |\n",
        "| bool         | Boolean values (True or False)                     |\n",
        "| datetime64   | Date and time values                               |\n",
        "| timedelta64  | Differences between two datetime values            |\n",
        "| category     | Categorical data (a fixed, finite set of values)   |"
      ],
      "metadata": {
        "id": "gUPGg-ON4chP"
      }
    }
  ]
}