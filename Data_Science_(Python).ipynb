{
  "nbformat": 4,
  "nbformat_minor": 0,
  "metadata": {
    "colab": {
      "provenance": [],
      "authorship_tag": "ABX9TyOrfjVe7QRm7Qr/3xjBPLZa",
      "include_colab_link": true
    },
    "kernelspec": {
      "name": "python3",
      "display_name": "Python 3"
    },
    "language_info": {
      "name": "python"
    }
  },
  "cells": [
    {
      "cell_type": "markdown",
      "metadata": {
        "id": "view-in-github",
        "colab_type": "text"
      },
      "source": [
        "<a href=\"https://colab.research.google.com/github/ameer-salam/Notes/blob/main/Data_Science_(Python).ipynb\" target=\"_parent\"><img src=\"https://colab.research.google.com/assets/colab-badge.svg\" alt=\"Open In Colab\"/></a>"
      ]
    },
    {
      "cell_type": "markdown",
      "source": [
        "# Data Science Course - Mastering the Fundamentals\n",
        "\n",
        "\n",
        "* **Uses of Python**\n",
        "1. Data Science\n",
        "2. Web developement\n",
        "3. DBMS\n",
        "4. Script writing\n",
        "5. Building pipeline\n",
        "\n",
        "\n",
        "* **What is Data Science**\n",
        "involves running experiments, doing analysis and coming to conclusion iinvolved building models and testing them,\n",
        "2.\n",
        "\n",
        "* **How to do Data Science**\n",
        "1. Extract Load Transform,\n",
        "2. A/B testing,\n",
        "3. Data Scraping and cleaning,\n",
        "4. Doing analyses and presenting results,\n",
        "5. Building and maintaining dashboards,\n",
        "6. Building and deploying ML models."
      ],
      "metadata": {
        "id": "VZmy703Qos5Q"
      }
    },
    {
      "cell_type": "markdown",
      "source": [
        "## Numpy\n",
        "1. **What is Numpy**\n",
        "  1. Fundamental of every Data Science Library,\n",
        "  2. it deals with the fundamental building blocks of all data science algos: **Vector and Matrices**\n",
        "\n",
        "2. **When to use Numpy?**\n",
        "  1. Optimizing to do Numerical Data science work,\n",
        "  2. Numpy is a python library written in C, Making it blazingly fast.\n",
        "  3. it has a lot of submodules capable of doing a variety of tasks related to Data science.\n",
        "\n",
        "3. **When not to used Numpy**\n",
        "  1. When you are working with non-numerical data,\n",
        "  2. when data is in Text format,\n",
        "  3. numpy runs on CPU while it cannot run on GPU wehn doing something like deep learning."
      ],
      "metadata": {
        "id": "fg8hdp_IwTk4"
      }
    },
    {
      "cell_type": "markdown",
      "source": [
        "### Vectors and Matrices\n",
        "1. **What is a vector**\n",
        "It is a list of numbers\n",
        "[1,3,5,3,2,8,]\n",
        "* it is very similar to python list, but it is quite differnet\n",
        "* in list you can have heterogenous elements\n",
        "* vectors only support elements with same data types(Numeric datatypes),\n",
        "* vectors are one dimensional.\n",
        "\n",
        "2. **What is a matrix**\n",
        "* matrix is a list of vectors (Collection of vectors)\n",
        "* matric is multidimensional.\n",
        "[\n",
        "  [1,2,3],\n",
        "  [4,5,6],\n",
        "  [7,8,9]\n",
        "]\n"
      ],
      "metadata": {
        "id": "1HMe5OquyBwY"
      }
    },
    {
      "cell_type": "code",
      "source": [
        "# code demo\n",
        "import numpy as np\n",
        "new_vector=np.array([1,2,3,4])\n",
        "print(new_vector)"
      ],
      "metadata": {
        "colab": {
          "base_uri": "https://localhost:8080/"
        },
        "id": "7EPFl8CjzahK",
        "outputId": "dd865621-1324-4dd2-fe9c-ae69f891ad2a"
      },
      "execution_count": 80,
      "outputs": [
        {
          "output_type": "stream",
          "name": "stdout",
          "text": [
            "[1 2 3 4]\n"
          ]
        }
      ]
    },
    {
      "cell_type": "code",
      "source": [
        "print(new_vector.shape)"
      ],
      "metadata": {
        "colab": {
          "base_uri": "https://localhost:8080/"
        },
        "id": "azJoSZgFzxqM",
        "outputId": "1cadc252-ed00-48cc-fbf4-91ad3f6049db"
      },
      "execution_count": 81,
      "outputs": [
        {
          "output_type": "stream",
          "name": "stdout",
          "text": [
            "(4,)\n"
          ]
        }
      ]
    },
    {
      "cell_type": "code",
      "source": [
        "#multidimensioanl list\n",
        "multi_dim_list=np.array([\n",
        "    [1,2,3,4],\n",
        "    [5,6,7,8],\n",
        "    [9,10,11,12]\n",
        "])\n",
        "\n",
        "print(f\"The multidimensional list is :\",multi_dim_list, sep=\"\\n\")\n",
        "print(\"The shape of this matrix is : \", multi_dim_list.shape)"
      ],
      "metadata": {
        "colab": {
          "base_uri": "https://localhost:8080/"
        },
        "id": "FFCufArfz4_u",
        "outputId": "c021e031-b15b-48f1-8505-fc6d3e60e531"
      },
      "execution_count": 82,
      "outputs": [
        {
          "output_type": "stream",
          "name": "stdout",
          "text": [
            "The multidimensional list is :\n",
            "[[ 1  2  3  4]\n",
            " [ 5  6  7  8]\n",
            " [ 9 10 11 12]]\n",
            "The shape of this matrix is :  (3, 4)\n"
          ]
        }
      ]
    },
    {
      "cell_type": "code",
      "source": [
        "#creating list with range\n",
        "range_list = np.array([[range(1,6)],[range(6,11)]])\n",
        "print(range_list)"
      ],
      "metadata": {
        "colab": {
          "base_uri": "https://localhost:8080/"
        },
        "id": "uifRiKjZ05gA",
        "outputId": "009c2468-34b0-4692-d591-b9c4a7e77ecf"
      },
      "execution_count": 83,
      "outputs": [
        {
          "output_type": "stream",
          "name": "stdout",
          "text": [
            "[[[ 1  2  3  4  5]]\n",
            "\n",
            " [[ 6  7  8  9 10]]]\n"
          ]
        }
      ]
    },
    {
      "cell_type": "code",
      "source": [
        "#numpy array with all zeros\n",
        "zero_array=np.zeros((5,5))\n",
        "print(zero_array)"
      ],
      "metadata": {
        "colab": {
          "base_uri": "https://localhost:8080/"
        },
        "id": "mWytPbJG1W--",
        "outputId": "5e253b6d-e9e7-4c4d-fbc2-8625aee84c0c"
      },
      "execution_count": 84,
      "outputs": [
        {
          "output_type": "stream",
          "name": "stdout",
          "text": [
            "[[0. 0. 0. 0. 0.]\n",
            " [0. 0. 0. 0. 0.]\n",
            " [0. 0. 0. 0. 0.]\n",
            " [0. 0. 0. 0. 0.]\n",
            " [0. 0. 0. 0. 0.]]\n"
          ]
        }
      ]
    },
    {
      "cell_type": "code",
      "source": [
        "#array with ones\n",
        "ones_arrays=np.ones((7,7))\n",
        "print(ones_arrays)\n",
        "print(ones_arrays.shape)"
      ],
      "metadata": {
        "colab": {
          "base_uri": "https://localhost:8080/"
        },
        "id": "dTXGKkxq1kf9",
        "outputId": "af4bcbc3-e9a7-4c00-83cb-c16ccf930a06"
      },
      "execution_count": 85,
      "outputs": [
        {
          "output_type": "stream",
          "name": "stdout",
          "text": [
            "[[1. 1. 1. 1. 1. 1. 1.]\n",
            " [1. 1. 1. 1. 1. 1. 1.]\n",
            " [1. 1. 1. 1. 1. 1. 1.]\n",
            " [1. 1. 1. 1. 1. 1. 1.]\n",
            " [1. 1. 1. 1. 1. 1. 1.]\n",
            " [1. 1. 1. 1. 1. 1. 1.]\n",
            " [1. 1. 1. 1. 1. 1. 1.]]\n",
            "(7, 7)\n"
          ]
        }
      ]
    },
    {
      "cell_type": "code",
      "source": [
        "#using random function\n",
        "rand_array=np.random.randint(90, size=(5,5))\n",
        "print(rand_array)"
      ],
      "metadata": {
        "colab": {
          "base_uri": "https://localhost:8080/"
        },
        "id": "86ELu6N12BVy",
        "outputId": "5c261ee6-b026-483f-c00b-8019e5629df6"
      },
      "execution_count": 86,
      "outputs": [
        {
          "output_type": "stream",
          "name": "stdout",
          "text": [
            "[[49 40 49 12 80]\n",
            " [82 57 89 50 18]\n",
            " [20 32 75 81 12]\n",
            " [28 32 31 10  0]\n",
            " [41 28 10 34 61]]\n"
          ]
        }
      ]
    },
    {
      "cell_type": "markdown",
      "source": [
        "### Data Types in Numpy\n",
        "* unlike python, numpy have to have same datatype\n",
        "* supported datatypes are:\n",
        "\n",
        "\n",
        "| Data Type      | Variant     | Description                                                                 |\n",
        "|----------------|-------------|-----------------------------------------------------------------------------|\n",
        "| int            | int8, int16, int32, int64 | Integer data type with different bit sizes (8-bit, 16-bit, 32-bit, 64-bit). |\n",
        "| uint           | uint8, uint16, uint32, uint64 | Unsigned integer data type with different bit sizes.                         |\n",
        "| float          | float16, float32, float64 | Floating-point data type with different precision (16-bit, 32-bit, 64-bit).  |\n",
        "| complex        | complex64, complex128 | Complex number data type with different precision (64-bit and 128-bit).      |\n",
        "| bool           | -           | Boolean data type representing True or False values.                         |\n",
        "| str            | -           | String data type representing text.                                         |\n",
        "| object         | -           | Object data type for storing any Python object.                              |\n",
        "| datetime64     | -           | Date and time data type with nanosecond precision.                           |\n",
        "| timedelta64   | -            | Time difference data type representing the difference between two datetime64 values. |\n",
        "| void           | -           | Raw data type for storing fixed-size blocks of memory.                       |\n"
      ],
      "metadata": {
        "id": "WpBTCuej2ZLK"
      }
    },
    {
      "cell_type": "code",
      "source": [
        "#numpy to create a list\n",
        "num_exe=np.array([1,2,3,4,5,6])\n",
        "print(num_exe)\n",
        "print(num_exe.dtype)"
      ],
      "metadata": {
        "colab": {
          "base_uri": "https://localhost:8080/"
        },
        "id": "C7m9gXkC37t3",
        "outputId": "e3d6e37d-4aac-4cd6-9ba3-374703fa7b05"
      },
      "execution_count": 87,
      "outputs": [
        {
          "output_type": "stream",
          "name": "stdout",
          "text": [
            "[1 2 3 4 5 6]\n",
            "int64\n"
          ]
        }
      ]
    },
    {
      "cell_type": "code",
      "source": [
        "#numpy to create a flaot list\n",
        "num_exe=np.array([1.6323,2.5734452,3.5653573746345,4.6734526472460,5.242454626,6.346378467355134])\n",
        "print(num_exe)\n",
        "print(num_exe.dtype)"
      ],
      "metadata": {
        "colab": {
          "base_uri": "https://localhost:8080/"
        },
        "id": "_wZoDGhl6P6K",
        "outputId": "a73cc562-8ed9-4a71-f976-ddf6c03763fe"
      },
      "execution_count": 88,
      "outputs": [
        {
          "output_type": "stream",
          "name": "stdout",
          "text": [
            "[1.6323     2.5734452  3.56535737 4.67345265 5.24245463 6.34637847]\n",
            "float64\n"
          ]
        }
      ]
    },
    {
      "cell_type": "code",
      "source": [
        "#showcasing implicit conversion of string to integer\n",
        "lst=[4,5,8,1,5,'4', '67']\n",
        "new_lst=np.array(lst)\n",
        "print(new_lst)\n",
        "print(new_lst.dtype)"
      ],
      "metadata": {
        "colab": {
          "base_uri": "https://localhost:8080/"
        },
        "id": "eGQFmN-v6i9B",
        "outputId": "cf878cbf-1946-4d93-c5d1-1b640947147a"
      },
      "execution_count": 89,
      "outputs": [
        {
          "output_type": "stream",
          "name": "stdout",
          "text": [
            "['4' '5' '8' '1' '5' '4' '67']\n",
            "<U21\n"
          ]
        }
      ]
    },
    {
      "cell_type": "code",
      "source": [
        "#explicit conversion to integer\n",
        "new_lst=new_lst.astype(int)\n",
        "print(new_lst)\n",
        "print(new_lst.dtype)"
      ],
      "metadata": {
        "colab": {
          "base_uri": "https://localhost:8080/"
        },
        "id": "u-Y1uZLz6vh4",
        "outputId": "a3efd5f2-d658-4078-9c0a-da8c7a9b0d64"
      },
      "execution_count": 90,
      "outputs": [
        {
          "output_type": "stream",
          "name": "stdout",
          "text": [
            "[ 4  5  8  1  5  4 67]\n",
            "int64\n"
          ]
        }
      ]
    },
    {
      "cell_type": "markdown",
      "source": [
        "### Slicing of NumPy arrays\n",
        " * it is used for manipulating arrays\n",
        "#### Masking -\n",
        "Masking in NumPy refers to the process of creating a boolean array (mask) based on certain conditions applied to another array."
      ],
      "metadata": {
        "id": "JbEWXfvU7lDn"
      }
    },
    {
      "cell_type": "code",
      "source": [
        "rand_array=np.random.rand(5,5)\n",
        "print(rand_array)\n",
        "print(rand_array.dtype)"
      ],
      "metadata": {
        "colab": {
          "base_uri": "https://localhost:8080/"
        },
        "id": "UgjSB8Yh9d_t",
        "outputId": "bb62369a-e069-471a-9833-f1ae059f016f"
      },
      "execution_count": 91,
      "outputs": [
        {
          "output_type": "stream",
          "name": "stdout",
          "text": [
            "[[0.31860841 0.27962823 0.68833295 0.93222778 0.37069962]\n",
            " [0.69219189 0.55153785 0.72265331 0.08647716 0.05455238]\n",
            " [0.37212885 0.16860587 0.4960026  0.68745574 0.06081677]\n",
            " [0.20713256 0.65696271 0.24674706 0.79773698 0.05892479]\n",
            " [0.32506843 0.55975611 0.85731585 0.86991796 0.10483157]]\n",
            "float64\n"
          ]
        }
      ]
    },
    {
      "cell_type": "code",
      "source": [
        "print(rand_array[2:])\n",
        "print(rand_array.dtype)\n",
        "print(rand_array[:2])\n",
        "print(rand_array.dtype)"
      ],
      "metadata": {
        "colab": {
          "base_uri": "https://localhost:8080/"
        },
        "id": "NQl_ti_x-S3L",
        "outputId": "cbd606af-edd0-4057-f40d-982f1a17d3aa"
      },
      "execution_count": 92,
      "outputs": [
        {
          "output_type": "stream",
          "name": "stdout",
          "text": [
            "[[0.37212885 0.16860587 0.4960026  0.68745574 0.06081677]\n",
            " [0.20713256 0.65696271 0.24674706 0.79773698 0.05892479]\n",
            " [0.32506843 0.55975611 0.85731585 0.86991796 0.10483157]]\n",
            "float64\n",
            "[[0.31860841 0.27962823 0.68833295 0.93222778 0.37069962]\n",
            " [0.69219189 0.55153785 0.72265331 0.08647716 0.05455238]]\n",
            "float64\n"
          ]
        }
      ]
    },
    {
      "cell_type": "code",
      "source": [
        "#masking of array\n",
        "arr=np.array([2,3,56,8,34,2,6,7,3,6,75,425,3,12,6,7,8])\n",
        "mask=(arr%2)==0\n",
        "new_list=arr[mask]\n",
        "print(\"Oringinal array is : \", arr)\n",
        "print(\"Array after masking is : \", new_list)"
      ],
      "metadata": {
        "colab": {
          "base_uri": "https://localhost:8080/"
        },
        "id": "oOu1egz4CPwH",
        "outputId": "4df8db75-792b-43c5-fe6f-4f981bc06e35"
      },
      "execution_count": 93,
      "outputs": [
        {
          "output_type": "stream",
          "name": "stdout",
          "text": [
            "Oringinal array is :  [  2   3  56   8  34   2   6   7   3   6  75 425   3  12   6   7   8]\n",
            "Array after masking is :  [ 2 56  8 34  2  6  6 12  6  8]\n"
          ]
        }
      ]
    },
    {
      "cell_type": "markdown",
      "source": [
        "### Transpose of Matrix\n",
        "* Converts rows into column and column into rows\n",
        "* can change the shape of the original matrix\n",
        "\n",
        "example matrix A=\n",
        "[\n",
        "    [1,2,3],\n",
        "    [4,5,6],\n",
        "    [7,8,9]\n",
        "]\n",
        "\n",
        "now the transpose of thie matrix is\n",
        "A=\n",
        "[\n",
        "    [1,4,7],\n",
        "    [2,5,8],\n",
        "    [3,6,9]\n",
        "]"
      ],
      "metadata": {
        "id": "92pizyB1OwlK"
      }
    },
    {
      "cell_type": "code",
      "source": [
        "new_list=np.array([\n",
        "    [1,2,3],\n",
        "    [4,5,6],\n",
        "    [7,8,9]\n",
        "])\n",
        "print(new_list)"
      ],
      "metadata": {
        "colab": {
          "base_uri": "https://localhost:8080/"
        },
        "id": "9fbzKWewPccK",
        "outputId": "fc66f031-5f3c-4153-dec1-ee5e9fb64587"
      },
      "execution_count": 94,
      "outputs": [
        {
          "output_type": "stream",
          "name": "stdout",
          "text": [
            "[[1 2 3]\n",
            " [4 5 6]\n",
            " [7 8 9]]\n"
          ]
        }
      ]
    },
    {
      "cell_type": "code",
      "source": [
        "#transpose type 1\n",
        "transpose_matrix=new_list.transpose()\n",
        "print(transpose_matrix, \"\\n\\n\")\n",
        "\n",
        "#transpose type 2\n",
        "transpose_matrix=transpose_matrix.T\n",
        "print(transpose_matrix)"
      ],
      "metadata": {
        "colab": {
          "base_uri": "https://localhost:8080/"
        },
        "id": "Fqqql2d8Psw3",
        "outputId": "b71670a0-ea0a-4d5b-b16b-36120765fa5a"
      },
      "execution_count": 95,
      "outputs": [
        {
          "output_type": "stream",
          "name": "stdout",
          "text": [
            "[[1 4 7]\n",
            " [2 5 8]\n",
            " [3 6 9]] \n",
            "\n",
            "\n",
            "[[1 2 3]\n",
            " [4 5 6]\n",
            " [7 8 9]]\n"
          ]
        }
      ]
    },
    {
      "cell_type": "code",
      "source": [
        "#to perform calculation row-wise\n",
        "sum_row=transpose_matrix.sum(axis=0)\n",
        "print(sum_row, \"\\n\\n\")"
      ],
      "metadata": {
        "colab": {
          "base_uri": "https://localhost:8080/"
        },
        "id": "2hkEQL7cQKSE",
        "outputId": "d8c8c34b-2d9e-4d71-8576-0ba08e14da26"
      },
      "execution_count": 96,
      "outputs": [
        {
          "output_type": "stream",
          "name": "stdout",
          "text": [
            "[12 15 18] \n",
            "\n",
            "\n"
          ]
        }
      ]
    },
    {
      "cell_type": "markdown",
      "source": [
        "### Broadcasting\n",
        "* broadcasting is the process of copying the matrix inorder to the the mathematical task done,\n",
        "* it allows us to add matrix of different shapes and sizes,\n",
        "*  it is only possible when the numebr of rows of both the matriz are the same,"
      ],
      "metadata": {
        "id": "PRWi_xvxQmZI"
      }
    },
    {
      "cell_type": "code",
      "source": [
        "new_list=np.array([\n",
        "    [1,2,3],\n",
        "    [4,5,6],\n",
        "    [7,8,9]\n",
        "])\n",
        "new_small_matrix=np.array([[1],\n",
        "                           [2],\n",
        "                           [3]])\n",
        "sum_matrix=new_list+new_small_matrix\n",
        "print(sum_matrix)"
      ],
      "metadata": {
        "colab": {
          "base_uri": "https://localhost:8080/"
        },
        "id": "jJ7y60fXR0Mh",
        "outputId": "1d601d5f-b9b2-461e-d3ad-b519e23f5b75"
      },
      "execution_count": 97,
      "outputs": [
        {
          "output_type": "stream",
          "name": "stdout",
          "text": [
            "[[ 2  3  4]\n",
            " [ 6  7  8]\n",
            " [10 11 12]]\n"
          ]
        }
      ]
    },
    {
      "cell_type": "markdown",
      "source": [
        "### Matrix multiplication\n",
        "* GPU's help accelerate Matrix multiplication,\n",
        "* number of columns at the LHS must be equal to the number of rows at the RHS"
      ],
      "metadata": {
        "id": "szmuf_vVSjCf"
      }
    },
    {
      "cell_type": "code",
      "source": [
        "a=np.array([\n",
        "    [1,2,3],\n",
        "    [4,5,6],\n",
        "    [7,8,9]\n",
        "])\n",
        "\n",
        "b=np.array([\n",
        "    [1, 2, 3]\n",
        "])\n",
        "\n",
        "c=a*b\n",
        "print(c)\n",
        "\n",
        "b=b.T\n",
        "c=a*b\n",
        "print(b)\n",
        "print(c)"
      ],
      "metadata": {
        "colab": {
          "base_uri": "https://localhost:8080/"
        },
        "id": "b_rVjIFJUCnK",
        "outputId": "8ec445a2-2f71-4211-a1f9-a055c28820b1"
      },
      "execution_count": 98,
      "outputs": [
        {
          "output_type": "stream",
          "name": "stdout",
          "text": [
            "[[ 1  4  9]\n",
            " [ 4 10 18]\n",
            " [ 7 16 27]]\n",
            "[[1]\n",
            " [2]\n",
            " [3]]\n",
            "[[ 1  2  3]\n",
            " [ 8 10 12]\n",
            " [21 24 27]]\n"
          ]
        }
      ]
    },
    {
      "cell_type": "markdown",
      "source": [
        "### **Tensors**\n",
        "* matrix is a 2d array, while a tensor is a 3D array,\n",
        "* they can also be 4d, 5d and so onn. but, they are generally 3d arrays\n",
        "* scalars have zero dimensions\n",
        "* Vectors have one dimensions (rows)\n",
        "* matrix have two dimensions (rows and columns)\n",
        "* tensors have multi dimensions (rows, columns and height)\n",
        "* most common example of a 3d matrix(tensor) is a color image\n",
        "\n",
        "#### Transpose of a tensor\n",
        "* tensors transpose is obtained by rotating the 3d matrix (swaps dept and columns)\n",
        "\n"
      ],
      "metadata": {
        "id": "ruK1Gd_nWXCE"
      }
    },
    {
      "cell_type": "markdown",
      "source": [
        "## Pandas\n",
        "* it is used to read and manipulate the tabular data using data frames,\n",
        "* it used numpy under the hood,\n",
        "* similar to using SQL,\n",
        "* Pandas can read data from files like CSV.\n",
        "* Pandas cannot be used on **Non-tabular** data, image data, and when the data size exceeds 3gb as Pandas are not multithreaded"
      ],
      "metadata": {
        "id": "CbNhHfGQGrzz"
      }
    },
    {
      "cell_type": "markdown",
      "source": [
        "### DataFrames and Series\n",
        "* DataFrame and Series are the two  main datastructures of Panadas:\n",
        "* Series is a singel dimensional labelled data type, which can hold any type of element and each element can be indexed.\n",
        "* DataFrame is basically a Tables, or combination of series\n",
        "* Pandas follows a column first principle,\n"
      ],
      "metadata": {
        "id": "OaXl6It4IiBX"
      }
    },
    {
      "cell_type": "code",
      "source": [
        "import pandas as pd\n",
        "import numpy as np\n",
        "\n",
        "a=[[1,2,3], [4,5,6], [7,8,9]]\n",
        "arr=np.array(a)\n",
        "print(a)\n",
        "\n",
        "arrDF=pd.DataFrame(arr)\n",
        "print(arrDF)"
      ],
      "metadata": {
        "colab": {
          "base_uri": "https://localhost:8080/"
        },
        "id": "8yvNHon_Jh_i",
        "outputId": "aeb4f334-6372-413c-a0ae-c71f16adc985"
      },
      "execution_count": 99,
      "outputs": [
        {
          "output_type": "stream",
          "name": "stdout",
          "text": [
            "[[1, 2, 3], [4, 5, 6], [7, 8, 9]]\n",
            "   0  1  2\n",
            "0  1  2  3\n",
            "1  4  5  6\n",
            "2  7  8  9\n"
          ]
        }
      ]
    },
    {
      "cell_type": "code",
      "source": [
        "marks=pd.DataFrame([{'Maths':3, 'Science':2}, {'Maths':3, 'Science':4}, {'Maths':4, 'Science':5}])\n",
        "print(marks)"
      ],
      "metadata": {
        "colab": {
          "base_uri": "https://localhost:8080/"
        },
        "id": "sEf8CMIt2fml",
        "outputId": "d23ade05-8770-45d2-8c15-447934eb4481"
      },
      "execution_count": 100,
      "outputs": [
        {
          "output_type": "stream",
          "name": "stdout",
          "text": [
            "   Maths  Science\n",
            "0      3        2\n",
            "1      3        4\n",
            "2      4        5\n"
          ]
        }
      ]
    },
    {
      "cell_type": "code",
      "source": [
        "#to print just the maths marks\n",
        "new_math=marks.Maths\n",
        "print(new_math)"
      ],
      "metadata": {
        "colab": {
          "base_uri": "https://localhost:8080/"
        },
        "id": "ZkYngJyQ3A7a",
        "outputId": "7b6d3604-f02a-4d94-9cbd-2b0ce444f86a"
      },
      "execution_count": 101,
      "outputs": [
        {
          "output_type": "stream",
          "name": "stdout",
          "text": [
            "0    3\n",
            "1    3\n",
            "2    4\n",
            "Name: Maths, dtype: int64\n"
          ]
        }
      ]
    },
    {
      "cell_type": "code",
      "source": [
        "#Difference between the series and  dataframes\n",
        "#print(marks.dtype)\n",
        "print(type(marks))\n",
        "print(type(marks.Maths))\n",
        "print(marks.info())"
      ],
      "metadata": {
        "colab": {
          "base_uri": "https://localhost:8080/"
        },
        "id": "MlLpT6ag3OyP",
        "outputId": "f101937b-e201-4d22-cfe4-2856d0f56a58"
      },
      "execution_count": 102,
      "outputs": [
        {
          "output_type": "stream",
          "name": "stdout",
          "text": [
            "<class 'pandas.core.frame.DataFrame'>\n",
            "<class 'pandas.core.series.Series'>\n",
            "<class 'pandas.core.frame.DataFrame'>\n",
            "RangeIndex: 3 entries, 0 to 2\n",
            "Data columns (total 2 columns):\n",
            " #   Column   Non-Null Count  Dtype\n",
            "---  ------   --------------  -----\n",
            " 0   Maths    3 non-null      int64\n",
            " 1   Science  3 non-null      int64\n",
            "dtypes: int64(2)\n",
            "memory usage: 176.0 bytes\n",
            "None\n"
          ]
        }
      ]
    },
    {
      "cell_type": "code",
      "source": [
        "#multiplying the dataframe to have same elements\n",
        "marks=pd.DataFrame([{'Maths':3, 'Science':2}, {'Maths':3, 'Science':4}, {'Maths':4, 'Science':5}]*100)\n",
        "print(marks)"
      ],
      "metadata": {
        "colab": {
          "base_uri": "https://localhost:8080/"
        },
        "id": "KCjaUq1m4Mtb",
        "outputId": "9dd9eacf-3e8f-4a68-eea5-b65c04375f31"
      },
      "execution_count": 103,
      "outputs": [
        {
          "output_type": "stream",
          "name": "stdout",
          "text": [
            "     Maths  Science\n",
            "0        3        2\n",
            "1        3        4\n",
            "2        4        5\n",
            "3        3        2\n",
            "4        3        4\n",
            "..     ...      ...\n",
            "295      3        4\n",
            "296      4        5\n",
            "297      3        2\n",
            "298      3        4\n",
            "299      4        5\n",
            "\n",
            "[300 rows x 2 columns]\n"
          ]
        }
      ]
    },
    {
      "cell_type": "code",
      "source": [
        "print(marks.head())"
      ],
      "metadata": {
        "colab": {
          "base_uri": "https://localhost:8080/"
        },
        "id": "5ZuWQhEh4Vig",
        "outputId": "7447ad2d-fd77-4b77-d209-da6629ab7713"
      },
      "execution_count": 104,
      "outputs": [
        {
          "output_type": "stream",
          "name": "stdout",
          "text": [
            "   Maths  Science\n",
            "0      3        2\n",
            "1      3        4\n",
            "2      4        5\n",
            "3      3        2\n",
            "4      3        4\n"
          ]
        }
      ]
    },
    {
      "cell_type": "markdown",
      "source": [
        "### Reading Data\n",
        "\n",
        "| Data Format | Description                                              | Pandas Function                  |\n",
        "|-------------|----------------------------------------------------------|----------------------------------|\n",
        "| CSV         | Comma-separated values                                   | `pd.read_csv()`                  |\n",
        "| Excel       | Microsoft Excel files (.xls or .xlsx)                    | `pd.read_excel()`                |\n",
        "| JSON        | JavaScript Object Notation                               | `pd.read_json()`                 |\n",
        "| HTML        | Hypertext Markup Language                                | `pd.read_html()`                 |\n",
        "| SQL         | Structured Query Language                                | `pd.read_sql()`                  |\n",
        "| HDF5        | Hierarchical Data Format version 5                       | `pd.read_hdf()`                  |\n",
        "| Feather     | Feather binary columnar data format                      | `pd.read_feather()`              |\n",
        "| Parquet     | Apache Parquet columnar storage format                   | `pd.read_parquet()`              |\n",
        "| ORC         | Optimized Row Columnar (ORC) format                      | `pd.read_orc()`                  |\n",
        "| Msgpack     | MessagePack serialized format                            | `pd.read_msgpack()`              |\n",
        "| Stata       | Stata data files (.dta)                                   | `pd.read_stata()`                |\n",
        "| SAS         | SAS datasets                                             | `pd.read_sas()`                  |\n",
        "| SPSS        | SPSS datasets (.sav)                                      | `pd.read_spss()`                 |\n",
        "| Google BigQuery | Google BigQuery SQL database                             | `pd.read_gbq()`                  |\n",
        "| Clipboard   | Data copied to the clipboard                             | `pd.read_clipboard()`            |\n",
        "| Pickle      | Python pickle format                                      | `pd.read_pickle()`               |\n",
        "| Avro        | Apache Avro data serialization format                    | `pd.read_avro()`                 |\n",
        "| Feather     | Feather binary columnar data format                      | `pd.read_feather()`              |\n",
        "| Arrow       | Apache Arrow file format                                  | `pd.read_arrow()`                |\n",
        "| MATLAB      | MATLAB data files (.mat)                                  | `pd.read_mat()`                  |\n",
        "| YAML        | YAML (YAML Ain't Markup Language) format                  | `pd.read_yaml()`                 |\n",
        "\n",
        "\n",
        "#### Datatype supported by Pandas\n",
        "\n",
        "| Data Type    | Description                                        |\n",
        "|--------------|----------------------------------------------------|\n",
        "| int64        | Integer numbers                                    |\n",
        "| float64      | Floating-point numbers                             |\n",
        "| object       | Python objects (usually strings)                   |\n",
        "| bool         | Boolean values (True or False)                     |\n",
        "| datetime64   | Date and time values                               |\n",
        "| timedelta64  | Differences between two datetime values            |\n",
        "| category     | Categorical data (a fixed, finite set of values)   |"
      ],
      "metadata": {
        "id": "gUPGg-ON4chP"
      }
    },
    {
      "cell_type": "code",
      "source": [
        "import pandas as pd\n",
        "countries_covid_data=pd.read_csv(\"/content/sample_data/countries-aggregated.csv\")\n",
        "print(countries_covid_data)\n",
        "print(type(countries_covid_data))"
      ],
      "metadata": {
        "colab": {
          "base_uri": "https://localhost:8080/"
        },
        "id": "7c3sydC15Ef5",
        "outputId": "84af4ed0-1c9e-44f6-d542-c3372fc85610"
      },
      "execution_count": 105,
      "outputs": [
        {
          "output_type": "stream",
          "name": "stdout",
          "text": [
            "              Date      Country  Confirmed  Recovered  Deaths\n",
            "0       2020-01-22  Afghanistan          0          0       0\n",
            "1       2020-01-23  Afghanistan          0          0       0\n",
            "2       2020-01-24  Afghanistan          0          0       0\n",
            "3       2020-01-25  Afghanistan          0          0       0\n",
            "4       2020-01-26  Afghanistan          0          0       0\n",
            "...            ...          ...        ...        ...     ...\n",
            "161563  2022-04-12     Zimbabwe     247094          0    5460\n",
            "161564  2022-04-13     Zimbabwe     247160          0    5460\n",
            "161565  2022-04-14     Zimbabwe     247208          0    5462\n",
            "161566  2022-04-15     Zimbabwe     247237          0    5462\n",
            "161567  2022-04-16     Zimbabwe     247237          0    5462\n",
            "\n",
            "[161568 rows x 5 columns]\n",
            "<class 'pandas.core.frame.DataFrame'>\n"
          ]
        }
      ]
    },
    {
      "cell_type": "code",
      "source": [
        "#convert the data to date and time\n",
        "countries_covid_data['Date']=pd.to_datetime(countries_covid_data[\"Date\"])\n",
        "print(countries_covid_data)"
      ],
      "metadata": {
        "colab": {
          "base_uri": "https://localhost:8080/"
        },
        "id": "SttKyf7u5yqQ",
        "outputId": "762668d7-4203-4293-adee-108dd96b07dd"
      },
      "execution_count": 106,
      "outputs": [
        {
          "output_type": "stream",
          "name": "stdout",
          "text": [
            "             Date      Country  Confirmed  Recovered  Deaths\n",
            "0      2020-01-22  Afghanistan          0          0       0\n",
            "1      2020-01-23  Afghanistan          0          0       0\n",
            "2      2020-01-24  Afghanistan          0          0       0\n",
            "3      2020-01-25  Afghanistan          0          0       0\n",
            "4      2020-01-26  Afghanistan          0          0       0\n",
            "...           ...          ...        ...        ...     ...\n",
            "161563 2022-04-12     Zimbabwe     247094          0    5460\n",
            "161564 2022-04-13     Zimbabwe     247160          0    5460\n",
            "161565 2022-04-14     Zimbabwe     247208          0    5462\n",
            "161566 2022-04-15     Zimbabwe     247237          0    5462\n",
            "161567 2022-04-16     Zimbabwe     247237          0    5462\n",
            "\n",
            "[161568 rows x 5 columns]\n"
          ]
        }
      ]
    },
    {
      "cell_type": "code",
      "source": [
        "countries_covid_data.info()"
      ],
      "metadata": {
        "colab": {
          "base_uri": "https://localhost:8080/"
        },
        "id": "MXV2j2XZB30j",
        "outputId": "d3e9ba6f-e4b9-4c33-cfb8-58df05b54616"
      },
      "execution_count": 107,
      "outputs": [
        {
          "output_type": "stream",
          "name": "stdout",
          "text": [
            "<class 'pandas.core.frame.DataFrame'>\n",
            "RangeIndex: 161568 entries, 0 to 161567\n",
            "Data columns (total 5 columns):\n",
            " #   Column     Non-Null Count   Dtype         \n",
            "---  ------     --------------   -----         \n",
            " 0   Date       161568 non-null  datetime64[ns]\n",
            " 1   Country    161568 non-null  object        \n",
            " 2   Confirmed  161568 non-null  int64         \n",
            " 3   Recovered  161568 non-null  int64         \n",
            " 4   Deaths     161568 non-null  int64         \n",
            "dtypes: datetime64[ns](1), int64(3), object(1)\n",
            "memory usage: 6.2+ MB\n"
          ]
        }
      ]
    },
    {
      "cell_type": "code",
      "source": [
        "#finding how mmany unique values\n",
        "print(f\"How many Dates : \", countries_covid_data[\"Date\"].nunique())\n",
        "print(f\"How many Country : \", countries_covid_data[\"Country\"].nunique())"
      ],
      "metadata": {
        "colab": {
          "base_uri": "https://localhost:8080/"
        },
        "id": "u47CL_xCCFhU",
        "outputId": "9f02a70b-3609-41c1-b102-32fb92729670"
      },
      "execution_count": 108,
      "outputs": [
        {
          "output_type": "stream",
          "name": "stdout",
          "text": [
            "How many Dates :  816\n",
            "How many Country :  198\n"
          ]
        }
      ]
    },
    {
      "cell_type": "markdown",
      "source": [
        "### DataFrane indexing\n",
        "* it is an analgous  to python list index,\n",
        "* in DataFranes, you can also use String for indexing,\n",
        "* DataFrame indexing is performed using `iloc` and `loc`"
      ],
      "metadata": {
        "id": "61XfxWlCCoaw"
      }
    }
  ]
}