{
  "cells": [
    {
      "cell_type": "markdown",
      "metadata": {
        "id": "view-in-github",
        "colab_type": "text"
      },
      "source": [
        "<a href=\"https://colab.research.google.com/github/ameer-salam/Notes/blob/main/Data_Science_(Python).ipynb\" target=\"_parent\"><img src=\"https://colab.research.google.com/assets/colab-badge.svg\" alt=\"Open In Colab\"/></a>"
      ]
    },
    {
      "cell_type": "markdown",
      "metadata": {
        "id": "VZmy703Qos5Q"
      },
      "source": [
        "# Data Science Course - Mastering the Fundamentals\n",
        "\n",
        "\n",
        "* **Uses of Python**\n",
        "1. Data Science\n",
        "2. Web developement\n",
        "3. DBMS\n",
        "4. Script writing\n",
        "5. Building pipeline\n",
        "\n",
        "\n",
        "* **What is Data Science**\n",
        "involves running experiments, doing analysis and coming to conclusion iinvolved building models and testing them,\n",
        "2.\n",
        "\n",
        "* **How to do Data Science**\n",
        "1. Extract Load Transform,\n",
        "2. A/B testing,\n",
        "3. Data Scraping and cleaning,\n",
        "4. Doing analyses and presenting results,\n",
        "5. Building and maintaining dashboards,\n",
        "6. Building and deploying ML models."
      ]
    },
    {
      "cell_type": "markdown",
      "metadata": {
        "id": "fg8hdp_IwTk4"
      },
      "source": [
        "## Numpy\n",
        "1. **What is Numpy**\n",
        "  1. Fundamental of every Data Science Library,\n",
        "  2. it deals with the fundamental building blocks of all data science algos: **Vector and Matrices**\n",
        "\n",
        "2. **When to use Numpy?**\n",
        "  1. Optimizing to do Numerical Data science work,\n",
        "  2. Numpy is a python library written in C, Making it blazingly fast.\n",
        "  3. it has a lot of submodules capable of doing a variety of tasks related to Data science.\n",
        "\n",
        "3. **When not to used Numpy**\n",
        "  1. When you are working with non-numerical data,\n",
        "  2. when data is in Text format,\n",
        "  3. numpy runs on CPU while it cannot run on GPU wehn doing something like deep learning."
      ]
    },
    {
      "cell_type": "markdown",
      "metadata": {
        "id": "1HMe5OquyBwY"
      },
      "source": [
        "### Vectors and Matrices\n",
        "1. **What is a vector**\n",
        "It is a list of numbers\n",
        "[1,3,5,3,2,8,]\n",
        "* it is very similar to python list, but it is quite differnet\n",
        "* in list you can have heterogenous elements\n",
        "* vectors only support elements with same data types(Numeric datatypes),\n",
        "* vectors are one dimensional.\n",
        "\n",
        "2. **What is a matrix**\n",
        "* matrix is a list of vectors (Collection of vectors)\n",
        "* matric is multidimensional.\n",
        "[\n",
        "  [1,2,3],\n",
        "  [4,5,6],\n",
        "  [7,8,9]\n",
        "]\n"
      ]
    },
    {
      "cell_type": "code",
      "execution_count": 120,
      "metadata": {
        "colab": {
          "base_uri": "https://localhost:8080/"
        },
        "id": "7EPFl8CjzahK",
        "outputId": "ed4feb67-1180-4901-9f26-0d4703f8460b"
      },
      "outputs": [
        {
          "output_type": "stream",
          "name": "stdout",
          "text": [
            "[1 2 3 4]\n"
          ]
        }
      ],
      "source": [
        "# code demo\n",
        "import numpy as np\n",
        "new_vector=np.array([1,2,3,4])\n",
        "print(new_vector)"
      ]
    },
    {
      "cell_type": "code",
      "execution_count": 121,
      "metadata": {
        "colab": {
          "base_uri": "https://localhost:8080/"
        },
        "id": "azJoSZgFzxqM",
        "outputId": "bcb6b088-a5b8-47e3-f955-fd1f08ecbfc3"
      },
      "outputs": [
        {
          "output_type": "stream",
          "name": "stdout",
          "text": [
            "(4,)\n"
          ]
        }
      ],
      "source": [
        "print(new_vector.shape)"
      ]
    },
    {
      "cell_type": "code",
      "execution_count": 122,
      "metadata": {
        "colab": {
          "base_uri": "https://localhost:8080/"
        },
        "id": "FFCufArfz4_u",
        "outputId": "dd03351e-04ea-4036-a2a1-2d72a2acd32b"
      },
      "outputs": [
        {
          "output_type": "stream",
          "name": "stdout",
          "text": [
            "The multidimensional list is :\n",
            "[[ 1  2  3  4]\n",
            " [ 5  6  7  8]\n",
            " [ 9 10 11 12]]\n",
            "The shape of this matrix is :  (3, 4)\n"
          ]
        }
      ],
      "source": [
        "#multidimensioanl list\n",
        "multi_dim_list=np.array([\n",
        "    [1,2,3,4],\n",
        "    [5,6,7,8],\n",
        "    [9,10,11,12]\n",
        "])\n",
        "\n",
        "print(f\"The multidimensional list is :\",multi_dim_list, sep=\"\\n\")\n",
        "print(\"The shape of this matrix is : \", multi_dim_list.shape)"
      ]
    },
    {
      "cell_type": "code",
      "execution_count": 123,
      "metadata": {
        "colab": {
          "base_uri": "https://localhost:8080/"
        },
        "id": "uifRiKjZ05gA",
        "outputId": "34e854d0-b05b-4c3a-f642-f546d85d449f"
      },
      "outputs": [
        {
          "output_type": "stream",
          "name": "stdout",
          "text": [
            "[[[ 1  2  3  4  5]]\n",
            "\n",
            " [[ 6  7  8  9 10]]]\n"
          ]
        }
      ],
      "source": [
        "#creating list with range\n",
        "range_list = np.array([[range(1,6)],[range(6,11)]])\n",
        "print(range_list)"
      ]
    },
    {
      "cell_type": "code",
      "execution_count": 124,
      "metadata": {
        "colab": {
          "base_uri": "https://localhost:8080/"
        },
        "id": "mWytPbJG1W--",
        "outputId": "798128d0-8ea0-497d-a064-6ecf12779be4"
      },
      "outputs": [
        {
          "output_type": "stream",
          "name": "stdout",
          "text": [
            "[[0. 0. 0. 0. 0.]\n",
            " [0. 0. 0. 0. 0.]\n",
            " [0. 0. 0. 0. 0.]\n",
            " [0. 0. 0. 0. 0.]\n",
            " [0. 0. 0. 0. 0.]]\n"
          ]
        }
      ],
      "source": [
        "#numpy array with all zeros\n",
        "zero_array=np.zeros((5,5))\n",
        "print(zero_array)"
      ]
    },
    {
      "cell_type": "code",
      "execution_count": 125,
      "metadata": {
        "colab": {
          "base_uri": "https://localhost:8080/"
        },
        "id": "dTXGKkxq1kf9",
        "outputId": "2d02cb83-de3c-400a-844e-db6016148fd4"
      },
      "outputs": [
        {
          "output_type": "stream",
          "name": "stdout",
          "text": [
            "[[1. 1. 1. 1. 1. 1. 1.]\n",
            " [1. 1. 1. 1. 1. 1. 1.]\n",
            " [1. 1. 1. 1. 1. 1. 1.]\n",
            " [1. 1. 1. 1. 1. 1. 1.]\n",
            " [1. 1. 1. 1. 1. 1. 1.]\n",
            " [1. 1. 1. 1. 1. 1. 1.]\n",
            " [1. 1. 1. 1. 1. 1. 1.]]\n",
            "(7, 7)\n"
          ]
        }
      ],
      "source": [
        "#array with ones\n",
        "ones_arrays=np.ones((7,7))\n",
        "print(ones_arrays)\n",
        "print(ones_arrays.shape)"
      ]
    },
    {
      "cell_type": "code",
      "execution_count": 126,
      "metadata": {
        "colab": {
          "base_uri": "https://localhost:8080/"
        },
        "id": "86ELu6N12BVy",
        "outputId": "54d25509-299c-42fd-b6ac-2237dd103367"
      },
      "outputs": [
        {
          "output_type": "stream",
          "name": "stdout",
          "text": [
            "[[ 8 60 16 46  4]\n",
            " [59  7 73 56 59]\n",
            " [77 18 60 43 34]\n",
            " [84 84 34 58 14]\n",
            " [60 68 27 80 38]]\n"
          ]
        }
      ],
      "source": [
        "#using random function\n",
        "rand_array=np.random.randint(90, size=(5,5))\n",
        "print(rand_array)"
      ]
    },
    {
      "cell_type": "markdown",
      "metadata": {
        "id": "WpBTCuej2ZLK"
      },
      "source": [
        "### Data Types in Numpy\n",
        "* unlike python, numpy have to have same datatype\n",
        "* supported datatypes are:\n",
        "\n",
        "\n",
        "| Data Type      | Variant     | Description                                                                 |\n",
        "|----------------|-------------|-----------------------------------------------------------------------------|\n",
        "| int            | int8, int16, int32, int64 | Integer data type with different bit sizes (8-bit, 16-bit, 32-bit, 64-bit). |\n",
        "| uint           | uint8, uint16, uint32, uint64 | Unsigned integer data type with different bit sizes.                         |\n",
        "| float          | float16, float32, float64 | Floating-point data type with different precision (16-bit, 32-bit, 64-bit).  |\n",
        "| complex        | complex64, complex128 | Complex number data type with different precision (64-bit and 128-bit).      |\n",
        "| bool           | -           | Boolean data type representing True or False values.                         |\n",
        "| str            | -           | String data type representing text.                                         |\n",
        "| object         | -           | Object data type for storing any Python object.                              |\n",
        "| datetime64     | -           | Date and time data type with nanosecond precision.                           |\n",
        "| timedelta64   | -            | Time difference data type representing the difference between two datetime64 values. |\n",
        "| void           | -           | Raw data type for storing fixed-size blocks of memory.                       |\n"
      ]
    },
    {
      "cell_type": "code",
      "execution_count": 127,
      "metadata": {
        "colab": {
          "base_uri": "https://localhost:8080/"
        },
        "id": "C7m9gXkC37t3",
        "outputId": "debfb0be-c837-4f55-a87a-00634affbf90"
      },
      "outputs": [
        {
          "output_type": "stream",
          "name": "stdout",
          "text": [
            "[1 2 3 4 5 6]\n",
            "int64\n"
          ]
        }
      ],
      "source": [
        "#numpy to create a list\n",
        "num_exe=np.array([1,2,3,4,5,6])\n",
        "print(num_exe)\n",
        "print(num_exe.dtype)"
      ]
    },
    {
      "cell_type": "code",
      "execution_count": 128,
      "metadata": {
        "colab": {
          "base_uri": "https://localhost:8080/"
        },
        "id": "_wZoDGhl6P6K",
        "outputId": "4d69a511-4e64-4f37-9736-611a822f0f4d"
      },
      "outputs": [
        {
          "output_type": "stream",
          "name": "stdout",
          "text": [
            "[1.6323     2.5734452  3.56535737 4.67345265 5.24245463 6.34637847]\n",
            "float64\n"
          ]
        }
      ],
      "source": [
        "#numpy to create a flaot list\n",
        "num_exe=np.array([1.6323,2.5734452,3.5653573746345,4.6734526472460,5.242454626,6.346378467355134])\n",
        "print(num_exe)\n",
        "print(num_exe.dtype)"
      ]
    },
    {
      "cell_type": "code",
      "execution_count": 129,
      "metadata": {
        "colab": {
          "base_uri": "https://localhost:8080/"
        },
        "id": "eGQFmN-v6i9B",
        "outputId": "d1995b0c-cc46-47e9-a9bc-7f37499b090a"
      },
      "outputs": [
        {
          "output_type": "stream",
          "name": "stdout",
          "text": [
            "['4' '5' '8' '1' '5' '4' '67']\n",
            "<U21\n"
          ]
        }
      ],
      "source": [
        "#showcasing implicit conversion of string to integer\n",
        "lst=[4,5,8,1,5,'4', '67']\n",
        "new_lst=np.array(lst)\n",
        "print(new_lst)\n",
        "print(new_lst.dtype)"
      ]
    },
    {
      "cell_type": "code",
      "execution_count": 130,
      "metadata": {
        "colab": {
          "base_uri": "https://localhost:8080/"
        },
        "id": "u-Y1uZLz6vh4",
        "outputId": "33f21ba2-207b-4970-89e5-2f0b426fe015"
      },
      "outputs": [
        {
          "output_type": "stream",
          "name": "stdout",
          "text": [
            "[ 4  5  8  1  5  4 67]\n",
            "int64\n"
          ]
        }
      ],
      "source": [
        "#explicit conversion to integer\n",
        "new_lst=new_lst.astype(int)\n",
        "print(new_lst)\n",
        "print(new_lst.dtype)"
      ]
    },
    {
      "cell_type": "markdown",
      "metadata": {
        "id": "JbEWXfvU7lDn"
      },
      "source": [
        "### Slicing of NumPy arrays\n",
        " * it is used for manipulating arrays\n",
        "#### Masking -\n",
        "Masking in NumPy refers to the process of creating a boolean array (mask) based on certain conditions applied to another array."
      ]
    },
    {
      "cell_type": "code",
      "execution_count": 131,
      "metadata": {
        "colab": {
          "base_uri": "https://localhost:8080/"
        },
        "id": "UgjSB8Yh9d_t",
        "outputId": "5e831d9e-d287-46b7-d8d9-93e436b808ad"
      },
      "outputs": [
        {
          "output_type": "stream",
          "name": "stdout",
          "text": [
            "[[0.11127972 0.2328426  0.48614552 0.03262156 0.06346324]\n",
            " [0.59537828 0.02557397 0.66868232 0.60901023 0.05657736]\n",
            " [0.21714589 0.48461133 0.34590323 0.82409852 0.91436596]\n",
            " [0.76657235 0.60513987 0.12019758 0.06673851 0.14942698]\n",
            " [0.46505716 0.8580686  0.46292218 0.40842135 0.33440896]]\n",
            "float64\n"
          ]
        }
      ],
      "source": [
        "rand_array=np.random.rand(5,5)\n",
        "print(rand_array)\n",
        "print(rand_array.dtype)"
      ]
    },
    {
      "cell_type": "code",
      "execution_count": 132,
      "metadata": {
        "colab": {
          "base_uri": "https://localhost:8080/"
        },
        "id": "NQl_ti_x-S3L",
        "outputId": "568a71bc-f515-4e7f-e087-dc968412d5e6"
      },
      "outputs": [
        {
          "output_type": "stream",
          "name": "stdout",
          "text": [
            "[[0.21714589 0.48461133 0.34590323 0.82409852 0.91436596]\n",
            " [0.76657235 0.60513987 0.12019758 0.06673851 0.14942698]\n",
            " [0.46505716 0.8580686  0.46292218 0.40842135 0.33440896]]\n",
            "float64\n",
            "[[0.11127972 0.2328426  0.48614552 0.03262156 0.06346324]\n",
            " [0.59537828 0.02557397 0.66868232 0.60901023 0.05657736]]\n",
            "float64\n"
          ]
        }
      ],
      "source": [
        "print(rand_array[2:])\n",
        "print(rand_array.dtype)\n",
        "print(rand_array[:2])\n",
        "print(rand_array.dtype)"
      ]
    },
    {
      "cell_type": "code",
      "execution_count": 133,
      "metadata": {
        "colab": {
          "base_uri": "https://localhost:8080/"
        },
        "id": "oOu1egz4CPwH",
        "outputId": "f4ec1280-86b2-4fa6-837f-1860308f7d72"
      },
      "outputs": [
        {
          "output_type": "stream",
          "name": "stdout",
          "text": [
            "Oringinal array is :  [  2   3  56   8  34   2   6   7   3   6  75 425   3  12   6   7   8]\n",
            "Array after masking is :  [ 2 56  8 34  2  6  6 12  6  8]\n"
          ]
        }
      ],
      "source": [
        "#masking of array\n",
        "arr=np.array([2,3,56,8,34,2,6,7,3,6,75,425,3,12,6,7,8])\n",
        "mask=(arr%2)==0\n",
        "new_list=arr[mask]\n",
        "print(\"Oringinal array is : \", arr)\n",
        "print(\"Array after masking is : \", new_list)"
      ]
    },
    {
      "cell_type": "markdown",
      "metadata": {
        "id": "92pizyB1OwlK"
      },
      "source": [
        "### Transpose of Matrix\n",
        "* Converts rows into column and column into rows\n",
        "* can change the shape of the original matrix\n",
        "\n",
        "example matrix A=\n",
        "[\n",
        "    [1,2,3],\n",
        "    [4,5,6],\n",
        "    [7,8,9]\n",
        "]\n",
        "\n",
        "now the transpose of thie matrix is\n",
        "A=\n",
        "[\n",
        "    [1,4,7],\n",
        "    [2,5,8],\n",
        "    [3,6,9]\n",
        "]"
      ]
    },
    {
      "cell_type": "code",
      "execution_count": 134,
      "metadata": {
        "colab": {
          "base_uri": "https://localhost:8080/"
        },
        "id": "9fbzKWewPccK",
        "outputId": "9d89f99a-f73d-4269-b77d-766733d20fb9"
      },
      "outputs": [
        {
          "output_type": "stream",
          "name": "stdout",
          "text": [
            "[[1 2 3]\n",
            " [4 5 6]\n",
            " [7 8 9]]\n"
          ]
        }
      ],
      "source": [
        "new_list=np.array([\n",
        "    [1,2,3],\n",
        "    [4,5,6],\n",
        "    [7,8,9]\n",
        "])\n",
        "print(new_list)"
      ]
    },
    {
      "cell_type": "code",
      "execution_count": 135,
      "metadata": {
        "colab": {
          "base_uri": "https://localhost:8080/"
        },
        "id": "Fqqql2d8Psw3",
        "outputId": "1736e199-739b-4bd7-f9bd-4c0a5b7fe2ad"
      },
      "outputs": [
        {
          "output_type": "stream",
          "name": "stdout",
          "text": [
            "[[1 4 7]\n",
            " [2 5 8]\n",
            " [3 6 9]] \n",
            "\n",
            "\n",
            "[[1 2 3]\n",
            " [4 5 6]\n",
            " [7 8 9]]\n"
          ]
        }
      ],
      "source": [
        "#transpose type 1\n",
        "transpose_matrix=new_list.transpose()\n",
        "print(transpose_matrix, \"\\n\\n\")\n",
        "\n",
        "#transpose type 2\n",
        "transpose_matrix=transpose_matrix.T\n",
        "print(transpose_matrix)"
      ]
    },
    {
      "cell_type": "code",
      "execution_count": 136,
      "metadata": {
        "colab": {
          "base_uri": "https://localhost:8080/"
        },
        "id": "2hkEQL7cQKSE",
        "outputId": "eecaf669-4609-4f05-8d23-20586fba3847"
      },
      "outputs": [
        {
          "output_type": "stream",
          "name": "stdout",
          "text": [
            "[12 15 18] \n",
            "\n",
            "\n"
          ]
        }
      ],
      "source": [
        "#to perform calculation row-wise\n",
        "sum_row=transpose_matrix.sum(axis=0)\n",
        "print(sum_row, \"\\n\\n\")"
      ]
    },
    {
      "cell_type": "markdown",
      "metadata": {
        "id": "PRWi_xvxQmZI"
      },
      "source": [
        "### Broadcasting\n",
        "* broadcasting is the process of copying the matrix inorder to the the mathematical task done,\n",
        "* it allows us to add matrix of different shapes and sizes,\n",
        "*  it is only possible when the numebr of rows of both the matriz are the same,"
      ]
    },
    {
      "cell_type": "code",
      "execution_count": 137,
      "metadata": {
        "colab": {
          "base_uri": "https://localhost:8080/"
        },
        "id": "jJ7y60fXR0Mh",
        "outputId": "9965c9b4-507a-4b79-ffc5-ef5a7722f7b0"
      },
      "outputs": [
        {
          "output_type": "stream",
          "name": "stdout",
          "text": [
            "[[ 2  3  4]\n",
            " [ 6  7  8]\n",
            " [10 11 12]]\n"
          ]
        }
      ],
      "source": [
        "new_list=np.array([\n",
        "    [1,2,3],\n",
        "    [4,5,6],\n",
        "    [7,8,9]\n",
        "])\n",
        "new_small_matrix=np.array([[1],\n",
        "                           [2],\n",
        "                           [3]])\n",
        "sum_matrix=new_list+new_small_matrix\n",
        "print(sum_matrix)"
      ]
    },
    {
      "cell_type": "markdown",
      "metadata": {
        "id": "szmuf_vVSjCf"
      },
      "source": [
        "### Matrix multiplication\n",
        "* GPU's help accelerate Matrix multiplication,\n",
        "* number of columns at the LHS must be equal to the number of rows at the RHS"
      ]
    },
    {
      "cell_type": "code",
      "execution_count": 138,
      "metadata": {
        "colab": {
          "base_uri": "https://localhost:8080/"
        },
        "id": "b_rVjIFJUCnK",
        "outputId": "c469e272-c118-4753-f0f9-3f179bd7b49a"
      },
      "outputs": [
        {
          "output_type": "stream",
          "name": "stdout",
          "text": [
            "[[ 1  4  9]\n",
            " [ 4 10 18]\n",
            " [ 7 16 27]]\n",
            "[[1]\n",
            " [2]\n",
            " [3]]\n",
            "[[ 1  2  3]\n",
            " [ 8 10 12]\n",
            " [21 24 27]]\n"
          ]
        }
      ],
      "source": [
        "a=np.array([\n",
        "    [1,2,3],\n",
        "    [4,5,6],\n",
        "    [7,8,9]\n",
        "])\n",
        "\n",
        "b=np.array([\n",
        "    [1, 2, 3]\n",
        "])\n",
        "\n",
        "c=a*b\n",
        "print(c)\n",
        "\n",
        "b=b.T\n",
        "c=a*b\n",
        "print(b)\n",
        "print(c)"
      ]
    },
    {
      "cell_type": "markdown",
      "metadata": {
        "id": "ruK1Gd_nWXCE"
      },
      "source": [
        "### **Tensors**\n",
        "* matrix is a 2d array, while a tensor is a 3D array,\n",
        "* they can also be 4d, 5d and so onn. but, they are generally 3d arrays\n",
        "* scalars have zero dimensions\n",
        "* Vectors have one dimensions (rows)\n",
        "* matrix have two dimensions (rows and columns)\n",
        "* tensors have multi dimensions (rows, columns and height)\n",
        "* most common example of a 3d matrix(tensor) is a color image\n",
        "\n",
        "#### Transpose of a tensor\n",
        "* tensors transpose is obtained by rotating the 3d matrix (swaps dept and columns)\n",
        "\n"
      ]
    },
    {
      "cell_type": "markdown",
      "metadata": {
        "id": "CbNhHfGQGrzz"
      },
      "source": [
        "## Pandas\n",
        "* it is used to read and manipulate the tabular data using data frames,\n",
        "* it used numpy under the hood,\n",
        "* similar to using SQL,\n",
        "* Pandas can read data from files like CSV.\n",
        "* Pandas cannot be used on **Non-tabular** data, image data, and when the data size exceeds 3gb as Pandas are not multithreaded"
      ]
    },
    {
      "cell_type": "markdown",
      "metadata": {
        "id": "OaXl6It4IiBX"
      },
      "source": [
        "### DataFrames and Series\n",
        "* DataFrame and Series are the two  main datastructures of Panadas:\n",
        "* Series is a singel dimensional labelled data type, which can hold any type of element and each element can be indexed.\n",
        "* DataFrame is basically a Tables, or combination of series\n",
        "* Pandas follows a column first principle,\n"
      ]
    },
    {
      "cell_type": "code",
      "execution_count": 139,
      "metadata": {
        "colab": {
          "base_uri": "https://localhost:8080/"
        },
        "id": "8yvNHon_Jh_i",
        "outputId": "4d728dd7-23c9-4534-a2d2-c54933ae81e1"
      },
      "outputs": [
        {
          "output_type": "stream",
          "name": "stdout",
          "text": [
            "[[1, 2, 3], [4, 5, 6], [7, 8, 9]]\n",
            "   0  1  2\n",
            "0  1  2  3\n",
            "1  4  5  6\n",
            "2  7  8  9\n"
          ]
        }
      ],
      "source": [
        "import pandas as pd\n",
        "import numpy as np\n",
        "\n",
        "a=[[1,2,3], [4,5,6], [7,8,9]]\n",
        "arr=np.array(a)\n",
        "print(a)\n",
        "\n",
        "arrDF=pd.DataFrame(arr)\n",
        "print(arrDF)"
      ]
    },
    {
      "cell_type": "code",
      "execution_count": 140,
      "metadata": {
        "colab": {
          "base_uri": "https://localhost:8080/"
        },
        "id": "sEf8CMIt2fml",
        "outputId": "f3736165-84c8-4419-c945-1f63413cfe29"
      },
      "outputs": [
        {
          "output_type": "stream",
          "name": "stdout",
          "text": [
            "   Maths  Science\n",
            "0      3        2\n",
            "1      3        4\n",
            "2      4        5\n"
          ]
        }
      ],
      "source": [
        "marks=pd.DataFrame([{'Maths':3, 'Science':2}, {'Maths':3, 'Science':4}, {'Maths':4, 'Science':5}])\n",
        "print(marks)"
      ]
    },
    {
      "cell_type": "code",
      "execution_count": 141,
      "metadata": {
        "colab": {
          "base_uri": "https://localhost:8080/"
        },
        "id": "ZkYngJyQ3A7a",
        "outputId": "f74c7cd9-f133-44d9-cc45-bc7fe2d7cda6"
      },
      "outputs": [
        {
          "output_type": "stream",
          "name": "stdout",
          "text": [
            "0    3\n",
            "1    3\n",
            "2    4\n",
            "Name: Maths, dtype: int64\n"
          ]
        }
      ],
      "source": [
        "#to print just the maths marks\n",
        "new_math=marks.Maths\n",
        "print(new_math)"
      ]
    },
    {
      "cell_type": "code",
      "execution_count": 142,
      "metadata": {
        "colab": {
          "base_uri": "https://localhost:8080/"
        },
        "id": "MlLpT6ag3OyP",
        "outputId": "3b48157d-feb2-48a9-8319-e447a296ebb6"
      },
      "outputs": [
        {
          "output_type": "stream",
          "name": "stdout",
          "text": [
            "<class 'pandas.core.frame.DataFrame'>\n",
            "<class 'pandas.core.series.Series'>\n",
            "<class 'pandas.core.frame.DataFrame'>\n",
            "RangeIndex: 3 entries, 0 to 2\n",
            "Data columns (total 2 columns):\n",
            " #   Column   Non-Null Count  Dtype\n",
            "---  ------   --------------  -----\n",
            " 0   Maths    3 non-null      int64\n",
            " 1   Science  3 non-null      int64\n",
            "dtypes: int64(2)\n",
            "memory usage: 176.0 bytes\n",
            "None\n"
          ]
        }
      ],
      "source": [
        "#Difference between the series and  dataframes\n",
        "#print(marks.dtype)\n",
        "print(type(marks))\n",
        "print(type(marks.Maths))\n",
        "print(marks.info())"
      ]
    },
    {
      "cell_type": "code",
      "execution_count": 143,
      "metadata": {
        "colab": {
          "base_uri": "https://localhost:8080/"
        },
        "id": "KCjaUq1m4Mtb",
        "outputId": "518d18d2-91d6-4e76-f211-82f71470268c"
      },
      "outputs": [
        {
          "output_type": "stream",
          "name": "stdout",
          "text": [
            "     Maths  Science\n",
            "0        3        2\n",
            "1        3        4\n",
            "2        4        5\n",
            "3        3        2\n",
            "4        3        4\n",
            "..     ...      ...\n",
            "295      3        4\n",
            "296      4        5\n",
            "297      3        2\n",
            "298      3        4\n",
            "299      4        5\n",
            "\n",
            "[300 rows x 2 columns]\n"
          ]
        }
      ],
      "source": [
        "#multiplying the dataframe to have same elements\n",
        "marks=pd.DataFrame([{'Maths':3, 'Science':2}, {'Maths':3, 'Science':4}, {'Maths':4, 'Science':5}]*100)\n",
        "print(marks)"
      ]
    },
    {
      "cell_type": "code",
      "execution_count": 144,
      "metadata": {
        "colab": {
          "base_uri": "https://localhost:8080/"
        },
        "id": "5ZuWQhEh4Vig",
        "outputId": "52e606a7-cf85-4254-fa01-ec16431782d8"
      },
      "outputs": [
        {
          "output_type": "stream",
          "name": "stdout",
          "text": [
            "   Maths  Science\n",
            "0      3        2\n",
            "1      3        4\n",
            "2      4        5\n",
            "3      3        2\n",
            "4      3        4\n"
          ]
        }
      ],
      "source": [
        "print(marks.head())"
      ]
    },
    {
      "cell_type": "markdown",
      "metadata": {
        "id": "gUPGg-ON4chP"
      },
      "source": [
        "### Reading Data\n",
        "\n",
        "| Data Format | Description                                              | Pandas Function                  |\n",
        "|-------------|----------------------------------------------------------|----------------------------------|\n",
        "| CSV         | Comma-separated values                                   | `pd.read_csv()`                  |\n",
        "| Excel       | Microsoft Excel files (.xls or .xlsx)                    | `pd.read_excel()`                |\n",
        "| JSON        | JavaScript Object Notation                               | `pd.read_json()`                 |\n",
        "| HTML        | Hypertext Markup Language                                | `pd.read_html()`                 |\n",
        "| SQL         | Structured Query Language                                | `pd.read_sql()`                  |\n",
        "| HDF5        | Hierarchical Data Format version 5                       | `pd.read_hdf()`                  |\n",
        "| Feather     | Feather binary columnar data format                      | `pd.read_feather()`              |\n",
        "| Parquet     | Apache Parquet columnar storage format                   | `pd.read_parquet()`              |\n",
        "| ORC         | Optimized Row Columnar (ORC) format                      | `pd.read_orc()`                  |\n",
        "| Msgpack     | MessagePack serialized format                            | `pd.read_msgpack()`              |\n",
        "| Stata       | Stata data files (.dta)                                   | `pd.read_stata()`                |\n",
        "| SAS         | SAS datasets                                             | `pd.read_sas()`                  |\n",
        "| SPSS        | SPSS datasets (.sav)                                      | `pd.read_spss()`                 |\n",
        "| Google BigQuery | Google BigQuery SQL database                             | `pd.read_gbq()`                  |\n",
        "| Clipboard   | Data copied to the clipboard                             | `pd.read_clipboard()`            |\n",
        "| Pickle      | Python pickle format                                      | `pd.read_pickle()`               |\n",
        "| Avro        | Apache Avro data serialization format                    | `pd.read_avro()`                 |\n",
        "| Feather     | Feather binary columnar data format                      | `pd.read_feather()`              |\n",
        "| Arrow       | Apache Arrow file format                                  | `pd.read_arrow()`                |\n",
        "| MATLAB      | MATLAB data files (.mat)                                  | `pd.read_mat()`                  |\n",
        "| YAML        | YAML (YAML Ain't Markup Language) format                  | `pd.read_yaml()`                 |\n",
        "\n",
        "\n",
        "#### Datatype supported by Pandas\n",
        "\n",
        "| Data Type    | Description                                        |\n",
        "|--------------|----------------------------------------------------|\n",
        "| int64        | Integer numbers                                    |\n",
        "| float64      | Floating-point numbers                             |\n",
        "| object       | Python objects (usually strings)                   |\n",
        "| bool         | Boolean values (True or False)                     |\n",
        "| datetime64   | Date and time values                               |\n",
        "| timedelta64  | Differences between two datetime values            |\n",
        "| category     | Categorical data (a fixed, finite set of values)   |"
      ]
    },
    {
      "cell_type": "code",
      "execution_count": 145,
      "metadata": {
        "colab": {
          "base_uri": "https://localhost:8080/"
        },
        "id": "7c3sydC15Ef5",
        "outputId": "ad5a7b0b-58e0-4cd3-f698-eea48e9feb8f"
      },
      "outputs": [
        {
          "output_type": "stream",
          "name": "stdout",
          "text": [
            "              Date      Country  Confirmed  Recovered  Deaths\n",
            "0       2020-01-22  Afghanistan          0          0     0.0\n",
            "1       2020-01-23  Afghanistan          0          0     0.0\n",
            "2       2020-01-24  Afghanistan          0          0     0.0\n",
            "3       2020-01-25  Afghanistan          0          0     0.0\n",
            "4       2020-01-26  Afghanistan          0          0     0.0\n",
            "...            ...          ...        ...        ...     ...\n",
            "123518  2020-11-19   San Marino       1358       1019    43.0\n",
            "123519  2020-11-20   San Marino       1373       1082    43.0\n",
            "123520  2020-11-21   San Marino       1395       1082    43.0\n",
            "123521  2020-11-22   San Marino       1427       1082    43.0\n",
            "123522  2020-11-23   San Marino       1428       1149     NaN\n",
            "\n",
            "[123523 rows x 5 columns]\n",
            "<class 'pandas.core.frame.DataFrame'>\n"
          ]
        }
      ],
      "source": [
        "import pandas as pd\n",
        "countries_covid_data=pd.read_csv(\"/content/sample_data/countries-aggregated.csv\")\n",
        "print(countries_covid_data)\n",
        "print(type(countries_covid_data))"
      ]
    },
    {
      "cell_type": "code",
      "execution_count": 146,
      "metadata": {
        "colab": {
          "base_uri": "https://localhost:8080/"
        },
        "id": "SttKyf7u5yqQ",
        "outputId": "c6cd996d-aef6-46b2-e682-193df0545b98"
      },
      "outputs": [
        {
          "output_type": "stream",
          "name": "stdout",
          "text": [
            "             Date      Country  Confirmed  Recovered  Deaths\n",
            "0      2020-01-22  Afghanistan          0          0     0.0\n",
            "1      2020-01-23  Afghanistan          0          0     0.0\n",
            "2      2020-01-24  Afghanistan          0          0     0.0\n",
            "3      2020-01-25  Afghanistan          0          0     0.0\n",
            "4      2020-01-26  Afghanistan          0          0     0.0\n",
            "...           ...          ...        ...        ...     ...\n",
            "123518 2020-11-19   San Marino       1358       1019    43.0\n",
            "123519 2020-11-20   San Marino       1373       1082    43.0\n",
            "123520 2020-11-21   San Marino       1395       1082    43.0\n",
            "123521 2020-11-22   San Marino       1427       1082    43.0\n",
            "123522 2020-11-23   San Marino       1428       1149     NaN\n",
            "\n",
            "[123523 rows x 5 columns]\n"
          ]
        }
      ],
      "source": [
        "#convert the data to date and time\n",
        "countries_covid_data['Date']=pd.to_datetime(countries_covid_data[\"Date\"])\n",
        "print(countries_covid_data)"
      ]
    },
    {
      "cell_type": "code",
      "execution_count": 147,
      "metadata": {
        "colab": {
          "base_uri": "https://localhost:8080/"
        },
        "id": "MXV2j2XZB30j",
        "outputId": "77daf7f9-b98f-4d1a-a123-8238c5f790bc"
      },
      "outputs": [
        {
          "output_type": "stream",
          "name": "stdout",
          "text": [
            "<class 'pandas.core.frame.DataFrame'>\n",
            "RangeIndex: 123523 entries, 0 to 123522\n",
            "Data columns (total 5 columns):\n",
            " #   Column     Non-Null Count   Dtype         \n",
            "---  ------     --------------   -----         \n",
            " 0   Date       123523 non-null  datetime64[ns]\n",
            " 1   Country    123523 non-null  object        \n",
            " 2   Confirmed  123523 non-null  int64         \n",
            " 3   Recovered  123523 non-null  int64         \n",
            " 4   Deaths     123522 non-null  float64       \n",
            "dtypes: datetime64[ns](1), float64(1), int64(2), object(1)\n",
            "memory usage: 4.7+ MB\n"
          ]
        }
      ],
      "source": [
        "countries_covid_data.info()"
      ]
    },
    {
      "cell_type": "code",
      "execution_count": 148,
      "metadata": {
        "colab": {
          "base_uri": "https://localhost:8080/"
        },
        "id": "u47CL_xCCFhU",
        "outputId": "436013c1-e2bb-4c60-98b6-d67fe0d268a5"
      },
      "outputs": [
        {
          "output_type": "stream",
          "name": "stdout",
          "text": [
            "How many Dates :  816\n",
            "How many Country :  152\n"
          ]
        }
      ],
      "source": [
        "#finding how mmany unique values\n",
        "print(f\"How many Dates : \", countries_covid_data[\"Date\"].nunique())\n",
        "print(f\"How many Country : \", countries_covid_data[\"Country\"].nunique())"
      ]
    },
    {
      "cell_type": "markdown",
      "metadata": {
        "id": "61XfxWlCCoaw"
      },
      "source": [
        "### DataFrane indexing\n",
        "* it is an analgous  to python list index,\n",
        "* in DataFranes, you can also use String for indexing,\n",
        "* DataFrame indexing is performed using `iloc` and `loc`"
      ]
    },
    {
      "cell_type": "code",
      "execution_count": 149,
      "metadata": {
        "colab": {
          "base_uri": "https://localhost:8080/",
          "height": 424
        },
        "id": "I3Ny7nsuD4T4",
        "outputId": "87b51084-b473-413b-aa7e-416cfeff0481"
      },
      "outputs": [
        {
          "output_type": "execute_result",
          "data": {
            "text/plain": [
              "             Date      Country  Confirmed  Recovered  Deaths\n",
              "0      2020-01-22  Afghanistan          0          0     0.0\n",
              "1      2020-01-23  Afghanistan          0          0     0.0\n",
              "2      2020-01-24  Afghanistan          0          0     0.0\n",
              "3      2020-01-25  Afghanistan          0          0     0.0\n",
              "4      2020-01-26  Afghanistan          0          0     0.0\n",
              "...           ...          ...        ...        ...     ...\n",
              "123518 2020-11-19   San Marino       1358       1019    43.0\n",
              "123519 2020-11-20   San Marino       1373       1082    43.0\n",
              "123520 2020-11-21   San Marino       1395       1082    43.0\n",
              "123521 2020-11-22   San Marino       1427       1082    43.0\n",
              "123522 2020-11-23   San Marino       1428       1149     NaN\n",
              "\n",
              "[123523 rows x 5 columns]"
            ],
            "text/html": [
              "\n",
              "  <div id=\"df-987ef640-b811-4f50-90f5-80e39f3639d8\" class=\"colab-df-container\">\n",
              "    <div>\n",
              "<style scoped>\n",
              "    .dataframe tbody tr th:only-of-type {\n",
              "        vertical-align: middle;\n",
              "    }\n",
              "\n",
              "    .dataframe tbody tr th {\n",
              "        vertical-align: top;\n",
              "    }\n",
              "\n",
              "    .dataframe thead th {\n",
              "        text-align: right;\n",
              "    }\n",
              "</style>\n",
              "<table border=\"1\" class=\"dataframe\">\n",
              "  <thead>\n",
              "    <tr style=\"text-align: right;\">\n",
              "      <th></th>\n",
              "      <th>Date</th>\n",
              "      <th>Country</th>\n",
              "      <th>Confirmed</th>\n",
              "      <th>Recovered</th>\n",
              "      <th>Deaths</th>\n",
              "    </tr>\n",
              "  </thead>\n",
              "  <tbody>\n",
              "    <tr>\n",
              "      <th>0</th>\n",
              "      <td>2020-01-22</td>\n",
              "      <td>Afghanistan</td>\n",
              "      <td>0</td>\n",
              "      <td>0</td>\n",
              "      <td>0.0</td>\n",
              "    </tr>\n",
              "    <tr>\n",
              "      <th>1</th>\n",
              "      <td>2020-01-23</td>\n",
              "      <td>Afghanistan</td>\n",
              "      <td>0</td>\n",
              "      <td>0</td>\n",
              "      <td>0.0</td>\n",
              "    </tr>\n",
              "    <tr>\n",
              "      <th>2</th>\n",
              "      <td>2020-01-24</td>\n",
              "      <td>Afghanistan</td>\n",
              "      <td>0</td>\n",
              "      <td>0</td>\n",
              "      <td>0.0</td>\n",
              "    </tr>\n",
              "    <tr>\n",
              "      <th>3</th>\n",
              "      <td>2020-01-25</td>\n",
              "      <td>Afghanistan</td>\n",
              "      <td>0</td>\n",
              "      <td>0</td>\n",
              "      <td>0.0</td>\n",
              "    </tr>\n",
              "    <tr>\n",
              "      <th>4</th>\n",
              "      <td>2020-01-26</td>\n",
              "      <td>Afghanistan</td>\n",
              "      <td>0</td>\n",
              "      <td>0</td>\n",
              "      <td>0.0</td>\n",
              "    </tr>\n",
              "    <tr>\n",
              "      <th>...</th>\n",
              "      <td>...</td>\n",
              "      <td>...</td>\n",
              "      <td>...</td>\n",
              "      <td>...</td>\n",
              "      <td>...</td>\n",
              "    </tr>\n",
              "    <tr>\n",
              "      <th>123518</th>\n",
              "      <td>2020-11-19</td>\n",
              "      <td>San Marino</td>\n",
              "      <td>1358</td>\n",
              "      <td>1019</td>\n",
              "      <td>43.0</td>\n",
              "    </tr>\n",
              "    <tr>\n",
              "      <th>123519</th>\n",
              "      <td>2020-11-20</td>\n",
              "      <td>San Marino</td>\n",
              "      <td>1373</td>\n",
              "      <td>1082</td>\n",
              "      <td>43.0</td>\n",
              "    </tr>\n",
              "    <tr>\n",
              "      <th>123520</th>\n",
              "      <td>2020-11-21</td>\n",
              "      <td>San Marino</td>\n",
              "      <td>1395</td>\n",
              "      <td>1082</td>\n",
              "      <td>43.0</td>\n",
              "    </tr>\n",
              "    <tr>\n",
              "      <th>123521</th>\n",
              "      <td>2020-11-22</td>\n",
              "      <td>San Marino</td>\n",
              "      <td>1427</td>\n",
              "      <td>1082</td>\n",
              "      <td>43.0</td>\n",
              "    </tr>\n",
              "    <tr>\n",
              "      <th>123522</th>\n",
              "      <td>2020-11-23</td>\n",
              "      <td>San Marino</td>\n",
              "      <td>1428</td>\n",
              "      <td>1149</td>\n",
              "      <td>NaN</td>\n",
              "    </tr>\n",
              "  </tbody>\n",
              "</table>\n",
              "<p>123523 rows × 5 columns</p>\n",
              "</div>\n",
              "    <div class=\"colab-df-buttons\">\n",
              "\n",
              "  <div class=\"colab-df-container\">\n",
              "    <button class=\"colab-df-convert\" onclick=\"convertToInteractive('df-987ef640-b811-4f50-90f5-80e39f3639d8')\"\n",
              "            title=\"Convert this dataframe to an interactive table.\"\n",
              "            style=\"display:none;\">\n",
              "\n",
              "  <svg xmlns=\"http://www.w3.org/2000/svg\" height=\"24px\" viewBox=\"0 -960 960 960\">\n",
              "    <path d=\"M120-120v-720h720v720H120Zm60-500h600v-160H180v160Zm220 220h160v-160H400v160Zm0 220h160v-160H400v160ZM180-400h160v-160H180v160Zm440 0h160v-160H620v160ZM180-180h160v-160H180v160Zm440 0h160v-160H620v160Z\"/>\n",
              "  </svg>\n",
              "    </button>\n",
              "\n",
              "  <style>\n",
              "    .colab-df-container {\n",
              "      display:flex;\n",
              "      gap: 12px;\n",
              "    }\n",
              "\n",
              "    .colab-df-convert {\n",
              "      background-color: #E8F0FE;\n",
              "      border: none;\n",
              "      border-radius: 50%;\n",
              "      cursor: pointer;\n",
              "      display: none;\n",
              "      fill: #1967D2;\n",
              "      height: 32px;\n",
              "      padding: 0 0 0 0;\n",
              "      width: 32px;\n",
              "    }\n",
              "\n",
              "    .colab-df-convert:hover {\n",
              "      background-color: #E2EBFA;\n",
              "      box-shadow: 0px 1px 2px rgba(60, 64, 67, 0.3), 0px 1px 3px 1px rgba(60, 64, 67, 0.15);\n",
              "      fill: #174EA6;\n",
              "    }\n",
              "\n",
              "    .colab-df-buttons div {\n",
              "      margin-bottom: 4px;\n",
              "    }\n",
              "\n",
              "    [theme=dark] .colab-df-convert {\n",
              "      background-color: #3B4455;\n",
              "      fill: #D2E3FC;\n",
              "    }\n",
              "\n",
              "    [theme=dark] .colab-df-convert:hover {\n",
              "      background-color: #434B5C;\n",
              "      box-shadow: 0px 1px 3px 1px rgba(0, 0, 0, 0.15);\n",
              "      filter: drop-shadow(0px 1px 2px rgba(0, 0, 0, 0.3));\n",
              "      fill: #FFFFFF;\n",
              "    }\n",
              "  </style>\n",
              "\n",
              "    <script>\n",
              "      const buttonEl =\n",
              "        document.querySelector('#df-987ef640-b811-4f50-90f5-80e39f3639d8 button.colab-df-convert');\n",
              "      buttonEl.style.display =\n",
              "        google.colab.kernel.accessAllowed ? 'block' : 'none';\n",
              "\n",
              "      async function convertToInteractive(key) {\n",
              "        const element = document.querySelector('#df-987ef640-b811-4f50-90f5-80e39f3639d8');\n",
              "        const dataTable =\n",
              "          await google.colab.kernel.invokeFunction('convertToInteractive',\n",
              "                                                    [key], {});\n",
              "        if (!dataTable) return;\n",
              "\n",
              "        const docLinkHtml = 'Like what you see? Visit the ' +\n",
              "          '<a target=\"_blank\" href=https://colab.research.google.com/notebooks/data_table.ipynb>data table notebook</a>'\n",
              "          + ' to learn more about interactive tables.';\n",
              "        element.innerHTML = '';\n",
              "        dataTable['output_type'] = 'display_data';\n",
              "        await google.colab.output.renderOutput(dataTable, element);\n",
              "        const docLink = document.createElement('div');\n",
              "        docLink.innerHTML = docLinkHtml;\n",
              "        element.appendChild(docLink);\n",
              "      }\n",
              "    </script>\n",
              "  </div>\n",
              "\n",
              "\n",
              "<div id=\"df-c7e45f7a-3e64-47f0-a4d4-b0eeb4d9c90b\">\n",
              "  <button class=\"colab-df-quickchart\" onclick=\"quickchart('df-c7e45f7a-3e64-47f0-a4d4-b0eeb4d9c90b')\"\n",
              "            title=\"Suggest charts\"\n",
              "            style=\"display:none;\">\n",
              "\n",
              "<svg xmlns=\"http://www.w3.org/2000/svg\" height=\"24px\"viewBox=\"0 0 24 24\"\n",
              "     width=\"24px\">\n",
              "    <g>\n",
              "        <path d=\"M19 3H5c-1.1 0-2 .9-2 2v14c0 1.1.9 2 2 2h14c1.1 0 2-.9 2-2V5c0-1.1-.9-2-2-2zM9 17H7v-7h2v7zm4 0h-2V7h2v10zm4 0h-2v-4h2v4z\"/>\n",
              "    </g>\n",
              "</svg>\n",
              "  </button>\n",
              "\n",
              "<style>\n",
              "  .colab-df-quickchart {\n",
              "      --bg-color: #E8F0FE;\n",
              "      --fill-color: #1967D2;\n",
              "      --hover-bg-color: #E2EBFA;\n",
              "      --hover-fill-color: #174EA6;\n",
              "      --disabled-fill-color: #AAA;\n",
              "      --disabled-bg-color: #DDD;\n",
              "  }\n",
              "\n",
              "  [theme=dark] .colab-df-quickchart {\n",
              "      --bg-color: #3B4455;\n",
              "      --fill-color: #D2E3FC;\n",
              "      --hover-bg-color: #434B5C;\n",
              "      --hover-fill-color: #FFFFFF;\n",
              "      --disabled-bg-color: #3B4455;\n",
              "      --disabled-fill-color: #666;\n",
              "  }\n",
              "\n",
              "  .colab-df-quickchart {\n",
              "    background-color: var(--bg-color);\n",
              "    border: none;\n",
              "    border-radius: 50%;\n",
              "    cursor: pointer;\n",
              "    display: none;\n",
              "    fill: var(--fill-color);\n",
              "    height: 32px;\n",
              "    padding: 0;\n",
              "    width: 32px;\n",
              "  }\n",
              "\n",
              "  .colab-df-quickchart:hover {\n",
              "    background-color: var(--hover-bg-color);\n",
              "    box-shadow: 0 1px 2px rgba(60, 64, 67, 0.3), 0 1px 3px 1px rgba(60, 64, 67, 0.15);\n",
              "    fill: var(--button-hover-fill-color);\n",
              "  }\n",
              "\n",
              "  .colab-df-quickchart-complete:disabled,\n",
              "  .colab-df-quickchart-complete:disabled:hover {\n",
              "    background-color: var(--disabled-bg-color);\n",
              "    fill: var(--disabled-fill-color);\n",
              "    box-shadow: none;\n",
              "  }\n",
              "\n",
              "  .colab-df-spinner {\n",
              "    border: 2px solid var(--fill-color);\n",
              "    border-color: transparent;\n",
              "    border-bottom-color: var(--fill-color);\n",
              "    animation:\n",
              "      spin 1s steps(1) infinite;\n",
              "  }\n",
              "\n",
              "  @keyframes spin {\n",
              "    0% {\n",
              "      border-color: transparent;\n",
              "      border-bottom-color: var(--fill-color);\n",
              "      border-left-color: var(--fill-color);\n",
              "    }\n",
              "    20% {\n",
              "      border-color: transparent;\n",
              "      border-left-color: var(--fill-color);\n",
              "      border-top-color: var(--fill-color);\n",
              "    }\n",
              "    30% {\n",
              "      border-color: transparent;\n",
              "      border-left-color: var(--fill-color);\n",
              "      border-top-color: var(--fill-color);\n",
              "      border-right-color: var(--fill-color);\n",
              "    }\n",
              "    40% {\n",
              "      border-color: transparent;\n",
              "      border-right-color: var(--fill-color);\n",
              "      border-top-color: var(--fill-color);\n",
              "    }\n",
              "    60% {\n",
              "      border-color: transparent;\n",
              "      border-right-color: var(--fill-color);\n",
              "    }\n",
              "    80% {\n",
              "      border-color: transparent;\n",
              "      border-right-color: var(--fill-color);\n",
              "      border-bottom-color: var(--fill-color);\n",
              "    }\n",
              "    90% {\n",
              "      border-color: transparent;\n",
              "      border-bottom-color: var(--fill-color);\n",
              "    }\n",
              "  }\n",
              "</style>\n",
              "\n",
              "  <script>\n",
              "    async function quickchart(key) {\n",
              "      const quickchartButtonEl =\n",
              "        document.querySelector('#' + key + ' button');\n",
              "      quickchartButtonEl.disabled = true;  // To prevent multiple clicks.\n",
              "      quickchartButtonEl.classList.add('colab-df-spinner');\n",
              "      try {\n",
              "        const charts = await google.colab.kernel.invokeFunction(\n",
              "            'suggestCharts', [key], {});\n",
              "      } catch (error) {\n",
              "        console.error('Error during call to suggestCharts:', error);\n",
              "      }\n",
              "      quickchartButtonEl.classList.remove('colab-df-spinner');\n",
              "      quickchartButtonEl.classList.add('colab-df-quickchart-complete');\n",
              "    }\n",
              "    (() => {\n",
              "      let quickchartButtonEl =\n",
              "        document.querySelector('#df-c7e45f7a-3e64-47f0-a4d4-b0eeb4d9c90b button');\n",
              "      quickchartButtonEl.style.display =\n",
              "        google.colab.kernel.accessAllowed ? 'block' : 'none';\n",
              "    })();\n",
              "  </script>\n",
              "</div>\n",
              "\n",
              "  <div id=\"id_1304e0a0-a9ef-4225-bf57-f7726c01b221\">\n",
              "    <style>\n",
              "      .colab-df-generate {\n",
              "        background-color: #E8F0FE;\n",
              "        border: none;\n",
              "        border-radius: 50%;\n",
              "        cursor: pointer;\n",
              "        display: none;\n",
              "        fill: #1967D2;\n",
              "        height: 32px;\n",
              "        padding: 0 0 0 0;\n",
              "        width: 32px;\n",
              "      }\n",
              "\n",
              "      .colab-df-generate:hover {\n",
              "        background-color: #E2EBFA;\n",
              "        box-shadow: 0px 1px 2px rgba(60, 64, 67, 0.3), 0px 1px 3px 1px rgba(60, 64, 67, 0.15);\n",
              "        fill: #174EA6;\n",
              "      }\n",
              "\n",
              "      [theme=dark] .colab-df-generate {\n",
              "        background-color: #3B4455;\n",
              "        fill: #D2E3FC;\n",
              "      }\n",
              "\n",
              "      [theme=dark] .colab-df-generate:hover {\n",
              "        background-color: #434B5C;\n",
              "        box-shadow: 0px 1px 3px 1px rgba(0, 0, 0, 0.15);\n",
              "        filter: drop-shadow(0px 1px 2px rgba(0, 0, 0, 0.3));\n",
              "        fill: #FFFFFF;\n",
              "      }\n",
              "    </style>\n",
              "    <button class=\"colab-df-generate\" onclick=\"generateWithVariable('countries_covid_data')\"\n",
              "            title=\"Generate code using this dataframe.\"\n",
              "            style=\"display:none;\">\n",
              "\n",
              "  <svg xmlns=\"http://www.w3.org/2000/svg\" height=\"24px\"viewBox=\"0 0 24 24\"\n",
              "       width=\"24px\">\n",
              "    <path d=\"M7,19H8.4L18.45,9,17,7.55,7,17.6ZM5,21V16.75L18.45,3.32a2,2,0,0,1,2.83,0l1.4,1.43a1.91,1.91,0,0,1,.58,1.4,1.91,1.91,0,0,1-.58,1.4L9.25,21ZM18.45,9,17,7.55Zm-12,3A5.31,5.31,0,0,0,4.9,8.1,5.31,5.31,0,0,0,1,6.5,5.31,5.31,0,0,0,4.9,4.9,5.31,5.31,0,0,0,6.5,1,5.31,5.31,0,0,0,8.1,4.9,5.31,5.31,0,0,0,12,6.5,5.46,5.46,0,0,0,6.5,12Z\"/>\n",
              "  </svg>\n",
              "    </button>\n",
              "    <script>\n",
              "      (() => {\n",
              "      const buttonEl =\n",
              "        document.querySelector('#id_1304e0a0-a9ef-4225-bf57-f7726c01b221 button.colab-df-generate');\n",
              "      buttonEl.style.display =\n",
              "        google.colab.kernel.accessAllowed ? 'block' : 'none';\n",
              "\n",
              "      buttonEl.onclick = () => {\n",
              "        google.colab.notebook.generateWithVariable('countries_covid_data');\n",
              "      }\n",
              "      })();\n",
              "    </script>\n",
              "  </div>\n",
              "\n",
              "    </div>\n",
              "  </div>\n"
            ],
            "application/vnd.google.colaboratory.intrinsic+json": {
              "type": "dataframe",
              "variable_name": "countries_covid_data"
            }
          },
          "metadata": {},
          "execution_count": 149
        }
      ],
      "source": [
        "countries_covid_data"
      ]
    },
    {
      "cell_type": "code",
      "execution_count": 150,
      "metadata": {
        "colab": {
          "base_uri": "https://localhost:8080/",
          "height": 424
        },
        "id": "_HYCCDeZD50h",
        "outputId": "f89956a0-b036-4199-ea3f-6002184497a7"
      },
      "outputs": [
        {
          "output_type": "execute_result",
          "data": {
            "text/plain": [
              "             Date      Country  Confirmed  Recovered  Deaths\n",
              "0      2020-01-22  Afghanistan          0          0     0.0\n",
              "1      2020-01-23  Afghanistan          0          0     0.0\n",
              "2      2020-01-24  Afghanistan          0          0     0.0\n",
              "3      2020-01-25  Afghanistan          0          0     0.0\n",
              "4      2020-01-26  Afghanistan          0          0     0.0\n",
              "...           ...          ...        ...        ...     ...\n",
              "123518 2020-11-19   San Marino       1358       1019    43.0\n",
              "123519 2020-11-20   San Marino       1373       1082    43.0\n",
              "123520 2020-11-21   San Marino       1395       1082    43.0\n",
              "123521 2020-11-22   San Marino       1427       1082    43.0\n",
              "123522 2020-11-23   San Marino       1428       1149     NaN\n",
              "\n",
              "[123523 rows x 5 columns]"
            ],
            "text/html": [
              "\n",
              "  <div id=\"df-fe73c6f7-6dce-4d9b-9846-5415d6ad393d\" class=\"colab-df-container\">\n",
              "    <div>\n",
              "<style scoped>\n",
              "    .dataframe tbody tr th:only-of-type {\n",
              "        vertical-align: middle;\n",
              "    }\n",
              "\n",
              "    .dataframe tbody tr th {\n",
              "        vertical-align: top;\n",
              "    }\n",
              "\n",
              "    .dataframe thead th {\n",
              "        text-align: right;\n",
              "    }\n",
              "</style>\n",
              "<table border=\"1\" class=\"dataframe\">\n",
              "  <thead>\n",
              "    <tr style=\"text-align: right;\">\n",
              "      <th></th>\n",
              "      <th>Date</th>\n",
              "      <th>Country</th>\n",
              "      <th>Confirmed</th>\n",
              "      <th>Recovered</th>\n",
              "      <th>Deaths</th>\n",
              "    </tr>\n",
              "  </thead>\n",
              "  <tbody>\n",
              "    <tr>\n",
              "      <th>0</th>\n",
              "      <td>2020-01-22</td>\n",
              "      <td>Afghanistan</td>\n",
              "      <td>0</td>\n",
              "      <td>0</td>\n",
              "      <td>0.0</td>\n",
              "    </tr>\n",
              "    <tr>\n",
              "      <th>1</th>\n",
              "      <td>2020-01-23</td>\n",
              "      <td>Afghanistan</td>\n",
              "      <td>0</td>\n",
              "      <td>0</td>\n",
              "      <td>0.0</td>\n",
              "    </tr>\n",
              "    <tr>\n",
              "      <th>2</th>\n",
              "      <td>2020-01-24</td>\n",
              "      <td>Afghanistan</td>\n",
              "      <td>0</td>\n",
              "      <td>0</td>\n",
              "      <td>0.0</td>\n",
              "    </tr>\n",
              "    <tr>\n",
              "      <th>3</th>\n",
              "      <td>2020-01-25</td>\n",
              "      <td>Afghanistan</td>\n",
              "      <td>0</td>\n",
              "      <td>0</td>\n",
              "      <td>0.0</td>\n",
              "    </tr>\n",
              "    <tr>\n",
              "      <th>4</th>\n",
              "      <td>2020-01-26</td>\n",
              "      <td>Afghanistan</td>\n",
              "      <td>0</td>\n",
              "      <td>0</td>\n",
              "      <td>0.0</td>\n",
              "    </tr>\n",
              "    <tr>\n",
              "      <th>...</th>\n",
              "      <td>...</td>\n",
              "      <td>...</td>\n",
              "      <td>...</td>\n",
              "      <td>...</td>\n",
              "      <td>...</td>\n",
              "    </tr>\n",
              "    <tr>\n",
              "      <th>123518</th>\n",
              "      <td>2020-11-19</td>\n",
              "      <td>San Marino</td>\n",
              "      <td>1358</td>\n",
              "      <td>1019</td>\n",
              "      <td>43.0</td>\n",
              "    </tr>\n",
              "    <tr>\n",
              "      <th>123519</th>\n",
              "      <td>2020-11-20</td>\n",
              "      <td>San Marino</td>\n",
              "      <td>1373</td>\n",
              "      <td>1082</td>\n",
              "      <td>43.0</td>\n",
              "    </tr>\n",
              "    <tr>\n",
              "      <th>123520</th>\n",
              "      <td>2020-11-21</td>\n",
              "      <td>San Marino</td>\n",
              "      <td>1395</td>\n",
              "      <td>1082</td>\n",
              "      <td>43.0</td>\n",
              "    </tr>\n",
              "    <tr>\n",
              "      <th>123521</th>\n",
              "      <td>2020-11-22</td>\n",
              "      <td>San Marino</td>\n",
              "      <td>1427</td>\n",
              "      <td>1082</td>\n",
              "      <td>43.0</td>\n",
              "    </tr>\n",
              "    <tr>\n",
              "      <th>123522</th>\n",
              "      <td>2020-11-23</td>\n",
              "      <td>San Marino</td>\n",
              "      <td>1428</td>\n",
              "      <td>1149</td>\n",
              "      <td>NaN</td>\n",
              "    </tr>\n",
              "  </tbody>\n",
              "</table>\n",
              "<p>123523 rows × 5 columns</p>\n",
              "</div>\n",
              "    <div class=\"colab-df-buttons\">\n",
              "\n",
              "  <div class=\"colab-df-container\">\n",
              "    <button class=\"colab-df-convert\" onclick=\"convertToInteractive('df-fe73c6f7-6dce-4d9b-9846-5415d6ad393d')\"\n",
              "            title=\"Convert this dataframe to an interactive table.\"\n",
              "            style=\"display:none;\">\n",
              "\n",
              "  <svg xmlns=\"http://www.w3.org/2000/svg\" height=\"24px\" viewBox=\"0 -960 960 960\">\n",
              "    <path d=\"M120-120v-720h720v720H120Zm60-500h600v-160H180v160Zm220 220h160v-160H400v160Zm0 220h160v-160H400v160ZM180-400h160v-160H180v160Zm440 0h160v-160H620v160ZM180-180h160v-160H180v160Zm440 0h160v-160H620v160Z\"/>\n",
              "  </svg>\n",
              "    </button>\n",
              "\n",
              "  <style>\n",
              "    .colab-df-container {\n",
              "      display:flex;\n",
              "      gap: 12px;\n",
              "    }\n",
              "\n",
              "    .colab-df-convert {\n",
              "      background-color: #E8F0FE;\n",
              "      border: none;\n",
              "      border-radius: 50%;\n",
              "      cursor: pointer;\n",
              "      display: none;\n",
              "      fill: #1967D2;\n",
              "      height: 32px;\n",
              "      padding: 0 0 0 0;\n",
              "      width: 32px;\n",
              "    }\n",
              "\n",
              "    .colab-df-convert:hover {\n",
              "      background-color: #E2EBFA;\n",
              "      box-shadow: 0px 1px 2px rgba(60, 64, 67, 0.3), 0px 1px 3px 1px rgba(60, 64, 67, 0.15);\n",
              "      fill: #174EA6;\n",
              "    }\n",
              "\n",
              "    .colab-df-buttons div {\n",
              "      margin-bottom: 4px;\n",
              "    }\n",
              "\n",
              "    [theme=dark] .colab-df-convert {\n",
              "      background-color: #3B4455;\n",
              "      fill: #D2E3FC;\n",
              "    }\n",
              "\n",
              "    [theme=dark] .colab-df-convert:hover {\n",
              "      background-color: #434B5C;\n",
              "      box-shadow: 0px 1px 3px 1px rgba(0, 0, 0, 0.15);\n",
              "      filter: drop-shadow(0px 1px 2px rgba(0, 0, 0, 0.3));\n",
              "      fill: #FFFFFF;\n",
              "    }\n",
              "  </style>\n",
              "\n",
              "    <script>\n",
              "      const buttonEl =\n",
              "        document.querySelector('#df-fe73c6f7-6dce-4d9b-9846-5415d6ad393d button.colab-df-convert');\n",
              "      buttonEl.style.display =\n",
              "        google.colab.kernel.accessAllowed ? 'block' : 'none';\n",
              "\n",
              "      async function convertToInteractive(key) {\n",
              "        const element = document.querySelector('#df-fe73c6f7-6dce-4d9b-9846-5415d6ad393d');\n",
              "        const dataTable =\n",
              "          await google.colab.kernel.invokeFunction('convertToInteractive',\n",
              "                                                    [key], {});\n",
              "        if (!dataTable) return;\n",
              "\n",
              "        const docLinkHtml = 'Like what you see? Visit the ' +\n",
              "          '<a target=\"_blank\" href=https://colab.research.google.com/notebooks/data_table.ipynb>data table notebook</a>'\n",
              "          + ' to learn more about interactive tables.';\n",
              "        element.innerHTML = '';\n",
              "        dataTable['output_type'] = 'display_data';\n",
              "        await google.colab.output.renderOutput(dataTable, element);\n",
              "        const docLink = document.createElement('div');\n",
              "        docLink.innerHTML = docLinkHtml;\n",
              "        element.appendChild(docLink);\n",
              "      }\n",
              "    </script>\n",
              "  </div>\n",
              "\n",
              "\n",
              "<div id=\"df-824a57cf-4639-4f58-9496-7199625f94f0\">\n",
              "  <button class=\"colab-df-quickchart\" onclick=\"quickchart('df-824a57cf-4639-4f58-9496-7199625f94f0')\"\n",
              "            title=\"Suggest charts\"\n",
              "            style=\"display:none;\">\n",
              "\n",
              "<svg xmlns=\"http://www.w3.org/2000/svg\" height=\"24px\"viewBox=\"0 0 24 24\"\n",
              "     width=\"24px\">\n",
              "    <g>\n",
              "        <path d=\"M19 3H5c-1.1 0-2 .9-2 2v14c0 1.1.9 2 2 2h14c1.1 0 2-.9 2-2V5c0-1.1-.9-2-2-2zM9 17H7v-7h2v7zm4 0h-2V7h2v10zm4 0h-2v-4h2v4z\"/>\n",
              "    </g>\n",
              "</svg>\n",
              "  </button>\n",
              "\n",
              "<style>\n",
              "  .colab-df-quickchart {\n",
              "      --bg-color: #E8F0FE;\n",
              "      --fill-color: #1967D2;\n",
              "      --hover-bg-color: #E2EBFA;\n",
              "      --hover-fill-color: #174EA6;\n",
              "      --disabled-fill-color: #AAA;\n",
              "      --disabled-bg-color: #DDD;\n",
              "  }\n",
              "\n",
              "  [theme=dark] .colab-df-quickchart {\n",
              "      --bg-color: #3B4455;\n",
              "      --fill-color: #D2E3FC;\n",
              "      --hover-bg-color: #434B5C;\n",
              "      --hover-fill-color: #FFFFFF;\n",
              "      --disabled-bg-color: #3B4455;\n",
              "      --disabled-fill-color: #666;\n",
              "  }\n",
              "\n",
              "  .colab-df-quickchart {\n",
              "    background-color: var(--bg-color);\n",
              "    border: none;\n",
              "    border-radius: 50%;\n",
              "    cursor: pointer;\n",
              "    display: none;\n",
              "    fill: var(--fill-color);\n",
              "    height: 32px;\n",
              "    padding: 0;\n",
              "    width: 32px;\n",
              "  }\n",
              "\n",
              "  .colab-df-quickchart:hover {\n",
              "    background-color: var(--hover-bg-color);\n",
              "    box-shadow: 0 1px 2px rgba(60, 64, 67, 0.3), 0 1px 3px 1px rgba(60, 64, 67, 0.15);\n",
              "    fill: var(--button-hover-fill-color);\n",
              "  }\n",
              "\n",
              "  .colab-df-quickchart-complete:disabled,\n",
              "  .colab-df-quickchart-complete:disabled:hover {\n",
              "    background-color: var(--disabled-bg-color);\n",
              "    fill: var(--disabled-fill-color);\n",
              "    box-shadow: none;\n",
              "  }\n",
              "\n",
              "  .colab-df-spinner {\n",
              "    border: 2px solid var(--fill-color);\n",
              "    border-color: transparent;\n",
              "    border-bottom-color: var(--fill-color);\n",
              "    animation:\n",
              "      spin 1s steps(1) infinite;\n",
              "  }\n",
              "\n",
              "  @keyframes spin {\n",
              "    0% {\n",
              "      border-color: transparent;\n",
              "      border-bottom-color: var(--fill-color);\n",
              "      border-left-color: var(--fill-color);\n",
              "    }\n",
              "    20% {\n",
              "      border-color: transparent;\n",
              "      border-left-color: var(--fill-color);\n",
              "      border-top-color: var(--fill-color);\n",
              "    }\n",
              "    30% {\n",
              "      border-color: transparent;\n",
              "      border-left-color: var(--fill-color);\n",
              "      border-top-color: var(--fill-color);\n",
              "      border-right-color: var(--fill-color);\n",
              "    }\n",
              "    40% {\n",
              "      border-color: transparent;\n",
              "      border-right-color: var(--fill-color);\n",
              "      border-top-color: var(--fill-color);\n",
              "    }\n",
              "    60% {\n",
              "      border-color: transparent;\n",
              "      border-right-color: var(--fill-color);\n",
              "    }\n",
              "    80% {\n",
              "      border-color: transparent;\n",
              "      border-right-color: var(--fill-color);\n",
              "      border-bottom-color: var(--fill-color);\n",
              "    }\n",
              "    90% {\n",
              "      border-color: transparent;\n",
              "      border-bottom-color: var(--fill-color);\n",
              "    }\n",
              "  }\n",
              "</style>\n",
              "\n",
              "  <script>\n",
              "    async function quickchart(key) {\n",
              "      const quickchartButtonEl =\n",
              "        document.querySelector('#' + key + ' button');\n",
              "      quickchartButtonEl.disabled = true;  // To prevent multiple clicks.\n",
              "      quickchartButtonEl.classList.add('colab-df-spinner');\n",
              "      try {\n",
              "        const charts = await google.colab.kernel.invokeFunction(\n",
              "            'suggestCharts', [key], {});\n",
              "      } catch (error) {\n",
              "        console.error('Error during call to suggestCharts:', error);\n",
              "      }\n",
              "      quickchartButtonEl.classList.remove('colab-df-spinner');\n",
              "      quickchartButtonEl.classList.add('colab-df-quickchart-complete');\n",
              "    }\n",
              "    (() => {\n",
              "      let quickchartButtonEl =\n",
              "        document.querySelector('#df-824a57cf-4639-4f58-9496-7199625f94f0 button');\n",
              "      quickchartButtonEl.style.display =\n",
              "        google.colab.kernel.accessAllowed ? 'block' : 'none';\n",
              "    })();\n",
              "  </script>\n",
              "</div>\n",
              "\n",
              "  <div id=\"id_d64ecad6-4ca7-4483-a9e4-2a5631a63598\">\n",
              "    <style>\n",
              "      .colab-df-generate {\n",
              "        background-color: #E8F0FE;\n",
              "        border: none;\n",
              "        border-radius: 50%;\n",
              "        cursor: pointer;\n",
              "        display: none;\n",
              "        fill: #1967D2;\n",
              "        height: 32px;\n",
              "        padding: 0 0 0 0;\n",
              "        width: 32px;\n",
              "      }\n",
              "\n",
              "      .colab-df-generate:hover {\n",
              "        background-color: #E2EBFA;\n",
              "        box-shadow: 0px 1px 2px rgba(60, 64, 67, 0.3), 0px 1px 3px 1px rgba(60, 64, 67, 0.15);\n",
              "        fill: #174EA6;\n",
              "      }\n",
              "\n",
              "      [theme=dark] .colab-df-generate {\n",
              "        background-color: #3B4455;\n",
              "        fill: #D2E3FC;\n",
              "      }\n",
              "\n",
              "      [theme=dark] .colab-df-generate:hover {\n",
              "        background-color: #434B5C;\n",
              "        box-shadow: 0px 1px 3px 1px rgba(0, 0, 0, 0.15);\n",
              "        filter: drop-shadow(0px 1px 2px rgba(0, 0, 0, 0.3));\n",
              "        fill: #FFFFFF;\n",
              "      }\n",
              "    </style>\n",
              "    <button class=\"colab-df-generate\" onclick=\"generateWithVariable('countries_covid_data')\"\n",
              "            title=\"Generate code using this dataframe.\"\n",
              "            style=\"display:none;\">\n",
              "\n",
              "  <svg xmlns=\"http://www.w3.org/2000/svg\" height=\"24px\"viewBox=\"0 0 24 24\"\n",
              "       width=\"24px\">\n",
              "    <path d=\"M7,19H8.4L18.45,9,17,7.55,7,17.6ZM5,21V16.75L18.45,3.32a2,2,0,0,1,2.83,0l1.4,1.43a1.91,1.91,0,0,1,.58,1.4,1.91,1.91,0,0,1-.58,1.4L9.25,21ZM18.45,9,17,7.55Zm-12,3A5.31,5.31,0,0,0,4.9,8.1,5.31,5.31,0,0,0,1,6.5,5.31,5.31,0,0,0,4.9,4.9,5.31,5.31,0,0,0,6.5,1,5.31,5.31,0,0,0,8.1,4.9,5.31,5.31,0,0,0,12,6.5,5.46,5.46,0,0,0,6.5,12Z\"/>\n",
              "  </svg>\n",
              "    </button>\n",
              "    <script>\n",
              "      (() => {\n",
              "      const buttonEl =\n",
              "        document.querySelector('#id_d64ecad6-4ca7-4483-a9e4-2a5631a63598 button.colab-df-generate');\n",
              "      buttonEl.style.display =\n",
              "        google.colab.kernel.accessAllowed ? 'block' : 'none';\n",
              "\n",
              "      buttonEl.onclick = () => {\n",
              "        google.colab.notebook.generateWithVariable('countries_covid_data');\n",
              "      }\n",
              "      })();\n",
              "    </script>\n",
              "  </div>\n",
              "\n",
              "    </div>\n",
              "  </div>\n"
            ],
            "application/vnd.google.colaboratory.intrinsic+json": {
              "type": "dataframe",
              "variable_name": "countries_covid_data"
            }
          },
          "metadata": {},
          "execution_count": 150
        }
      ],
      "source": [
        "countries_covid_data"
      ]
    },
    {
      "cell_type": "markdown",
      "source": [
        "### Masking\n",
        " masking is a metho we use in pyhton where we first select the required data and take their index as boolean value in a variable and then pass this variable as indexing for the original data"
      ],
      "metadata": {
        "id": "tk-YJ5wJWku1"
      }
    },
    {
      "cell_type": "code",
      "source": [
        "#example to extract the number of covid cases on 2020 june 21 in india\n",
        "#countries_covid_data.info()\n",
        "mask =((countries_covid_data['Country']==\"India\") & (countries_covid_data['Date']=='2020-06-21'))\n",
        "print('The covid cases in india on 2020 June 21st are : ', countries_covid_data[mask], sep='\\n')"
      ],
      "metadata": {
        "colab": {
          "base_uri": "https://localhost:8080/"
        },
        "id": "4OzefxdzeWth",
        "outputId": "59917207-d77f-40f2-e62a-53eb4c69eb60"
      },
      "execution_count": 163,
      "outputs": [
        {
          "output_type": "stream",
          "name": "stdout",
          "text": [
            "The covid cases in india on 2020 June 21st are : \n",
            "            Date Country  Confirmed  Recovered   Deaths\n",
            "65431 2020-06-21   India     425282     237196  13699.0\n"
          ]
        }
      ]
    },
    {
      "cell_type": "code",
      "source": [
        "#using query\n",
        "print(countries_covid_data.query('(Country==\"India\") & (Date==\"2020-12-30\")'))"
      ],
      "metadata": {
        "colab": {
          "base_uri": "https://localhost:8080/"
        },
        "id": "f3tMtDbZfe6h",
        "outputId": "1c987ee2-4c07-464a-d17d-71dd13f04728"
      },
      "execution_count": 169,
      "outputs": [
        {
          "output_type": "stream",
          "name": "stdout",
          "text": [
            "            Date Country  Confirmed  Recovered    Deaths\n",
            "65623 2020-12-30   India   10266674    9860280  148738.0\n"
          ]
        }
      ]
    },
    {
      "cell_type": "markdown",
      "source": [
        "### Null values\n",
        "* representaiton of information which we are not aware of\n",
        "* Nan - not a number\n",
        "* None - python's equivalent to NULL\n",
        "* NaT - stands for 'Not a Time'"
      ],
      "metadata": {
        "id": "tqfxKVuIh-D8"
      }
    },
    {
      "cell_type": "markdown",
      "source": [
        "### Join and Merge in Python"
      ],
      "metadata": {
        "id": "dg6TWUpzlb36"
      }
    }
  ],
  "metadata": {
    "colab": {
      "provenance": [],
      "authorship_tag": "ABX9TyNYBWOlPy+Z/sCsi4o7Wu6x",
      "include_colab_link": true
    },
    "kernelspec": {
      "display_name": "Python 3",
      "name": "python3"
    },
    "language_info": {
      "name": "python"
    }
  },
  "nbformat": 4,
  "nbformat_minor": 0
}