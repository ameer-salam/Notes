{
  "nbformat": 4,
  "nbformat_minor": 0,
  "metadata": {
    "colab": {
      "provenance": [],
      "authorship_tag": "ABX9TyNsqzSjTkCM6u1a0jJRHoVM",
      "include_colab_link": true
    },
    "kernelspec": {
      "name": "python3",
      "display_name": "Python 3"
    },
    "language_info": {
      "name": "python"
    }
  },
  "cells": [
    {
      "cell_type": "markdown",
      "metadata": {
        "id": "view-in-github",
        "colab_type": "text"
      },
      "source": [
        "<a href=\"https://colab.research.google.com/github/ameer-salam/Notes/blob/main/Data_Science_(Python).ipynb\" target=\"_parent\"><img src=\"https://colab.research.google.com/assets/colab-badge.svg\" alt=\"Open In Colab\"/></a>"
      ]
    },
    {
      "cell_type": "markdown",
      "source": [
        "# Data Science Course - Mastering the Fundamentals\n",
        "\n",
        "\n",
        "* Uses of Python\n",
        "1. Data Science\n",
        "2. Web developement\n",
        "3. DBMS\n",
        "4. Script writing\n",
        "5. Building pipeline\n",
        "\n"
      ],
      "metadata": {
        "id": "VZmy703Qos5Q"
      }
    },
    {
      "cell_type": "code",
      "source": [],
      "metadata": {
        "id": "GbH6ZFIJqGjb"
      },
      "execution_count": null,
      "outputs": []
    }
  ]
}