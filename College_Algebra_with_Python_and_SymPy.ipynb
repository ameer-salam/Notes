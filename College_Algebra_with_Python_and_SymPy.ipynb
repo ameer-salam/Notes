{
  "nbformat": 4,
  "nbformat_minor": 0,
  "metadata": {
    "colab": {
      "provenance": [],
      "toc_visible": true,
      "authorship_tag": "ABX9TyNSeCDxUk4QznkLWuYD2Swq",
      "include_colab_link": true
    },
    "kernelspec": {
      "name": "python3",
      "display_name": "Python 3"
    },
    "language_info": {
      "name": "python"
    }
  },
  "cells": [
    {
      "cell_type": "markdown",
      "metadata": {
        "id": "view-in-github",
        "colab_type": "text"
      },
      "source": [
        "<a href=\"https://colab.research.google.com/github/ameer-salam/Notes/blob/main/College_Algebra_with_Python_and_SymPy.ipynb\" target=\"_parent\"><img src=\"https://colab.research.google.com/assets/colab-badge.svg\" alt=\"Open In Colab\"/></a>"
      ]
    },
    {
      "cell_type": "markdown",
      "source": [
        "# College Algebra with Python\n"
      ],
      "metadata": {
        "id": "YtUhBGMW0eDI"
      }
    },
    {
      "cell_type": "markdown",
      "source": [
        "## About This Course\n",
        "**Link** - https://www.freecodecamp.org/learn/college-algebra-with-python/\n",
        "\n",
        "**About** - *This course is designed as a one-semester college course. It consists of instructional videos, with Google Collaboratory notebooks to follow along interactively, assignments, and challenging projects.\n",
        "As you go through each part of this course in sequence, you will gain a full understanding of Algebra and how to write Python code to solve Algebra problems.\n",
        "Throughout this course, you will also build your own Algebra Collab notebook that you will be able to use as your custom calculator. This course (and the code you write here) will give you the foundation for a deeper math and data science understanding.*\n",
        "\n"
      ],
      "metadata": {
        "id": "DS-sSDQ5zISj"
      }
    },
    {
      "cell_type": "markdown",
      "source": [
        "## Learn Ratios and Proportions\n"
      ],
      "metadata": {
        "id": "ASTncTF6BxNP"
      }
    },
    {
      "cell_type": "markdown",
      "source": [
        "## Introduction\n",
        "\n",
        "This first video includes an introduction to the course, how it will work, and how to use Google Colaboratory. Follow along to create your first Colab notebook.\n",
        "\n",
        "- [Busineess Math, a Step-by-step Handbook(2021) by Jean-Paul Oliver](https://lyryx.com/subjects/business/business-mathematics/)\n",
        "- [Algebra and Trigonometry by Jay Abramson](https://openstax.org/details/books/algebra-and-trigonometry)\n"
      ],
      "metadata": {
        "id": "-GVkmbGnzHvH"
      }
    },
    {
      "cell_type": "markdown",
      "source": [
        "## Solving Proportions (Ratios and Proportions)\n"
      ],
      "metadata": {
        "id": "CVBAS6oe0tNo"
      }
    },
    {
      "cell_type": "markdown",
      "source": [
        "* Ratios are Fractions (2/4 == 5/10)\n",
        "* Cross multiplications can be appplied to Ratios"
      ],
      "metadata": {
        "id": "oki1oJlY12i1"
      }
    },
    {
      "cell_type": "code",
      "source": [
        "# the  given task is - to find the value of numerator or the denomenator (n2 and d2) in which any one has initial value 0\n",
        "n1=1\n",
        "d1=2\n",
        "n2=4\n",
        "d2=0\n",
        "\n",
        "if n2==0:\n",
        "  answer = (n1*d2)/d1\n",
        "  n2=answer\n",
        "  print(\"n2 = \", n2)\n",
        "\n",
        "if d2==0:\n",
        "  answer=(n2*d1)/n1\n",
        "  d2=answer\n",
        "  print(\"d2 = \", d2)"
      ],
      "metadata": {
        "colab": {
          "base_uri": "https://localhost:8080/"
        },
        "id": "9QbLtCNf13If",
        "outputId": "b24f7687-8cb4-42d6-eadf-6ed5351bbd79"
      },
      "execution_count": null,
      "outputs": [
        {
          "output_type": "stream",
          "name": "stdout",
          "text": [
            "d2 =  8.0\n"
          ]
        }
      ]
    },
    {
      "cell_type": "markdown",
      "source": [
        "The last video in this section will show you how to use proportions in other applications, such as currency exchange rates and unit conversion. It will also show you more about setting up your notebook and working through the practice assignment.\n",
        "\n"
      ],
      "metadata": {
        "id": "t0F4n97z4BW_"
      }
    },
    {
      "cell_type": "code",
      "source": [
        "# Extra problems\n",
        "'''\n",
        "for example - to find the answer of 1(2/3) + 3(4/5) - 7,\n",
        "we can write it down in python like,\n",
        "'''\n",
        "\n",
        "x=(1+(2/3))+(3+(4/5))-7\n",
        "print(x)\n",
        "\n",
        "# now the ablove statement gives a solution whose decimal points are repeating\n",
        "# to remove the repeating elements what we can do is\n",
        "# we can remove the decimal by\n",
        "\n",
        "y=0.6666\n",
        "print(y)\n",
        "varY=y*10\n",
        "print(varY)\n",
        "print(\"We can now remove the decimals as: \")\n",
        "z=varY-y\n",
        "print(z)"
      ],
      "metadata": {
        "colab": {
          "base_uri": "https://localhost:8080/"
        },
        "id": "vSzPg5_L37dw",
        "outputId": "9e185cb8-a8d6-4f3a-dcab-84ee7e49e833"
      },
      "execution_count": null,
      "outputs": [
        {
          "output_type": "stream",
          "name": "stdout",
          "text": [
            "-1.5333333333333332\n",
            "0.6666\n",
            "6.6659999999999995\n",
            "We can now remove the decimals as: \n",
            "5.9994\n"
          ]
        }
      ]
    },
    {
      "cell_type": "code",
      "source": [
        "# currency converter\n",
        "inr=float((input(\"Enter the LIVE price of 1 USD in INR: \")))\n",
        "print(\"1 USD = \", inr, \"INR\")\n",
        "\n",
        "#infinite loop\n",
        "while(1>0):\n",
        "  chc=int((input(\"Enter your choice :\\n1.Convert INR to USD\\n2.Convert USD to INR\\n3.EXIT\\n\")))\n",
        "  if (chc==1):\n",
        "    amt=float((input(\"Enter the INR to convert to USD : \")))\n",
        "    print(\"For \", amt, \" of INR you will get \", (1/inr)*amt,\" USD\")\n",
        "  elif (chc==2):\n",
        "    amt=float((input(\"Enter the USD to convert to INR : \")))\n",
        "    print(\"For \", amt, \" of USD you will get \", inr*amt ,\" INR\")\n",
        "  elif (chc==3):\n",
        "    break\n",
        "  else:\n",
        "    print(\"Wrong Input\")\n",
        "\n",
        "## done with the loop\n",
        "print(\"DONE!\")"
      ],
      "metadata": {
        "colab": {
          "base_uri": "https://localhost:8080/"
        },
        "id": "Q6n1rmqn75gA",
        "outputId": "ffb6b7f6-5b9b-4fb0-9bd5-2aa577f00830"
      },
      "execution_count": null,
      "outputs": [
        {
          "output_type": "stream",
          "name": "stdout",
          "text": [
            "Enter the LIVE price of 1 USD in INR: 45\n",
            "1 USD =  45.0 INR\n",
            "Enter your choice :\n",
            "1.Convert INR to USD\n",
            "2.Convert USD to INR\n",
            "3.EXIT\n",
            "1\n",
            "Enter the INR to convert to USD : 100\n",
            "For  100.0  of INR you will get  2.2222222222222223  USD\n",
            "Enter your choice :\n",
            "1.Convert INR to USD\n",
            "2.Convert USD to INR\n",
            "3.EXIT\n",
            "2\n",
            "Enter the USD to convert to INR : 2.2222222222222223\n",
            "For  2.2222222222222223  of USD you will get  100.0  INR\n",
            "Enter your choice :\n",
            "1.Convert INR to USD\n",
            "2.Convert USD to INR\n",
            "3.EXIT\n",
            "3\n",
            "DONE!\n"
          ]
        }
      ]
    },
    {
      "cell_type": "markdown",
      "source": [
        "## Learn How to Solve for X\n",
        "\n",
        "This unit will focus on how to solve for an unknown number (often referred to as \"x\") using written Algebra and Python code."
      ],
      "metadata": {
        "id": "sXYFu9vVB6JI"
      }
    },
    {
      "cell_type": "markdown",
      "source": [
        "For Example to solve,\n",
        "1. **x+3=5**\n",
        "  here what we can do is x+3(-3)=5(-3)\n",
        "  which again sums up to 2 which is the answer\n",
        "2. **x-2=10**\n",
        "  x-2(+2)=10(+2)\n",
        "  which again sums up to the answer 12\n",
        "3. **3x=12**\n",
        "  this can be written as 3x(/3)=12/3\n",
        "  which is 4\n",
        "4. **x/4=2**\n",
        "  which can be written as,\n",
        "  (4)(x/4)=2(4)\n",
        "  which again sums up to 8"
      ],
      "metadata": {
        "id": "2G95J3LoD_Va"
      }
    },
    {
      "cell_type": "code",
      "source": [
        "import sympy\n",
        "from sympy import symbols, solve\n",
        "\n",
        "x = symbols('x')\n",
        "\n",
        "# we will add our equation here\n",
        "eq = 2*x - 4\n",
        "print(\"x =\", solve(eq, x))\n",
        "\n",
        "eq=2*x**2 + 1\n",
        "print(solve(eq, x))\n",
        "\n",
        "# Prompt for the user to input the equation and solve for x\n",
        "eq=input(\"Enter the Equation : 0 = \")\n",
        "print(\"x = \", solve(eq, x))\n",
        "\n",
        "# Prompt for input of equation with multiple outputs\n",
        "eq=input(\"Enter the Equation : 0 = \")\n",
        "solution=solve(eq, x)\n",
        "for s in solution:\n",
        "  print(\"x = \", s)\n",
        "#(x-1)*(x+2)*(x-3)"
      ],
      "metadata": {
        "colab": {
          "base_uri": "https://localhost:8080/"
        },
        "id": "-EHJWVG1FVBk",
        "outputId": "a09bd1e0-ff4b-4db4-dc8f-ea2b4a33112f"
      },
      "execution_count": null,
      "outputs": [
        {
          "output_type": "stream",
          "name": "stdout",
          "text": [
            "x = [2]\n",
            "[-sqrt(2)*I/2, sqrt(2)*I/2]\n",
            "Enter the Equation : 0 = (x-1)*(x+2)*(x-3)\n",
            "x =  [-2, 1, 3]\n",
            "Enter the Equation : 0 = (x-1)*(x+2)*(x-3)\n",
            "x =  -2\n",
            "x =  1\n",
            "x =  3\n"
          ]
        }
      ]
    },
    {
      "cell_type": "code",
      "source": [
        "import sympy as s\n",
        "from sympy import *\n",
        "\n",
        "var('x y')  # the var function creates symbolic multiple variables in single line of statement\n",
        "\n",
        "#first equation set to zero, ready to solve\n",
        "first=2*x + 10\n",
        "\n",
        "#sympy syntax for equation equal to zero, ready to factor\n",
        "eq=Eq(first, y)\n",
        "\n",
        "sol=s.solve(eq, x)\n",
        "print(\"x = \", sol)\n",
        "\n",
        "eq=2*x + 10*y + 3\n",
        "print(s.factor(eq))\n",
        "\n",
        "eq=x**2 - 4\n",
        "print(s.factor(eq))\n",
        "\n",
        "eq=x**23 - 2*x**2 - 5*x +6\n",
        "print(s.factor(eq))"
      ],
      "metadata": {
        "colab": {
          "base_uri": "https://localhost:8080/"
        },
        "id": "qHIHZ7cNgSK6",
        "outputId": "adf9e02f-5edf-41e7-fe73-d0465672791c"
      },
      "execution_count": null,
      "outputs": [
        {
          "output_type": "stream",
          "name": "stdout",
          "text": [
            "x =  [y/2 - 5]\n",
            "2*x + 10*y + 3\n",
            "(x - 2)*(x + 2)\n",
            "(x - 1)*(x**22 + x**21 + x**20 + x**19 + x**18 + x**17 + x**16 + x**15 + x**14 + x**13 + x**12 + x**11 + x**10 + x**9 + x**8 + x**7 + x**6 + x**5 + x**4 + x**3 + x**2 - x - 6)\n"
          ]
        }
      ]
    },
    {
      "cell_type": "markdown",
      "source": [
        "### Taking input form the user in the form of String and then converting it to float\n"
      ],
      "metadata": {
        "id": "D_r9k2NukUlr"
      }
    },
    {
      "cell_type": "code",
      "source": [
        "import sympy as s\n",
        "def stringIN(in_string):\n",
        "  if \"/\" in in_string:\n",
        "    nd=in_string.split(\"/\")\n",
        "    n=float(nd[0])\n",
        "    d=float(nd[1])\n",
        "    ans=n/d\n",
        "    return ans\n",
        "  else:\n",
        "    ans=float(in_string)\n",
        "    return ans\n",
        "\n",
        "#def oneStepMulti():\n",
        "import random\n",
        "a=random.randint(1,11)\n",
        "b=random.randint(2,24)\n",
        "print(a, \"x = \", b)\n",
        "ans_in=(input(\"x = \"))\n",
        "answer=a/b\n",
        "if(stringIN(ans_in)==answer):\n",
        "  print(\"Correct answer!\")\n",
        "else:\n",
        "  print(\"Try again!\")\n",
        "  print(\"The correct answer is = \", answer)\n",
        "\n",
        "#oneStepMulti\n"
      ],
      "metadata": {
        "colab": {
          "base_uri": "https://localhost:8080/"
        },
        "id": "rtYlL6OMkZ-0",
        "outputId": "18c97cec-6b07-4d92-8aed-2698ced5de61"
      },
      "execution_count": null,
      "outputs": [
        {
          "output_type": "stream",
          "name": "stdout",
          "text": [
            "5 x =  19\n",
            "x = 4.8\n",
            "Try again!\n",
            "The correct answer is =  0.2631578947368421\n"
          ]
        }
      ]
    },
    {
      "cell_type": "code",
      "source": [
        "#problem\n",
        "import sympy as s\n",
        "from sympy import symbols, Eq\n",
        "var('x')\n",
        "example = 3*x-12\n",
        "equation=Eq(example, 0)\n",
        "solution=solve(equation,x)\n",
        "print(solution)"
      ],
      "metadata": {
        "colab": {
          "base_uri": "https://localhost:8080/"
        },
        "id": "pzTLl_W1nxDG",
        "outputId": "1ff6d4a2-2132-467b-af45-202762a9999f"
      },
      "execution_count": null,
      "outputs": [
        {
          "output_type": "stream",
          "name": "stdout",
          "text": [
            "[4]\n"
          ]
        }
      ]
    },
    {
      "cell_type": "code",
      "source": [
        "!pip install sympy\n",
        "!pip install matplotlib"
      ],
      "metadata": {
        "colab": {
          "base_uri": "https://localhost:8080/"
        },
        "id": "mKbLoZZYSysp",
        "outputId": "11848462-2b8d-4941-b093-a5932f02b965"
      },
      "execution_count": null,
      "outputs": [
        {
          "output_type": "stream",
          "name": "stdout",
          "text": [
            "Requirement already satisfied: sympy in /usr/local/lib/python3.10/dist-packages (1.12)\n",
            "Requirement already satisfied: mpmath>=0.19 in /usr/local/lib/python3.10/dist-packages (from sympy) (1.3.0)\n",
            "Requirement already satisfied: matplotlib in /usr/local/lib/python3.10/dist-packages (3.7.1)\n",
            "Requirement already satisfied: contourpy>=1.0.1 in /usr/local/lib/python3.10/dist-packages (from matplotlib) (1.2.0)\n",
            "Requirement already satisfied: cycler>=0.10 in /usr/local/lib/python3.10/dist-packages (from matplotlib) (0.12.1)\n",
            "Requirement already satisfied: fonttools>=4.22.0 in /usr/local/lib/python3.10/dist-packages (from matplotlib) (4.49.0)\n",
            "Requirement already satisfied: kiwisolver>=1.0.1 in /usr/local/lib/python3.10/dist-packages (from matplotlib) (1.4.5)\n",
            "Requirement already satisfied: numpy>=1.20 in /usr/local/lib/python3.10/dist-packages (from matplotlib) (1.25.2)\n",
            "Requirement already satisfied: packaging>=20.0 in /usr/local/lib/python3.10/dist-packages (from matplotlib) (23.2)\n",
            "Requirement already satisfied: pillow>=6.2.0 in /usr/local/lib/python3.10/dist-packages (from matplotlib) (9.4.0)\n",
            "Requirement already satisfied: pyparsing>=2.3.1 in /usr/local/lib/python3.10/dist-packages (from matplotlib) (3.1.1)\n",
            "Requirement already satisfied: python-dateutil>=2.7 in /usr/local/lib/python3.10/dist-packages (from matplotlib) (2.8.2)\n",
            "Requirement already satisfied: six>=1.5 in /usr/local/lib/python3.10/dist-packages (from python-dateutil>=2.7->matplotlib) (1.16.0)\n"
          ]
        }
      ]
    },
    {
      "cell_type": "markdown",
      "source": [
        "## Functions\n",
        "In Mathematics, Funcations means taking some input and then giving some outputs (input - x and Output - y)\n",
        "example - `y=2x+3`\n",
        "\n",
        "* Independent variable - Those variables whose value you change, it is what you are testing\n",
        "* Dependent variable - Those variables whose values change as a result of change of Independent Variables\n",
        "\n",
        "y=2x+3 and the f(x)=2x+3, Both are the same"
      ],
      "metadata": {
        "id": "b9_e4lvLOyh_"
      }
    },
    {
      "cell_type": "code",
      "source": [
        "import sympy as s\n",
        "from sympy import symbols, Eq\n",
        "import matplotlib.pyplot as plt\n",
        "\n",
        "\n",
        "x_sym = symbols(\"x\")  # Use a different variable name for the symbolic variable\n",
        "\n",
        "# Define the symbolic expression\n",
        "y_sym = 4 * x_sym + 3\n",
        "\n",
        "# Print table of values\n",
        "print(\"x \\t y\")\n",
        "for x_val in range(11):  # Use a different variable name for the loop iteration\n",
        "    y_val = 4 * x_val + 3\n",
        "    print(x_val, '\\t', y_val)\n",
        "\n",
        "# Graph the function\n",
        "s.plot(y_sym, (x_sym, 0, 10))\n",
        "\n",
        "# Show the plot\n",
        "plt.show()\n"
      ],
      "metadata": {
        "colab": {
          "base_uri": "https://localhost:8080/",
          "height": 695
        },
        "id": "AH9iIrAURX5F",
        "outputId": "eeb5a7f1-f55d-4ab0-9a8b-093b1b25ce99"
      },
      "execution_count": null,
      "outputs": [
        {
          "output_type": "stream",
          "name": "stdout",
          "text": [
            "x \t y\n",
            "0 \t 3\n",
            "1 \t 7\n",
            "2 \t 11\n",
            "3 \t 15\n",
            "4 \t 19\n",
            "5 \t 23\n",
            "6 \t 27\n",
            "7 \t 31\n",
            "8 \t 35\n",
            "9 \t 39\n",
            "10 \t 43\n"
          ]
        },
        {
          "output_type": "display_data",
          "data": {
            "text/plain": [
              "<Figure size 640x480 with 1 Axes>"
            ],
            "image/png": "[encoded data removed]"
          },
          "metadata": {}
        }
      ]
    },
    {
      "cell_type": "markdown",
      "source": [
        "## Graphing\n",
        "\n",
        "by using library matplotlib"
      ],
      "metadata": {
        "id": "qy-SyA5lUCHT"
      }
    },
    {
      "cell_type": "code",
      "source": [
        "import matplotlib.pyplot as plt\n",
        "fig, ax=plt."
      ],
      "metadata": {
        "id": "-8dIN1q8VcMH"
      },
      "execution_count": null,
      "outputs": []
    },
    {
      "cell_type": "markdown",
      "source": [
        "\n",
        "\n",
        "---\n",
        "# **SymPy Library**\n",
        "![image.png](data:image/png;base64,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)\n",
        "\n"
      ],
      "metadata": {
        "id": "mV_XedWAisf5"
      }
    },
    {
      "cell_type": "markdown",
      "source": [
        "## About SymPy\n",
        "\n"
      ],
      "metadata": {
        "id": "yzR63Y5EcA7f"
      }
    },
    {
      "cell_type": "markdown",
      "source": [
        "it is all bassed on Symbols and Operation on Symbols\n",
        "```x=symbols(\"x\")```\n"
      ],
      "metadata": {
        "id": "d3hrQKvpcxOB"
      }
    },
    {
      "cell_type": "code",
      "source": [
        "#playing with Symbols\n",
        "\n",
        "import sympy as s\n",
        "import numpy as np\n",
        "from sympy import symbols\n",
        "import matplotlib.pyplot as plt\n",
        "\n",
        "x=symbols(\"x\")\n",
        "x**2\n",
        "print(x)\n",
        "\n",
        "y=s.sin(x)\n",
        "print(y)\n",
        "\n",
        "z=y-x**2\n",
        "print(z)\n",
        "\n",
        "a = z**2 # representing a polynomial on a variable\n",
        "print(a)\n",
        "#factoring it\n",
        "b=s.factor(a)\n",
        "print(b)\n",
        "#expand\n",
        "b=s.expand(a)\n",
        "print(b)\n",
        "#using as_poly function\n",
        "print(b.as_poly())\n",
        "#solve\n",
        "d=s.solve(x, x)\n",
        "print(d)\n"
      ],
      "metadata": {
        "colab": {
          "base_uri": "https://localhost:8080/"
        },
        "id": "KmY7UKkwc-zp",
        "outputId": "32b57074-af51-4b9a-d8bb-3927e145abdd"
      },
      "execution_count": null,
      "outputs": [
        {
          "output_type": "stream",
          "name": "stdout",
          "text": [
            "x\n",
            "sin(x)\n",
            "-x**2 + sin(x)\n",
            "(-x**2 + sin(x))**2\n",
            "(x**2 - sin(x))**2\n",
            "x**4 - 2*x**2*sin(x) + sin(x)**2\n",
            "Poly(x**4 - 2*x**2*(sin(x)) + (sin(x))**2, x, sin(x), domain='ZZ')\n",
            "[0]\n"
          ]
        }
      ]
    },
    {
      "cell_type": "markdown",
      "source": [
        "**some advantages of the SymPy library over the built-in `math` library in Python:**\n",
        "\n",
        "| Feature                            | SymPy                                                   | math                                |\n",
        "|------------------------------------|---------------------------------------------------------|-------------------------------------|\n",
        "| Symbolic Mathematics               | Supports symbolic mathematics, including algebraic manipulations, calculus, solving equations, and more | Primarily focuses on numerical computations |\n",
        "| Symbolic Variables                | Can define symbolic variables, allowing for symbolic manipulation of mathematical expressions | Does not support symbolic variables |\n",
        "| Exact Arithmetic                   | Performs exact arithmetic operations, avoiding numerical approximations and rounding errors | Performs numerical approximations, which may lead to rounding errors |\n",
        "| Equation Solving                   | Can solve equations symbolically, providing exact solutions | Does not provide symbolic equation solving capabilities |\n",
        "| Calculus                           | Offers built-in functions for symbolic calculus operations such as differentiation, integration, limits, and series expansion | Limited to basic mathematical functions, does not support symbolic calculus |\n",
        "| Algebraic Manipulation             | Provides functions for expanding, simplifying, factorizing, and manipulating algebraic expressions | Lacks advanced algebraic manipulation capabilities |\n",
        "| Complex Numbers                    | Supports complex numbers and operations on them           | Limited support for complex numbers  |\n",
        "| Advanced Mathematical Functions    | Offers a wide range of advanced mathematical functions and constants | Provides basic mathematical functions and constants |\n",
        "| Open Source                        | Open-source software with a large community contributing to its development and maintenance | Part of the Python Standard Library, maintained by Python developers |\n"
      ],
      "metadata": {
        "id": "yYVeaPuajVSi"
      }
    },
    {
      "cell_type": "code",
      "source": [
        "# convinence\n",
        "\"\"\"\n",
        "The SymPy library is more convinient than the Math library\n",
        "example with the math library and the SymPy Library when we perform Square root operation,\n",
        "the Math library gives us the numerical answer whereas the SymPy gives us more Symbolic answer which is both easy and convinent to read and write\n",
        "\"\"\"\n",
        "\n",
        "import math as m\n",
        "import sympy as s\n",
        "\n",
        "print(m.sqrt(26))\n",
        "print(s.sqrt(26))\n",
        "\n",
        "## in the oputut section we get\n",
        "\"\"\"\n",
        "5.0990195135927845    - Math function   Math is more for calculation\n",
        "sqrt(26)              - SymPy function  SymPy is more for Symbolic"
      ],
      "metadata": {
        "colab": {
          "base_uri": "https://localhost:8080/"
        },
        "id": "_yL9IH0yjgtO",
        "outputId": "3d3d8edf-e0f6-421d-d16b-2a355291c56c"
      },
      "execution_count": null,
      "outputs": [
        {
          "output_type": "stream",
          "name": "stdout",
          "text": [
            "5.0990195135927845\n",
            "sqrt(26)\n"
          ]
        }
      ]
    },
    {
      "cell_type": "markdown",
      "source": [
        "## Symbols in SymPy\n",
        "\n",
        "are essentials and fundamentals of this particular library\n",
        "\n",
        "* variables cannot be used as Equation symbols\n",
        "* Variables cannot take the deriavoites of a function\n",
        "* symbolic variables created with the symbols function from the SymPy library, you're creating variables that are specifically designed for symbolic mathematics. These symbolic variables can represent mathematical symbols like x, y, z, etc., and they can be manipulated symbolically using algebraic operations, differentiation, integration, and more.\n",
        "\n",
        "*Note* - The difference between Expression and Equation are\n",
        "\n",
        "| Purpose | Expression | Equation |\n",
        "| ---------- | ---------- | -------- |\n",
        "| Definition | A mathematical phrase combining the variables, numbers and operations | A mathematical statement asserting equality between two mathematical expressions |\n",
        "|Representation|contains the **\"=\"** symbol|contains no such symbol|\n",
        "|Purpose| to satisfy the mathematical equivalance between two expressions | used to compute values to represent mathematical concepts |\n",
        "|Example|x+2y=2x+y|x+2y-z^3|\n",
        "|Solve for| obtaining the vlaue of the variables which equalize the equation | to produce a single value |"
      ],
      "metadata": {
        "id": "vZQ8p9xEka5N"
      }
    },
    {
      "cell_type": "code",
      "source": [
        "from sympy import symbols, factor, expand\n",
        "\n",
        "x=symbols(\"x\")\n",
        "y=symbols(\"y\")\n",
        "\n",
        "expression = 2*x + y #now this is treated as an Equation and not as an expression\n",
        "#This treated as a proper equation and not just a calculation equation\n",
        "# each will be treated as an individual symbol of an expression\n",
        "\n",
        "print(expression)\n",
        "print(expression - y)\n",
        "print(expression - x)\n",
        "\n",
        "print(\"SymPy evaluates and expands the Expression\")\n",
        "exp2= 2 * (x + y)\n",
        "print(exp2)\n",
        "\n",
        "print(\"If I dont want the Expanded form of this equation we can use the Factor to simpligy\")\n",
        "print(s.factor(exp2))\n",
        "print(\"\\nOR you can expalnd a simplified equation by using the Expand function\")\n",
        "simpEq=2*(x + y)\n",
        "print(expand(simpEq))"
      ],
      "metadata": {
        "colab": {
          "base_uri": "https://localhost:8080/"
        },
        "id": "g9WGFZq4mI_n",
        "outputId": "da37849d-af27-4c97-c99c-478e760ad126"
      },
      "execution_count": null,
      "outputs": [
        {
          "output_type": "stream",
          "name": "stdout",
          "text": [
            "2*x + y\n",
            "2*x\n",
            "x + y\n",
            "SymPy evaluates and expands the Expression\n",
            "2*x + 2*y\n",
            "If I dont want the Expanded form of this equation we can use the Factor to simpligy\n",
            "2*(x + y)\n",
            "\n",
            "OR you can expalnd a simplified equation by using the Expand function\n",
            "2*x + 2*y\n"
          ]
        }
      ]
    },
    {
      "cell_type": "markdown",
      "source": [
        "With the\n",
        "* `factor` function we can - display the simplified form of an expressionn by factoring out the common factors.\n",
        "* with the `expand` we can expand the algebraic expression. it takes in the simplified expression as an input and expands it and gives out the expanded form by simplyfying it wherever possible"
      ],
      "metadata": {
        "id": "2HgerlUEr_Si"
      }
    },
    {
      "cell_type": "markdown",
      "source": [
        "## Differentiating and Integrating with Functions\n"
      ],
      "metadata": {
        "id": "afpeQ81otpEh"
      }
    },
    {
      "cell_type": "code",
      "source": [
        "import sympy as s\n",
        "from sympy import limit, integrate, symbols, factor, expand, diff, oo #oo means Infinity\n",
        "\n",
        "x=symbols(\"x\")\n",
        "y=symbols(\"y\")\n",
        "formula = x**2\n",
        "\n",
        "#derivatives\n",
        "# to get the derivative of an expression\n",
        "print(diff(formula))\n",
        "# deriving for a specific symbol\n",
        "print(diff(x**2 + y**5, x))\n",
        "print(diff(y*x*2 + y**2, x))\n",
        "\n",
        "#differentiate with exp e\n",
        "print(diff(s.exp(x)))\n",
        "print(diff(s.sin(x)+s.cos(x)))\n",
        "\n",
        "\n",
        "\n",
        "#Integrals\n",
        "print(integrate(formula))\n",
        "print(integrate(2**x+2**y, x)) #integrate for X\n",
        "print(integrate(2**x+2**y, (x, 0, 10))) #integrating from the range 0 to 10\n",
        "\n",
        "#use of infinity\n",
        "print(\"\\n\\nUse of Infinity limits\")\n",
        "print(integrate(s.sin(x), (x, -oo, oo)))\n",
        "print(integrate(s.sin(x**2), (x, -oo, oo)))\n",
        "print(integrate(1/(x**4+1), (x, -oo, oo)))"
      ],
      "metadata": {
        "colab": {
          "base_uri": "https://localhost:8080/"
        },
        "id": "oqdqHycat8d6",
        "outputId": "50052829-53c7-4cb7-b9b1-3354abfc3c36"
      },
      "execution_count": null,
      "outputs": [
        {
          "output_type": "stream",
          "name": "stdout",
          "text": [
            "2*x\n",
            "2*x\n",
            "2*y\n",
            "exp(x)\n",
            "-sin(x) + cos(x)\n",
            "x**3/3\n",
            "2**x/log(2) + 2**y*x\n",
            "10*2**y + 1023/log(2)\n",
            "\n",
            "\n",
            "Use of Infinity limits\n",
            "AccumBounds(-2, 2)\n",
            "sqrt(2)*sqrt(pi)/2\n",
            "sqrt(2)*pi/2\n"
          ]
        }
      ]
    },
    {
      "cell_type": "markdown",
      "source": [
        "## Limits\n"
      ],
      "metadata": {
        "id": "e3OIkVWR233Y"
      }
    },
    {
      "cell_type": "code",
      "source": [
        "from sympy import limit\n",
        "print(limit(x, x, 0))\n",
        "print(limit(x, x, 5))\n",
        "print(limit(x**2, x, 5))\n",
        "print(limit(5/x, x, 0))\n",
        "print(limit(s.sin(x)/x, x,0))"
      ],
      "metadata": {
        "colab": {
          "base_uri": "https://localhost:8080/"
        },
        "id": "GLCyP180j8Lz",
        "outputId": "289d93d2-7da7-49b4-b4e2-88d7547b369a"
      },
      "execution_count": null,
      "outputs": [
        {
          "output_type": "stream",
          "name": "stdout",
          "text": [
            "0\n",
            "5\n",
            "25\n",
            "oo\n",
            "1\n"
          ]
        }
      ]
    },
    {
      "cell_type": "markdown",
      "source": [
        "## Solve for Equations\n",
        "* when we have an equation such as equation=0, we can just pass the equaation without passing the 0. This is done because it by default takes the RHS to be 0.\n",
        "* when we have a statement as `something = something else` then we apply the `eq` function\n",
        "\n"
      ],
      "metadata": {
        "id": "jCHGBrECpiif"
      }
    },
    {
      "cell_type": "code",
      "source": [
        "import sympy as s\n",
        "import math as m\n",
        "from sympy import symbols, limit, expand, diff, factor, integrate, limit, oo, Eq, solve\n",
        "x=symbols(\"x\")\n",
        "y=symbols(\"y\")\n",
        "\n",
        "print(solve(2*x+x+5))\n",
        "\n",
        "# Using the Eq Function\n",
        "print(solve(Eq(x**2, y), x))\n",
        "print(solve(Eq(x**17, 45))) #to find the solutions which satisfy the exression\n"
      ],
      "metadata": {
        "colab": {
          "base_uri": "https://localhost:8080/"
        },
        "id": "6y7kYXxdplEd",
        "outputId": "a4e5f795-bd2b-435a-8fb2-2c55fed90ce0"
      },
      "execution_count": null,
      "outputs": [
        {
          "output_type": "stream",
          "name": "stdout",
          "text": [
            "[-5/3]\n",
            "[-sqrt(y), sqrt(y)]\n",
            "[45**(1/17), -45**(1/17)*cos(pi/17) - 45**(1/17)*I*sin(pi/17), -45**(1/17)*cos(pi/17) + 45**(1/17)*I*sin(pi/17), 45**(1/17)*cos(2*pi/17) - 45**(1/17)*I*sin(2*pi/17), 45**(1/17)*cos(2*pi/17) + 45**(1/17)*I*sin(2*pi/17), -45**(1/17)*cos(3*pi/17) - 45**(1/17)*I*sin(3*pi/17), -45**(1/17)*cos(3*pi/17) + 45**(1/17)*I*sin(3*pi/17), 45**(1/17)*cos(4*pi/17) - 45**(1/17)*I*sin(4*pi/17), 45**(1/17)*cos(4*pi/17) + 45**(1/17)*I*sin(4*pi/17), -45**(1/17)*cos(5*pi/17) - 45**(1/17)*I*sin(5*pi/17), -45**(1/17)*cos(5*pi/17) + 45**(1/17)*I*sin(5*pi/17), 45**(1/17)*cos(6*pi/17) - 45**(1/17)*I*sin(6*pi/17), 45**(1/17)*cos(6*pi/17) + 45**(1/17)*I*sin(6*pi/17), -45**(1/17)*cos(7*pi/17) - 45**(1/17)*I*sin(7*pi/17), -45**(1/17)*cos(7*pi/17) + 45**(1/17)*I*sin(7*pi/17), 45**(1/17)*cos(8*pi/17) - 45**(1/17)*I*sin(8*pi/17), 45**(1/17)*cos(8*pi/17) + 45**(1/17)*I*sin(8*pi/17)]\n"
          ]
        }
      ]
    },
    {
      "cell_type": "markdown",
      "source": [
        "## Differential Equations"
      ],
      "metadata": {
        "id": "L5Y2TCeXTM4m"
      }
    },
    {
      "cell_type": "code",
      "source": [
        "import sympy as s\n",
        "import math\n",
        "from sympy import symbols, Eq, solve, dsolve, Function\n",
        "t=symbols(\"t\")\n",
        "y=Function(\"y\")\n",
        "# the equation we want to solve is  y(t)'' - y(t) = e^t -> solve it for y(t)\n",
        "# here ' means differentiate and '' means twice differentiation\n",
        "\n",
        "print(dsolve(Eq(y(t).diff(t,t)-y(t), s.exp(t)), y(t)))"
      ],
      "metadata": {
        "colab": {
          "base_uri": "https://localhost:8080/"
        },
        "id": "yEuppmNRTTQT",
        "outputId": "77d6d8e2-7790-40ba-e8d1-1ba90b67460e"
      },
      "execution_count": null,
      "outputs": [
        {
          "output_type": "stream",
          "name": "stdout",
          "text": [
            "Eq(y(t), C2*exp(-t) + (C1 + t/2)*exp(t))\n"
          ]
        }
      ]
    },
    {
      "cell_type": "markdown",
      "source": [
        "## Matrix Eigenvalues"
      ],
      "metadata": {
        "id": "3jYDCgyzVEOo"
      }
    },
    {
      "cell_type": "code",
      "source": [
        "import sympy as s\n",
        "import math\n",
        "from sympy import symbols, Eq, solve, dsolve, Function, Matrix\n",
        "t=symbols(\"t\")\n",
        "y=Function(\"y\")\n",
        "\n",
        "print(Matrix([[1,2], [2,2]]).eigenvals())"
      ],
      "metadata": {
        "colab": {
          "base_uri": "https://localhost:8080/"
        },
        "id": "d0rizPUMVKwZ",
        "outputId": "8a3a7529-71dd-4f14-df6d-f0fb3a49ee7c"
      },
      "execution_count": null,
      "outputs": [
        {
          "output_type": "stream",
          "name": "stdout",
          "text": [
            "{3/2 - sqrt(17)/2: 1, 3/2 + sqrt(17)/2: 1}\n"
          ]
        }
      ]
    },
    {
      "cell_type": "markdown",
      "source": [
        "## Good Practices with SymPy\n",
        "\n",
        "1. if you know that your variable is real or in some cases non-negative, it is good to specifiy that in to prevent complicated issues when solving complicated problems\n",
        "`x=sympy.symbols('x', real=True, positive=True)`"
      ],
      "metadata": {
        "id": "55rluRvOUIlN"
      }
    }
  ]
}