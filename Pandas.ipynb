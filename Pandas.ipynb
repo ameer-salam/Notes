{
  "nbformat": 4,
  "nbformat_minor": 0,
  "metadata": {
    "colab": {
      "provenance": [],
      "authorship_tag": "ABX9TyNautcLRqqDuygRV4DWZehD",
      "include_colab_link": true
    },
    "kernelspec": {
      "name": "python3",
      "display_name": "Python 3"
    },
    "language_info": {
      "name": "python"
    }
  },
  "cells": [
    {
      "cell_type": "markdown",
      "metadata": {
        "id": "view-in-github",
        "colab_type": "text"
      },
      "source": [
        "<a href=\"https://colab.research.google.com/github/ameer-salam/Notes/blob/main/Pandas.ipynb\" target=\"_parent\"><img src=\"https://colab.research.google.com/assets/colab-badge.svg\" alt=\"Open In Colab\"/></a>"
      ]
    },
    {
      "cell_type": "markdown",
      "source": [
        "# Pandas\n",
        "* Pandas library is build upon the NumPy library\n",
        "* Pandas is used for data manipulation and analysis\n",
        "* makes working on structured or tabular data easy and intuitive.\n"
      ],
      "metadata": {
        "id": "t45BVRsRyWvQ"
      }
    },
    {
      "cell_type": "markdown",
      "source": [
        "## DataFrames\n",
        "* in simple words DataFrame is a Table, it contains an array of individual entries each with certain value.\n",
        "* it is a two dimensional labelled datastructure which resemblesa spreadsheet or SQL table.\n",
        "* it consists of Rows and Columns, where each column contain a data of different data types.\n",
        "* here we can have names to both rows and columns and have index names(index lables)\n",
        "* Nan - unavailable data\n",
        "\n",
        "| Categorical variables | Numerical Variables |\n",
        "|-|-|\n",
        "| Represents qualitative or nominal data which falls into discrete category or groups | Represents numerical data or quantitative data |\n",
        "|example - Gender, Maritial status, Product categories|number of products, no.. of Cars|\n",
        "|have limited number of distince values|can takeup wide range of values|\n"
      ],
      "metadata": {
        "id": "e-TD1QV3zF5h"
      }
    },
    {
      "cell_type": "markdown",
      "source": [
        "## DataFrames in Pandas\n",
        "* it is a single dimensional labeled array-like datastructure"
      ],
      "metadata": {
        "id": "C7lyYwgT5GuA"
      }
    },
    {
      "cell_type": "code",
      "source": [
        "#creating DataFrame\n",
        "import pandas as pd\n",
        "import numpy as np\n",
        "\n",
        "df=pd.DataFrame({'Yes':[30, 40], 'No':[45, 76]})\n",
        "print(df)\n",
        "\n",
        "#Data Frames elemments are not just limited to one datatype\n",
        "print(\"\\n\")\n",
        "df=pd.DataFrame({\"Ameer\":['Code', 'Robots', 'God'], 'Salam':['Cars', 'Games', 'Work']})\n",
        "print(df)"
      ],
      "metadata": {
        "colab": {
          "base_uri": "https://localhost:8080/"
        },
        "id": "9KVxdvU85igX",
        "outputId": "5e532b8c-02a9-4cbd-9763-07b9ccf4dad2"
      },
      "execution_count": null,
      "outputs": [
        {
          "output_type": "stream",
          "name": "stdout",
          "text": [
            "   Yes  No\n",
            "0   30  45\n",
            "1   40  76\n",
            "\n",
            "\n",
            "    Ameer  Salam\n",
            "0    Code   Cars\n",
            "1  Robots  Games\n",
            "2     God   Work\n"
          ]
        }
      ]
    },
    {
      "cell_type": "code",
      "source": [
        "#indexing in Pandas\n",
        "df=pd.DataFrame({\"Car Company\":['Hundai', 'Volvo'],'Car Models':['Eon', 'S90']}, index=['Compact', 'Sedan'])\n",
        "print(df)"
      ],
      "metadata": {
        "colab": {
          "base_uri": "https://localhost:8080/"
        },
        "id": "egohKhFw7dGe",
        "outputId": "34bce759-e62a-4709-afd7-15306d9f8461"
      },
      "execution_count": null,
      "outputs": [
        {
          "output_type": "stream",
          "name": "stdout",
          "text": [
            "        Car Company Car Models\n",
            "Compact      Hundai        Eon\n",
            "Sedan         Volvo        S90\n"
          ]
        }
      ]
    },
    {
      "cell_type": "markdown",
      "source": [
        "## Series in Pandas\n",
        "\n",
        "* Series is a sequence of Data values,\n",
        "* if DataFrame is Table, then Series is a list\n",
        "* just like Pandas, Series can also have indexing, but since it only has one column, we can only give it one `name`\n",
        "* **We can also take DataFrames as a collection of Series which are glues together**\n"
      ],
      "metadata": {
        "id": "Dji0tNsQ7-Ia"
      }
    },
    {
      "cell_type": "code",
      "source": [
        "s=pd.Series([1,2,3,4,np.nan, 6,7])\n",
        "print(s)"
      ],
      "metadata": {
        "colab": {
          "base_uri": "https://localhost:8080/"
        },
        "id": "J6jNoc_Y9ShA",
        "outputId": "1d4dbd03-e33d-450d-e91c-c551745952b5"
      },
      "execution_count": null,
      "outputs": [
        {
          "output_type": "stream",
          "name": "stdout",
          "text": [
            "0    1.0\n",
            "1    2.0\n",
            "2    3.0\n",
            "3    4.0\n",
            "4    NaN\n",
            "5    6.0\n",
            "6    7.0\n",
            "dtype: float64\n"
          ]
        }
      ]
    },
    {
      "cell_type": "code",
      "source": [
        "s=pd.Series([1,2,3,4,np.nan, 6,7], index=['2018 Sales', '2019 Sales', '2020 Sales', '2021 Sales', '2022 Sales', '2023 Sales', '2024 Sales'], name='Sales')\n",
        "print(s)"
      ],
      "metadata": {
        "colab": {
          "base_uri": "https://localhost:8080/"
        },
        "id": "YFzH_aZT95hP",
        "outputId": "b461fbc0-4295-4dea-8a77-d37c31640569"
      },
      "execution_count": null,
      "outputs": [
        {
          "output_type": "stream",
          "name": "stdout",
          "text": [
            "2018 Sales    1.0\n",
            "2019 Sales    2.0\n",
            "2020 Sales    3.0\n",
            "2021 Sales    4.0\n",
            "2022 Sales    NaN\n",
            "2023 Sales    6.0\n",
            "2024 Sales    7.0\n",
            "Name: Sales, dtype: float64\n"
          ]
        }
      ]
    },
    {
      "cell_type": "markdown",
      "source": [
        "## Reading Data Files\n",
        "\n",
        "* the most common format of storing data in datasheets is the `csv` file (Comma-Separated Values)\n",
        "\n",
        "to read a csv file we use - pd.read_csv()"
      ],
      "metadata": {
        "id": "8snA69uM-gtC"
      }
    },
    {
      "cell_type": "code",
      "source": [
        "import requests\n",
        "\n",
        "url=\"https://gist.githubusercontent.com/netj/8836201/raw/6f9306ad21398ea43cba4f7d537619d0e07d5ae3/iris.csv\"\n",
        "\n",
        "file=pd.read_csv(url)\n",
        "print(file.head()) #head prints the first five rows"
      ],
      "metadata": {
        "colab": {
          "base_uri": "https://localhost:8080/"
        },
        "id": "qWCNum_x_s9z",
        "outputId": "99469e3f-fb3c-4286-813a-23919009ec92"
      },
      "execution_count": null,
      "outputs": [
        {
          "output_type": "stream",
          "name": "stdout",
          "text": [
            "   sepal.length  sepal.width  petal.length  petal.width variety\n",
            "0           5.1          3.5           1.4          0.2  Setosa\n",
            "1           4.9          3.0           1.4          0.2  Setosa\n",
            "2           4.7          3.2           1.3          0.2  Setosa\n",
            "3           4.6          3.1           1.5          0.2  Setosa\n",
            "4           5.0          3.6           1.4          0.2  Setosa\n"
          ]
        }
      ]
    },
    {
      "cell_type": "code",
      "source": [
        "#We can use the Shape function to know the shape of the file\n",
        "print(file.shape)\n",
        "\n",
        "#this shows (n,m) the data is of n records (Rows) split accorss m-columns"
      ],
      "metadata": {
        "colab": {
          "base_uri": "https://localhost:8080/"
        },
        "id": "i7gIa4ED_9Uc",
        "outputId": "8502ea98-ca0c-41bd-bef3-46459a0eafe3"
      },
      "execution_count": null,
      "outputs": [
        {
          "output_type": "stream",
          "name": "stdout",
          "text": [
            "(150, 5)\n"
          ]
        }
      ]
    },
    {
      "cell_type": "code",
      "source": [
        "import pandas as pd\n",
        "import numpy as np\n",
        "\n",
        "url=\"https://gist.githubusercontent.com/netj/8836201/raw/6f9306ad21398ea43cba4f7d537619d0e07d5ae3/iris.csv\"\n",
        "\n",
        "\n",
        "#to make the pandas use the column of the datasheet as index we can use the function ined_col\n",
        "file=pd.read_csv(url, index_col=0)\n",
        "print(file.head())"
      ],
      "metadata": {
        "id": "U4HQTjL-AkSC",
        "colab": {
          "base_uri": "https://localhost:8080/"
        },
        "outputId": "6307d70a-179e-4499-e726-621e6470d0ef"
      },
      "execution_count": null,
      "outputs": [
        {
          "output_type": "stream",
          "name": "stdout",
          "text": [
            "              sepal.width  petal.length  petal.width variety\n",
            "sepal.length                                                \n",
            "5.1                   3.5           1.4          0.2  Setosa\n",
            "4.9                   3.0           1.4          0.2  Setosa\n",
            "4.7                   3.2           1.3          0.2  Setosa\n",
            "4.6                   3.1           1.5          0.2  Setosa\n",
            "5.0                   3.6           1.4          0.2  Setosa\n"
          ]
        }
      ]
    },
    {
      "cell_type": "code",
      "source": [],
      "metadata": {
        "id": "IyKfAhJvbTjw"
      },
      "execution_count": null,
      "outputs": []
    },
    {
      "cell_type": "markdown",
      "source": [
        "## Indexing\n",
        "With indexing we can select a specific data expelicitly to work on"
      ],
      "metadata": {
        "id": "-Ffu0ktfbaGe"
      }
    },
    {
      "cell_type": "code",
      "source": [
        "#selectin only the variety column\n",
        "print(\"The indexing : \\n\", file.variety.head())\n",
        "print(\"\\n\",file['petal.length'].head())"
      ],
      "metadata": {
        "colab": {
          "base_uri": "https://localhost:8080/"
        },
        "id": "QoHgYo9ubgaR",
        "outputId": "98f8b9c2-7531-40f4-ee38-9c233c9a9e92"
      },
      "execution_count": null,
      "outputs": [
        {
          "output_type": "stream",
          "name": "stdout",
          "text": [
            "The indexing : \n",
            " sepal.length\n",
            "5.1    Setosa\n",
            "4.9    Setosa\n",
            "4.7    Setosa\n",
            "4.6    Setosa\n",
            "5.0    Setosa\n",
            "Name: variety, dtype: object\n",
            "\n",
            " sepal.length\n",
            "5.1    1.4\n",
            "4.9    1.4\n",
            "4.7    1.3\n",
            "4.6    1.5\n",
            "5.0    1.4\n",
            "Name: petal.length, dtype: float64\n"
          ]
        }
      ]
    },
    {
      "cell_type": "markdown",
      "source": [
        "index based selection\n",
        "* loc()\n",
        "* iloc()\n",
        "\n",
        "they are both row first and column second functions"
      ],
      "metadata": {
        "id": "VcBvq41Ic2yS"
      }
    },
    {
      "cell_type": "code",
      "source": [
        "print(file.iloc[10:21,2:3]) #wor range and column range(row start : row end+1, column start : column end+1)"
      ],
      "metadata": {
        "colab": {
          "base_uri": "https://localhost:8080/"
        },
        "id": "FHibKHiudNgC",
        "outputId": "499498e4-312f-45fe-ff33-f3a437071e1e"
      },
      "execution_count": null,
      "outputs": [
        {
          "output_type": "stream",
          "name": "stdout",
          "text": [
            "              petal.width\n",
            "sepal.length             \n",
            "5.4                   0.2\n",
            "4.8                   0.2\n",
            "4.8                   0.1\n",
            "4.3                   0.1\n",
            "5.8                   0.2\n",
            "5.7                   0.4\n",
            "5.4                   0.4\n",
            "5.1                   0.3\n",
            "5.7                   0.3\n",
            "5.1                   0.3\n",
            "5.4                   0.2\n"
          ]
        }
      ]
    },
    {
      "cell_type": "code",
      "source": [
        "#country population data\n",
        "url = \"https://raw.githubusercontent.com/datasets/population/main/data/population.csv\"\n",
        "\n",
        "data=pd.read_csv(url, index_col=1)\n",
        "print(data.head(100))\n",
        "\n",
        "#indexing using list\n",
        "print(data.iloc[[1,100,300,400,500], 1:2])\n"
      ],
      "metadata": {
        "colab": {
          "base_uri": "https://localhost:8080/"
        },
        "id": "cbJznu1Ud0JR",
        "outputId": "028ec45e-f7c7-41e3-ad10-6bedaa0300d6"
      },
      "execution_count": null,
      "outputs": [
        {
          "output_type": "stream",
          "name": "stdout",
          "text": [
            "                             Country Name  Year      Value\n",
            "Country Code                                              \n",
            "ABW                                 Aruba  1960      54608\n",
            "ABW                                 Aruba  1961      55811\n",
            "ABW                                 Aruba  1962      56682\n",
            "ABW                                 Aruba  1963      57475\n",
            "ABW                                 Aruba  1964      58178\n",
            "...                                   ...   ...        ...\n",
            "AFE           Africa Eastern and Southern  1993  335625136\n",
            "AFE           Africa Eastern and Southern  1994  344418362\n",
            "AFE           Africa Eastern and Southern  1995  353466601\n",
            "AFE           Africa Eastern and Southern  1996  362985802\n",
            "AFE           Africa Eastern and Southern  1997  372352230\n",
            "\n",
            "[100 rows x 3 columns]\n",
            "              Year\n",
            "Country Code      \n",
            "ABW           1961\n",
            "AFE           1998\n",
            "AGO           2012\n",
            "AND           1988\n",
            "ARE           1964\n"
          ]
        }
      ]
    },
    {
      "cell_type": "markdown",
      "source": [
        "Lable-based selection\n",
        "iloc(row, column)\n"
      ],
      "metadata": {
        "id": "YWZDANLbflXh"
      }
    },
    {
      "cell_type": "code",
      "source": [
        "import pandas as pd\n",
        "\n",
        "url = \"https://raw.githubusercontent.com/datasets/population/main/data/population.csv\"\n",
        "data = pd.read_csv(url, index_col=1)\n",
        "\n",
        "print(data.head(100))\n",
        "\n",
        "# Indexing using integer positions\n",
        "print(data.iloc[0, 2])\n"
      ],
      "metadata": {
        "colab": {
          "base_uri": "https://localhost:8080/"
        },
        "id": "OPZxhFLSgTKZ",
        "outputId": "8e6688e5-67b0-49b2-883b-4af163c88f79"
      },
      "execution_count": null,
      "outputs": [
        {
          "output_type": "stream",
          "name": "stdout",
          "text": [
            "                             Country Name  Year      Value\n",
            "Country Code                                              \n",
            "ABW                                 Aruba  1960      54608\n",
            "ABW                                 Aruba  1961      55811\n",
            "ABW                                 Aruba  1962      56682\n",
            "ABW                                 Aruba  1963      57475\n",
            "ABW                                 Aruba  1964      58178\n",
            "...                                   ...   ...        ...\n",
            "AFE           Africa Eastern and Southern  1993  335625136\n",
            "AFE           Africa Eastern and Southern  1994  344418362\n",
            "AFE           Africa Eastern and Southern  1995  353466601\n",
            "AFE           Africa Eastern and Southern  1996  362985802\n",
            "AFE           Africa Eastern and Southern  1997  372352230\n",
            "\n",
            "[100 rows x 3 columns]\n",
            "54608\n"
          ]
        }
      ]
    },
    {
      "cell_type": "code",
      "source": [
        "!pip install pandas"
      ],
      "metadata": {
        "colab": {
          "base_uri": "https://localhost:8080/"
        },
        "id": "sHO9exlr0D9Q",
        "outputId": "bccefabf-16eb-4b7e-8094-a1a660516260"
      },
      "execution_count": null,
      "outputs": [
        {
          "output_type": "stream",
          "name": "stdout",
          "text": [
            "Requirement already satisfied: pandas in /usr/local/lib/python3.10/dist-packages (1.5.3)\n",
            "Requirement already satisfied: python-dateutil>=2.8.1 in /usr/local/lib/python3.10/dist-packages (from pandas) (2.8.2)\n",
            "Requirement already satisfied: pytz>=2020.1 in /usr/local/lib/python3.10/dist-packages (from pandas) (2023.4)\n",
            "Requirement already satisfied: numpy>=1.21.0 in /usr/local/lib/python3.10/dist-packages (from pandas) (1.25.2)\n",
            "Requirement already satisfied: six>=1.5 in /usr/local/lib/python3.10/dist-packages (from python-dateutil>=2.8.1->pandas) (1.16.0)\n"
          ]
        }
      ]
    },
    {
      "cell_type": "code",
      "source": [
        "# Manipulating index\n",
        "import pandas as pd\n",
        "import requests\n",
        "\n",
        "url = \"https://raw.githubusercontent.com/datasets/population/main/data/population.csv\"\n",
        "data = pd.read_csv(url, index_col=0)\n",
        "\n",
        "data = data.loc(\"Values\")\n",
        "print(data)"
      ],
      "metadata": {
        "colab": {
          "base_uri": "https://localhost:8080/",
          "height": 408
        },
        "id": "eEgoUsf-zcJg",
        "outputId": "8fc3aba4-3f94-44b9-c9a4-cb24ad709072"
      },
      "execution_count": null,
      "outputs": [
        {
          "output_type": "error",
          "ename": "ValueError",
          "evalue": "No axis named Values for object type DataFrame",
          "traceback": [
            "\u001b[0;31m---------------------------------------------------------------------------\u001b[0m",
            "\u001b[0;31mKeyError\u001b[0m                                  Traceback (most recent call last)",
            "\u001b[0;32m/usr/local/lib/python3.10/dist-packages/pandas/core/generic.py\u001b[0m in \u001b[0;36m_get_axis_number\u001b[0;34m(cls, axis)\u001b[0m\n\u001b[1;32m    553\u001b[0m         \u001b[0;32mtry\u001b[0m\u001b[0;34m:\u001b[0m\u001b[0;34m\u001b[0m\u001b[0;34m\u001b[0m\u001b[0m\n\u001b[0;32m--> 554\u001b[0;31m             \u001b[0;32mreturn\u001b[0m \u001b[0mcls\u001b[0m\u001b[0;34m.\u001b[0m\u001b[0m_AXIS_TO_AXIS_NUMBER\u001b[0m\u001b[0;34m[\u001b[0m\u001b[0maxis\u001b[0m\u001b[0;34m]\u001b[0m\u001b[0;34m\u001b[0m\u001b[0;34m\u001b[0m\u001b[0m\n\u001b[0m\u001b[1;32m    555\u001b[0m         \u001b[0;32mexcept\u001b[0m \u001b[0mKeyError\u001b[0m\u001b[0;34m:\u001b[0m\u001b[0;34m\u001b[0m\u001b[0;34m\u001b[0m\u001b[0m\n",
            "\u001b[0;31mKeyError\u001b[0m: 'Values'",
            "\nDuring handling of the above exception, another exception occurred:\n",
            "\u001b[0;31mValueError\u001b[0m                                Traceback (most recent call last)",
            "\u001b[0;32m<ipython-input-5-6ff55d475344>\u001b[0m in \u001b[0;36m<cell line: 8>\u001b[0;34m()\u001b[0m\n\u001b[1;32m      6\u001b[0m \u001b[0mdata\u001b[0m \u001b[0;34m=\u001b[0m \u001b[0mpd\u001b[0m\u001b[0;34m.\u001b[0m\u001b[0mread_csv\u001b[0m\u001b[0;34m(\u001b[0m\u001b[0murl\u001b[0m\u001b[0;34m,\u001b[0m \u001b[0mindex_col\u001b[0m\u001b[0;34m=\u001b[0m\u001b[0;36m0\u001b[0m\u001b[0;34m)\u001b[0m\u001b[0;34m\u001b[0m\u001b[0;34m\u001b[0m\u001b[0m\n\u001b[1;32m      7\u001b[0m \u001b[0;34m\u001b[0m\u001b[0m\n\u001b[0;32m----> 8\u001b[0;31m \u001b[0mdata\u001b[0m \u001b[0;34m=\u001b[0m \u001b[0mdata\u001b[0m\u001b[0;34m.\u001b[0m\u001b[0mloc\u001b[0m\u001b[0;34m(\u001b[0m\u001b[0;34m\"Values\"\u001b[0m\u001b[0;34m)\u001b[0m\u001b[0;34m\u001b[0m\u001b[0;34m\u001b[0m\u001b[0m\n\u001b[0m\u001b[1;32m      9\u001b[0m \u001b[0mprint\u001b[0m\u001b[0;34m(\u001b[0m\u001b[0mdata\u001b[0m\u001b[0;34m)\u001b[0m\u001b[0;34m\u001b[0m\u001b[0;34m\u001b[0m\u001b[0m\n",
            "\u001b[0;32m/usr/local/lib/python3.10/dist-packages/pandas/core/indexing.py\u001b[0m in \u001b[0;36m__call__\u001b[0;34m(self, axis)\u001b[0m\n\u001b[1;32m    666\u001b[0m \u001b[0;34m\u001b[0m\u001b[0m\n\u001b[1;32m    667\u001b[0m         \u001b[0;32mif\u001b[0m \u001b[0maxis\u001b[0m \u001b[0;32mis\u001b[0m \u001b[0;32mnot\u001b[0m \u001b[0;32mNone\u001b[0m\u001b[0;34m:\u001b[0m\u001b[0;34m\u001b[0m\u001b[0;34m\u001b[0m\u001b[0m\n\u001b[0;32m--> 668\u001b[0;31m             \u001b[0maxis\u001b[0m \u001b[0;34m=\u001b[0m \u001b[0mself\u001b[0m\u001b[0;34m.\u001b[0m\u001b[0mobj\u001b[0m\u001b[0;34m.\u001b[0m\u001b[0m_get_axis_number\u001b[0m\u001b[0;34m(\u001b[0m\u001b[0maxis\u001b[0m\u001b[0;34m)\u001b[0m\u001b[0;34m\u001b[0m\u001b[0;34m\u001b[0m\u001b[0m\n\u001b[0m\u001b[1;32m    669\u001b[0m         \u001b[0mnew_self\u001b[0m\u001b[0;34m.\u001b[0m\u001b[0maxis\u001b[0m \u001b[0;34m=\u001b[0m \u001b[0maxis\u001b[0m\u001b[0;34m\u001b[0m\u001b[0;34m\u001b[0m\u001b[0m\n\u001b[1;32m    670\u001b[0m         \u001b[0;32mreturn\u001b[0m \u001b[0mnew_self\u001b[0m\u001b[0;34m\u001b[0m\u001b[0;34m\u001b[0m\u001b[0m\n",
            "\u001b[0;32m/usr/local/lib/python3.10/dist-packages/pandas/core/generic.py\u001b[0m in \u001b[0;36m_get_axis_number\u001b[0;34m(cls, axis)\u001b[0m\n\u001b[1;32m    554\u001b[0m             \u001b[0;32mreturn\u001b[0m \u001b[0mcls\u001b[0m\u001b[0;34m.\u001b[0m\u001b[0m_AXIS_TO_AXIS_NUMBER\u001b[0m\u001b[0;34m[\u001b[0m\u001b[0maxis\u001b[0m\u001b[0;34m]\u001b[0m\u001b[0;34m\u001b[0m\u001b[0;34m\u001b[0m\u001b[0m\n\u001b[1;32m    555\u001b[0m         \u001b[0;32mexcept\u001b[0m \u001b[0mKeyError\u001b[0m\u001b[0;34m:\u001b[0m\u001b[0;34m\u001b[0m\u001b[0;34m\u001b[0m\u001b[0m\n\u001b[0;32m--> 556\u001b[0;31m             \u001b[0;32mraise\u001b[0m \u001b[0mValueError\u001b[0m\u001b[0;34m(\u001b[0m\u001b[0;34mf\"No axis named {axis} for object type {cls.__name__}\"\u001b[0m\u001b[0;34m)\u001b[0m\u001b[0;34m\u001b[0m\u001b[0;34m\u001b[0m\u001b[0m\n\u001b[0m\u001b[1;32m    557\u001b[0m \u001b[0;34m\u001b[0m\u001b[0m\n\u001b[1;32m    558\u001b[0m     \u001b[0;34m@\u001b[0m\u001b[0mfinal\u001b[0m\u001b[0;34m\u001b[0m\u001b[0;34m\u001b[0m\u001b[0m\n",
            "\u001b[0;31mValueError\u001b[0m: No axis named Values for object type DataFrame"
          ]
        }
      ]
    },
    {
      "cell_type": "markdown",
      "source": [
        "## Conditional Selection\n",
        "\n",
        "* so far we have been indexing using structural properties of DataFrame.\n",
        "* with conditional indexing we can select the wanted data"
      ],
      "metadata": {
        "id": "2s-DoMTt0bJ_"
      }
    },
    {
      "cell_type": "code",
      "source": [
        "import pandas as pd\n",
        "url = \"https://raw.githubusercontent.com/datasets/population/main/data/population.csv\"\n",
        "data = pd.read_csv(url, index_col=0)\n",
        "print(data.Value==55811)"
      ],
      "metadata": {
        "colab": {
          "base_uri": "https://localhost:8080/"
        },
        "id": "OJ7wtJXSsB33",
        "outputId": "5fda7ec2-8234-44a0-c410-6902788cb89c"
      },
      "execution_count": null,
      "outputs": [
        {
          "output_type": "stream",
          "name": "stdout",
          "text": [
            "Country Name\n",
            "Aruba       False\n",
            "Aruba        True\n",
            "Aruba       False\n",
            "Aruba       False\n",
            "Aruba       False\n",
            "            ...  \n",
            "Zimbabwe    False\n",
            "Zimbabwe    False\n",
            "Zimbabwe    False\n",
            "Zimbabwe    False\n",
            "Zimbabwe    False\n",
            "Name: Value, Length: 16400, dtype: bool\n"
          ]
        }
      ]
    },
    {
      "cell_type": "code",
      "source": [
        "data.loc[data.Value==55811]"
      ],
      "metadata": {
        "colab": {
          "base_uri": "https://localhost:8080/",
          "height": 112
        },
        "id": "b1r5ONrhsjPB",
        "outputId": "e4234ea0-c406-46d8-b233-7623ff372ac4"
      },
      "execution_count": null,
      "outputs": [
        {
          "output_type": "execute_result",
          "data": {
            "text/plain": [
              "             Country Code  Year  Value\n",
              "Country Name                          \n",
              "Aruba                 ABW  1961  55811"
            ],
            "text/html": [
              "\n",
              "  <div id=\"df-e33157e8-1a43-4c84-8054-9a86e0cb8e5f\" class=\"colab-df-container\">\n",
              "    <div>\n",
              "<style scoped>\n",
              "    .dataframe tbody tr th:only-of-type {\n",
              "        vertical-align: middle;\n",
              "    }\n",
              "\n",
              "    .dataframe tbody tr th {\n",
              "        vertical-align: top;\n",
              "    }\n",
              "\n",
              "    .dataframe thead th {\n",
              "        text-align: right;\n",
              "    }\n",
              "</style>\n",
              "<table border=\"1\" class=\"dataframe\">\n",
              "  <thead>\n",
              "    <tr style=\"text-align: right;\">\n",
              "      <th></th>\n",
              "      <th>Country Code</th>\n",
              "      <th>Year</th>\n",
              "      <th>Value</th>\n",
              "    </tr>\n",
              "    <tr>\n",
              "      <th>Country Name</th>\n",
              "      <th></th>\n",
              "      <th></th>\n",
              "      <th></th>\n",
              "    </tr>\n",
              "  </thead>\n",
              "  <tbody>\n",
              "    <tr>\n",
              "      <th>Aruba</th>\n",
              "      <td>ABW</td>\n",
              "      <td>1961</td>\n",
              "      <td>55811</td>\n",
              "    </tr>\n",
              "  </tbody>\n",
              "</table>\n",
              "</div>\n",
              "    <div class=\"colab-df-buttons\">\n",
              "\n",
              "  <div class=\"colab-df-container\">\n",
              "    <button class=\"colab-df-convert\" onclick=\"convertToInteractive('df-e33157e8-1a43-4c84-8054-9a86e0cb8e5f')\"\n",
              "            title=\"Convert this dataframe to an interactive table.\"\n",
              "            style=\"display:none;\">\n",
              "\n",
              "  <svg xmlns=\"http://www.w3.org/2000/svg\" height=\"24px\" viewBox=\"0 -960 960 960\">\n",
              "    <path d=\"M120-120v-720h720v720H120Zm60-500h600v-160H180v160Zm220 220h160v-160H400v160Zm0 220h160v-160H400v160ZM180-400h160v-160H180v160Zm440 0h160v-160H620v160ZM180-180h160v-160H180v160Zm440 0h160v-160H620v160Z\"/>\n",
              "  </svg>\n",
              "    </button>\n",
              "\n",
              "  <style>\n",
              "    .colab-df-container {\n",
              "      display:flex;\n",
              "      gap: 12px;\n",
              "    }\n",
              "\n",
              "    .colab-df-convert {\n",
              "      background-color: #E8F0FE;\n",
              "      border: none;\n",
              "      border-radius: 50%;\n",
              "      cursor: pointer;\n",
              "      display: none;\n",
              "      fill: #1967D2;\n",
              "      height: 32px;\n",
              "      padding: 0 0 0 0;\n",
              "      width: 32px;\n",
              "    }\n",
              "\n",
              "    .colab-df-convert:hover {\n",
              "      background-color: #E2EBFA;\n",
              "      box-shadow: 0px 1px 2px rgba(60, 64, 67, 0.3), 0px 1px 3px 1px rgba(60, 64, 67, 0.15);\n",
              "      fill: #174EA6;\n",
              "    }\n",
              "\n",
              "    .colab-df-buttons div {\n",
              "      margin-bottom: 4px;\n",
              "    }\n",
              "\n",
              "    [theme=dark] .colab-df-convert {\n",
              "      background-color: #3B4455;\n",
              "      fill: #D2E3FC;\n",
              "    }\n",
              "\n",
              "    [theme=dark] .colab-df-convert:hover {\n",
              "      background-color: #434B5C;\n",
              "      box-shadow: 0px 1px 3px 1px rgba(0, 0, 0, 0.15);\n",
              "      filter: drop-shadow(0px 1px 2px rgba(0, 0, 0, 0.3));\n",
              "      fill: #FFFFFF;\n",
              "    }\n",
              "  </style>\n",
              "\n",
              "    <script>\n",
              "      const buttonEl =\n",
              "        document.querySelector('#df-e33157e8-1a43-4c84-8054-9a86e0cb8e5f button.colab-df-convert');\n",
              "      buttonEl.style.display =\n",
              "        google.colab.kernel.accessAllowed ? 'block' : 'none';\n",
              "\n",
              "      async function convertToInteractive(key) {\n",
              "        const element = document.querySelector('#df-e33157e8-1a43-4c84-8054-9a86e0cb8e5f');\n",
              "        const dataTable =\n",
              "          await google.colab.kernel.invokeFunction('convertToInteractive',\n",
              "                                                    [key], {});\n",
              "        if (!dataTable) return;\n",
              "\n",
              "        const docLinkHtml = 'Like what you see? Visit the ' +\n",
              "          '<a target=\"_blank\" href=https://colab.research.google.com/notebooks/data_table.ipynb>data table notebook</a>'\n",
              "          + ' to learn more about interactive tables.';\n",
              "        element.innerHTML = '';\n",
              "        dataTable['output_type'] = 'display_data';\n",
              "        await google.colab.output.renderOutput(dataTable, element);\n",
              "        const docLink = document.createElement('div');\n",
              "        docLink.innerHTML = docLinkHtml;\n",
              "        element.appendChild(docLink);\n",
              "      }\n",
              "    </script>\n",
              "  </div>\n",
              "\n",
              "\n",
              "    </div>\n",
              "  </div>\n"
            ],
            "application/vnd.google.colaboratory.intrinsic+json": {
              "type": "dataframe",
              "summary": "{\n  \"name\": \"data\",\n  \"rows\": 1,\n  \"fields\": [\n    {\n      \"column\": \"Country Code\",\n      \"properties\": {\n        \"dtype\": \"string\",\n        \"num_unique_values\": 1,\n        \"samples\": [\n          \"ABW\"\n        ],\n        \"semantic_type\": \"\",\n        \"description\": \"\"\n      }\n    },\n    {\n      \"column\": \"Year\",\n      \"properties\": {\n        \"dtype\": \"number\",\n        \"std\": null,\n        \"min\": 1961,\n        \"max\": 1961,\n        \"num_unique_values\": 1,\n        \"samples\": [\n          1961\n        ],\n        \"semantic_type\": \"\",\n        \"description\": \"\"\n      }\n    },\n    {\n      \"column\": \"Value\",\n      \"properties\": {\n        \"dtype\": \"number\",\n        \"std\": null,\n        \"min\": 55811,\n        \"max\": 55811,\n        \"num_unique_values\": 1,\n        \"samples\": [\n          55811\n        ],\n        \"semantic_type\": \"\",\n        \"description\": \"\"\n      }\n    }\n  ]\n}"
            }
          },
          "metadata": {},
          "execution_count": 11
        }
      ]
    },
    {
      "cell_type": "code",
      "source": [
        "# use of |\n",
        "data.loc[(data.Value==55811) | (data.Value==55944)]"
      ],
      "metadata": {
        "colab": {
          "base_uri": "https://localhost:8080/",
          "height": 112
        },
        "id": "2hL8SoEQsuI_",
        "outputId": "a38ed93e-a9e4-432a-830d-38134d5461a8"
      },
      "execution_count": null,
      "outputs": [
        {
          "output_type": "execute_result",
          "data": {
            "text/plain": [
              "             Country Code  Year  Value\n",
              "Country Name                          \n",
              "Aruba                 ABW  1961  55811"
            ],
            "text/html": [
              "\n",
              "  <div id=\"df-b945cf21-8d93-4e7b-b258-d875701ba8c2\" class=\"colab-df-container\">\n",
              "    <div>\n",
              "<style scoped>\n",
              "    .dataframe tbody tr th:only-of-type {\n",
              "        vertical-align: middle;\n",
              "    }\n",
              "\n",
              "    .dataframe tbody tr th {\n",
              "        vertical-align: top;\n",
              "    }\n",
              "\n",
              "    .dataframe thead th {\n",
              "        text-align: right;\n",
              "    }\n",
              "</style>\n",
              "<table border=\"1\" class=\"dataframe\">\n",
              "  <thead>\n",
              "    <tr style=\"text-align: right;\">\n",
              "      <th></th>\n",
              "      <th>Country Code</th>\n",
              "      <th>Year</th>\n",
              "      <th>Value</th>\n",
              "    </tr>\n",
              "    <tr>\n",
              "      <th>Country Name</th>\n",
              "      <th></th>\n",
              "      <th></th>\n",
              "      <th></th>\n",
              "    </tr>\n",
              "  </thead>\n",
              "  <tbody>\n",
              "    <tr>\n",
              "      <th>Aruba</th>\n",
              "      <td>ABW</td>\n",
              "      <td>1961</td>\n",
              "      <td>55811</td>\n",
              "    </tr>\n",
              "  </tbody>\n",
              "</table>\n",
              "</div>\n",
              "    <div class=\"colab-df-buttons\">\n",
              "\n",
              "  <div class=\"colab-df-container\">\n",
              "    <button class=\"colab-df-convert\" onclick=\"convertToInteractive('df-b945cf21-8d93-4e7b-b258-d875701ba8c2')\"\n",
              "            title=\"Convert this dataframe to an interactive table.\"\n",
              "            style=\"display:none;\">\n",
              "\n",
              "  <svg xmlns=\"http://www.w3.org/2000/svg\" height=\"24px\" viewBox=\"0 -960 960 960\">\n",
              "    <path d=\"M120-120v-720h720v720H120Zm60-500h600v-160H180v160Zm220 220h160v-160H400v160Zm0 220h160v-160H400v160ZM180-400h160v-160H180v160Zm440 0h160v-160H620v160ZM180-180h160v-160H180v160Zm440 0h160v-160H620v160Z\"/>\n",
              "  </svg>\n",
              "    </button>\n",
              "\n",
              "  <style>\n",
              "    .colab-df-container {\n",
              "      display:flex;\n",
              "      gap: 12px;\n",
              "    }\n",
              "\n",
              "    .colab-df-convert {\n",
              "      background-color: #E8F0FE;\n",
              "      border: none;\n",
              "      border-radius: 50%;\n",
              "      cursor: pointer;\n",
              "      display: none;\n",
              "      fill: #1967D2;\n",
              "      height: 32px;\n",
              "      padding: 0 0 0 0;\n",
              "      width: 32px;\n",
              "    }\n",
              "\n",
              "    .colab-df-convert:hover {\n",
              "      background-color: #E2EBFA;\n",
              "      box-shadow: 0px 1px 2px rgba(60, 64, 67, 0.3), 0px 1px 3px 1px rgba(60, 64, 67, 0.15);\n",
              "      fill: #174EA6;\n",
              "    }\n",
              "\n",
              "    .colab-df-buttons div {\n",
              "      margin-bottom: 4px;\n",
              "    }\n",
              "\n",
              "    [theme=dark] .colab-df-convert {\n",
              "      background-color: #3B4455;\n",
              "      fill: #D2E3FC;\n",
              "    }\n",
              "\n",
              "    [theme=dark] .colab-df-convert:hover {\n",
              "      background-color: #434B5C;\n",
              "      box-shadow: 0px 1px 3px 1px rgba(0, 0, 0, 0.15);\n",
              "      filter: drop-shadow(0px 1px 2px rgba(0, 0, 0, 0.3));\n",
              "      fill: #FFFFFF;\n",
              "    }\n",
              "  </style>\n",
              "\n",
              "    <script>\n",
              "      const buttonEl =\n",
              "        document.querySelector('#df-b945cf21-8d93-4e7b-b258-d875701ba8c2 button.colab-df-convert');\n",
              "      buttonEl.style.display =\n",
              "        google.colab.kernel.accessAllowed ? 'block' : 'none';\n",
              "\n",
              "      async function convertToInteractive(key) {\n",
              "        const element = document.querySelector('#df-b945cf21-8d93-4e7b-b258-d875701ba8c2');\n",
              "        const dataTable =\n",
              "          await google.colab.kernel.invokeFunction('convertToInteractive',\n",
              "                                                    [key], {});\n",
              "        if (!dataTable) return;\n",
              "\n",
              "        const docLinkHtml = 'Like what you see? Visit the ' +\n",
              "          '<a target=\"_blank\" href=https://colab.research.google.com/notebooks/data_table.ipynb>data table notebook</a>'\n",
              "          + ' to learn more about interactive tables.';\n",
              "        element.innerHTML = '';\n",
              "        dataTable['output_type'] = 'display_data';\n",
              "        await google.colab.output.renderOutput(dataTable, element);\n",
              "        const docLink = document.createElement('div');\n",
              "        docLink.innerHTML = docLinkHtml;\n",
              "        element.appendChild(docLink);\n",
              "      }\n",
              "    </script>\n",
              "  </div>\n",
              "\n",
              "\n",
              "    </div>\n",
              "  </div>\n"
            ],
            "application/vnd.google.colaboratory.intrinsic+json": {
              "type": "dataframe",
              "summary": "{\n  \"name\": \"data\",\n  \"rows\": 1,\n  \"fields\": [\n    {\n      \"column\": \"Country Code\",\n      \"properties\": {\n        \"dtype\": \"string\",\n        \"num_unique_values\": 1,\n        \"samples\": [\n          \"ABW\"\n        ],\n        \"semantic_type\": \"\",\n        \"description\": \"\"\n      }\n    },\n    {\n      \"column\": \"Year\",\n      \"properties\": {\n        \"dtype\": \"number\",\n        \"std\": null,\n        \"min\": 1961,\n        \"max\": 1961,\n        \"num_unique_values\": 1,\n        \"samples\": [\n          1961\n        ],\n        \"semantic_type\": \"\",\n        \"description\": \"\"\n      }\n    },\n    {\n      \"column\": \"Value\",\n      \"properties\": {\n        \"dtype\": \"number\",\n        \"std\": null,\n        \"min\": 55811,\n        \"max\": 55811,\n        \"num_unique_values\": 1,\n        \"samples\": [\n          55811\n        ],\n        \"semantic_type\": \"\",\n        \"description\": \"\"\n      }\n    }\n  ]\n}"
            }
          },
          "metadata": {},
          "execution_count": 12
        }
      ]
    },
    {
      "cell_type": "markdown",
      "source": [
        "## Summary Functions and maps"
      ],
      "metadata": {
        "id": "dE1rabT3XCVG"
      }
    },
    {
      "cell_type": "markdown",
      "source": [
        "### Describe function\n",
        "* it gives a basic summary of a sellected column based on its attributes.\n",
        "* it is type-aware - meaning, its outputs changes based on the data type of the input."
      ],
      "metadata": {
        "id": "uoxXlzWVXZqT"
      }
    },
    {
      "cell_type": "code",
      "source": [
        "import pandas as pd\n",
        "url = \"https://raw.githubusercontent.com/datasets/population/main/data/population.csv\"\n",
        "data = pd.read_csv(url, index_col=0)\n",
        "print(data.Value.describe())"
      ],
      "metadata": {
        "colab": {
          "base_uri": "https://localhost:8080/"
        },
        "id": "anRwC008XWSt",
        "outputId": "960f34b9-a483-466f-bcf9-8e1d38ade016"
      },
      "execution_count": null,
      "outputs": [
        {
          "output_type": "stream",
          "name": "stdout",
          "text": [
            "count    1.640000e+04\n",
            "mean     2.140804e+08\n",
            "std      7.040554e+08\n",
            "min      2.646000e+03\n",
            "25%      9.863025e+05\n",
            "50%      6.731400e+06\n",
            "75%      4.602445e+07\n",
            "max      7.888409e+09\n",
            "Name: Value, dtype: float64\n"
          ]
        }
      ]
    },
    {
      "cell_type": "code",
      "source": [
        "# to find mean\n",
        "print(data.Value.mean())"
      ],
      "metadata": {
        "colab": {
          "base_uri": "https://localhost:8080/"
        },
        "id": "6GtXlUH5X7MS",
        "outputId": "8d8789aa-1155-43e9-9078-68fbadc6b6e0"
      },
      "execution_count": null,
      "outputs": [
        {
          "output_type": "stream",
          "name": "stdout",
          "text": [
            "214080370.13384145\n"
          ]
        }
      ]
    },
    {
      "cell_type": "code",
      "source": [
        "# to find the unique values and how many times do they reoccur\n",
        "print(data.Value.value_counts())"
      ],
      "metadata": {
        "colab": {
          "base_uri": "https://localhost:8080/"
        },
        "id": "bEpncu0CYPU0",
        "outputId": "66d12dee-84cd-4e97-85f0-91552d1d61aa"
      },
      "execution_count": null,
      "outputs": [
        {
          "output_type": "stream",
          "name": "stdout",
          "text": [
            "30816        2\n",
            "32500        2\n",
            "672488495    2\n",
            "657462990    2\n",
            "642724630    2\n",
            "            ..\n",
            "900088       1\n",
            "914122       1\n",
            "928408       1\n",
            "943080       1\n",
            "15993524     1\n",
            "Name: Value, Length: 16196, dtype: int64\n"
          ]
        }
      ]
    },
    {
      "cell_type": "markdown",
      "source": [
        "## Maps\n",
        "this term is taken form Mathematics, and with this we take one value and match it with another set of values\n",
        "\n",
        "the two mapping methods are:\n",
        "1. map()\n",
        "2. applymap()"
      ],
      "metadata": {
        "id": "KJJm_YFuYsyT"
      }
    },
    {
      "cell_type": "code",
      "source": [
        "import pandas as pd\n",
        "url = \"https://raw.githubusercontent.com/datasets/population/main/data/population.csv\"\n",
        "data = pd.read_csv(url, index_col=0)\n",
        "meanValues= data.Value.mean()\n",
        "print(data.Value.map(lambda p: p-meanValues)) #uisng map function we subtracted the mean with all the values in Value"
      ],
      "metadata": {
        "id": "TrgoQVWbY8_i",
        "colab": {
          "base_uri": "https://localhost:8080/"
        },
        "outputId": "f3826263-e939-46e8-e177-06c0fe5be252"
      },
      "execution_count": null,
      "outputs": [
        {
          "output_type": "stream",
          "name": "stdout",
          "text": [
            "Country Name\n",
            "Aruba      -2.140258e+08\n",
            "Aruba      -2.140246e+08\n",
            "Aruba      -2.140237e+08\n",
            "Aruba      -2.140229e+08\n",
            "Aruba      -2.140222e+08\n",
            "                ...     \n",
            "Zimbabwe   -1.993293e+08\n",
            "Zimbabwe   -1.990282e+08\n",
            "Zimbabwe   -1.987258e+08\n",
            "Zimbabwe   -1.984107e+08\n",
            "Zimbabwe   -1.980868e+08\n",
            "Name: Value, Length: 16400, dtype: float64\n"
          ]
        }
      ]
    },
    {
      "cell_type": "code",
      "source": [
        "def remean_points(data):\n",
        "  data.Value=data.Value-meanValues\n",
        "  return data\n",
        "\n",
        "data.apply(remean_points, axis='columns')"
      ],
      "metadata": {
        "colab": {
          "base_uri": "https://localhost:8080/",
          "height": 455
        },
        "id": "4wLzf7O7EE1R",
        "outputId": "d6188830-9302-4a0f-ce00-fa18f6199545"
      },
      "execution_count": null,
      "outputs": [
        {
          "output_type": "execute_result",
          "data": {
            "text/plain": [
              "             Country Code  Year         Value\n",
              "Country Name                                 \n",
              "Aruba                 ABW  1960 -2.140258e+08\n",
              "Aruba                 ABW  1961 -2.140246e+08\n",
              "Aruba                 ABW  1962 -2.140237e+08\n",
              "Aruba                 ABW  1963 -2.140229e+08\n",
              "Aruba                 ABW  1964 -2.140222e+08\n",
              "...                   ...   ...           ...\n",
              "Zimbabwe              ZWE  2017 -1.993293e+08\n",
              "Zimbabwe              ZWE  2018 -1.990282e+08\n",
              "Zimbabwe              ZWE  2019 -1.987258e+08\n",
              "Zimbabwe              ZWE  2020 -1.984107e+08\n",
              "Zimbabwe              ZWE  2021 -1.980868e+08\n",
              "\n",
              "[16400 rows x 3 columns]"
            ],
            "text/html": [
              "\n",
              "  <div id=\"df-43beb2ed-66f7-4b50-9c03-3eec991d581d\" class=\"colab-df-container\">\n",
              "    <div>\n",
              "<style scoped>\n",
              "    .dataframe tbody tr th:only-of-type {\n",
              "        vertical-align: middle;\n",
              "    }\n",
              "\n",
              "    .dataframe tbody tr th {\n",
              "        vertical-align: top;\n",
              "    }\n",
              "\n",
              "    .dataframe thead th {\n",
              "        text-align: right;\n",
              "    }\n",
              "</style>\n",
              "<table border=\"1\" class=\"dataframe\">\n",
              "  <thead>\n",
              "    <tr style=\"text-align: right;\">\n",
              "      <th></th>\n",
              "      <th>Country Code</th>\n",
              "      <th>Year</th>\n",
              "      <th>Value</th>\n",
              "    </tr>\n",
              "    <tr>\n",
              "      <th>Country Name</th>\n",
              "      <th></th>\n",
              "      <th></th>\n",
              "      <th></th>\n",
              "    </tr>\n",
              "  </thead>\n",
              "  <tbody>\n",
              "    <tr>\n",
              "      <th>Aruba</th>\n",
              "      <td>ABW</td>\n",
              "      <td>1960</td>\n",
              "      <td>-2.140258e+08</td>\n",
              "    </tr>\n",
              "    <tr>\n",
              "      <th>Aruba</th>\n",
              "      <td>ABW</td>\n",
              "      <td>1961</td>\n",
              "      <td>-2.140246e+08</td>\n",
              "    </tr>\n",
              "    <tr>\n",
              "      <th>Aruba</th>\n",
              "      <td>ABW</td>\n",
              "      <td>1962</td>\n",
              "      <td>-2.140237e+08</td>\n",
              "    </tr>\n",
              "    <tr>\n",
              "      <th>Aruba</th>\n",
              "      <td>ABW</td>\n",
              "      <td>1963</td>\n",
              "      <td>-2.140229e+08</td>\n",
              "    </tr>\n",
              "    <tr>\n",
              "      <th>Aruba</th>\n",
              "      <td>ABW</td>\n",
              "      <td>1964</td>\n",
              "      <td>-2.140222e+08</td>\n",
              "    </tr>\n",
              "    <tr>\n",
              "      <th>...</th>\n",
              "      <td>...</td>\n",
              "      <td>...</td>\n",
              "      <td>...</td>\n",
              "    </tr>\n",
              "    <tr>\n",
              "      <th>Zimbabwe</th>\n",
              "      <td>ZWE</td>\n",
              "      <td>2017</td>\n",
              "      <td>-1.993293e+08</td>\n",
              "    </tr>\n",
              "    <tr>\n",
              "      <th>Zimbabwe</th>\n",
              "      <td>ZWE</td>\n",
              "      <td>2018</td>\n",
              "      <td>-1.990282e+08</td>\n",
              "    </tr>\n",
              "    <tr>\n",
              "      <th>Zimbabwe</th>\n",
              "      <td>ZWE</td>\n",
              "      <td>2019</td>\n",
              "      <td>-1.987258e+08</td>\n",
              "    </tr>\n",
              "    <tr>\n",
              "      <th>Zimbabwe</th>\n",
              "      <td>ZWE</td>\n",
              "      <td>2020</td>\n",
              "      <td>-1.984107e+08</td>\n",
              "    </tr>\n",
              "    <tr>\n",
              "      <th>Zimbabwe</th>\n",
              "      <td>ZWE</td>\n",
              "      <td>2021</td>\n",
              "      <td>-1.980868e+08</td>\n",
              "    </tr>\n",
              "  </tbody>\n",
              "</table>\n",
              "<p>16400 rows × 3 columns</p>\n",
              "</div>\n",
              "    <div class=\"colab-df-buttons\">\n",
              "\n",
              "  <div class=\"colab-df-container\">\n",
              "    <button class=\"colab-df-convert\" onclick=\"convertToInteractive('df-43beb2ed-66f7-4b50-9c03-3eec991d581d')\"\n",
              "            title=\"Convert this dataframe to an interactive table.\"\n",
              "            style=\"display:none;\">\n",
              "\n",
              "  <svg xmlns=\"http://www.w3.org/2000/svg\" height=\"24px\" viewBox=\"0 -960 960 960\">\n",
              "    <path d=\"M120-120v-720h720v720H120Zm60-500h600v-160H180v160Zm220 220h160v-160H400v160Zm0 220h160v-160H400v160ZM180-400h160v-160H180v160Zm440 0h160v-160H620v160ZM180-180h160v-160H180v160Zm440 0h160v-160H620v160Z\"/>\n",
              "  </svg>\n",
              "    </button>\n",
              "\n",
              "  <style>\n",
              "    .colab-df-container {\n",
              "      display:flex;\n",
              "      gap: 12px;\n",
              "    }\n",
              "\n",
              "    .colab-df-convert {\n",
              "      background-color: #E8F0FE;\n",
              "      border: none;\n",
              "      border-radius: 50%;\n",
              "      cursor: pointer;\n",
              "      display: none;\n",
              "      fill: #1967D2;\n",
              "      height: 32px;\n",
              "      padding: 0 0 0 0;\n",
              "      width: 32px;\n",
              "    }\n",
              "\n",
              "    .colab-df-convert:hover {\n",
              "      background-color: #E2EBFA;\n",
              "      box-shadow: 0px 1px 2px rgba(60, 64, 67, 0.3), 0px 1px 3px 1px rgba(60, 64, 67, 0.15);\n",
              "      fill: #174EA6;\n",
              "    }\n",
              "\n",
              "    .colab-df-buttons div {\n",
              "      margin-bottom: 4px;\n",
              "    }\n",
              "\n",
              "    [theme=dark] .colab-df-convert {\n",
              "      background-color: #3B4455;\n",
              "      fill: #D2E3FC;\n",
              "    }\n",
              "\n",
              "    [theme=dark] .colab-df-convert:hover {\n",
              "      background-color: #434B5C;\n",
              "      box-shadow: 0px 1px 3px 1px rgba(0, 0, 0, 0.15);\n",
              "      filter: drop-shadow(0px 1px 2px rgba(0, 0, 0, 0.3));\n",
              "      fill: #FFFFFF;\n",
              "    }\n",
              "  </style>\n",
              "\n",
              "    <script>\n",
              "      const buttonEl =\n",
              "        document.querySelector('#df-43beb2ed-66f7-4b50-9c03-3eec991d581d button.colab-df-convert');\n",
              "      buttonEl.style.display =\n",
              "        google.colab.kernel.accessAllowed ? 'block' : 'none';\n",
              "\n",
              "      async function convertToInteractive(key) {\n",
              "        const element = document.querySelector('#df-43beb2ed-66f7-4b50-9c03-3eec991d581d');\n",
              "        const dataTable =\n",
              "          await google.colab.kernel.invokeFunction('convertToInteractive',\n",
              "                                                    [key], {});\n",
              "        if (!dataTable) return;\n",
              "\n",
              "        const docLinkHtml = 'Like what you see? Visit the ' +\n",
              "          '<a target=\"_blank\" href=https://colab.research.google.com/notebooks/data_table.ipynb>data table notebook</a>'\n",
              "          + ' to learn more about interactive tables.';\n",
              "        element.innerHTML = '';\n",
              "        dataTable['output_type'] = 'display_data';\n",
              "        await google.colab.output.renderOutput(dataTable, element);\n",
              "        const docLink = document.createElement('div');\n",
              "        docLink.innerHTML = docLinkHtml;\n",
              "        element.appendChild(docLink);\n",
              "      }\n",
              "    </script>\n",
              "  </div>\n",
              "\n",
              "\n",
              "<div id=\"df-67c8cb3e-b60f-4b45-9d9f-293f63f531d5\">\n",
              "  <button class=\"colab-df-quickchart\" onclick=\"quickchart('df-67c8cb3e-b60f-4b45-9d9f-293f63f531d5')\"\n",
              "            title=\"Suggest charts\"\n",
              "            style=\"display:none;\">\n",
              "\n",
              "<svg xmlns=\"http://www.w3.org/2000/svg\" height=\"24px\"viewBox=\"0 0 24 24\"\n",
              "     width=\"24px\">\n",
              "    <g>\n",
              "        <path d=\"M19 3H5c-1.1 0-2 .9-2 2v14c0 1.1.9 2 2 2h14c1.1 0 2-.9 2-2V5c0-1.1-.9-2-2-2zM9 17H7v-7h2v7zm4 0h-2V7h2v10zm4 0h-2v-4h2v4z\"/>\n",
              "    </g>\n",
              "</svg>\n",
              "  </button>\n",
              "\n",
              "<style>\n",
              "  .colab-df-quickchart {\n",
              "      --bg-color: #E8F0FE;\n",
              "      --fill-color: #1967D2;\n",
              "      --hover-bg-color: #E2EBFA;\n",
              "      --hover-fill-color: #174EA6;\n",
              "      --disabled-fill-color: #AAA;\n",
              "      --disabled-bg-color: #DDD;\n",
              "  }\n",
              "\n",
              "  [theme=dark] .colab-df-quickchart {\n",
              "      --bg-color: #3B4455;\n",
              "      --fill-color: #D2E3FC;\n",
              "      --hover-bg-color: #434B5C;\n",
              "      --hover-fill-color: #FFFFFF;\n",
              "      --disabled-bg-color: #3B4455;\n",
              "      --disabled-fill-color: #666;\n",
              "  }\n",
              "\n",
              "  .colab-df-quickchart {\n",
              "    background-color: var(--bg-color);\n",
              "    border: none;\n",
              "    border-radius: 50%;\n",
              "    cursor: pointer;\n",
              "    display: none;\n",
              "    fill: var(--fill-color);\n",
              "    height: 32px;\n",
              "    padding: 0;\n",
              "    width: 32px;\n",
              "  }\n",
              "\n",
              "  .colab-df-quickchart:hover {\n",
              "    background-color: var(--hover-bg-color);\n",
              "    box-shadow: 0 1px 2px rgba(60, 64, 67, 0.3), 0 1px 3px 1px rgba(60, 64, 67, 0.15);\n",
              "    fill: var(--button-hover-fill-color);\n",
              "  }\n",
              "\n",
              "  .colab-df-quickchart-complete:disabled,\n",
              "  .colab-df-quickchart-complete:disabled:hover {\n",
              "    background-color: var(--disabled-bg-color);\n",
              "    fill: var(--disabled-fill-color);\n",
              "    box-shadow: none;\n",
              "  }\n",
              "\n",
              "  .colab-df-spinner {\n",
              "    border: 2px solid var(--fill-color);\n",
              "    border-color: transparent;\n",
              "    border-bottom-color: var(--fill-color);\n",
              "    animation:\n",
              "      spin 1s steps(1) infinite;\n",
              "  }\n",
              "\n",
              "  @keyframes spin {\n",
              "    0% {\n",
              "      border-color: transparent;\n",
              "      border-bottom-color: var(--fill-color);\n",
              "      border-left-color: var(--fill-color);\n",
              "    }\n",
              "    20% {\n",
              "      border-color: transparent;\n",
              "      border-left-color: var(--fill-color);\n",
              "      border-top-color: var(--fill-color);\n",
              "    }\n",
              "    30% {\n",
              "      border-color: transparent;\n",
              "      border-left-color: var(--fill-color);\n",
              "      border-top-color: var(--fill-color);\n",
              "      border-right-color: var(--fill-color);\n",
              "    }\n",
              "    40% {\n",
              "      border-color: transparent;\n",
              "      border-right-color: var(--fill-color);\n",
              "      border-top-color: var(--fill-color);\n",
              "    }\n",
              "    60% {\n",
              "      border-color: transparent;\n",
              "      border-right-color: var(--fill-color);\n",
              "    }\n",
              "    80% {\n",
              "      border-color: transparent;\n",
              "      border-right-color: var(--fill-color);\n",
              "      border-bottom-color: var(--fill-color);\n",
              "    }\n",
              "    90% {\n",
              "      border-color: transparent;\n",
              "      border-bottom-color: var(--fill-color);\n",
              "    }\n",
              "  }\n",
              "</style>\n",
              "\n",
              "  <script>\n",
              "    async function quickchart(key) {\n",
              "      const quickchartButtonEl =\n",
              "        document.querySelector('#' + key + ' button');\n",
              "      quickchartButtonEl.disabled = true;  // To prevent multiple clicks.\n",
              "      quickchartButtonEl.classList.add('colab-df-spinner');\n",
              "      try {\n",
              "        const charts = await google.colab.kernel.invokeFunction(\n",
              "            'suggestCharts', [key], {});\n",
              "      } catch (error) {\n",
              "        console.error('Error during call to suggestCharts:', error);\n",
              "      }\n",
              "      quickchartButtonEl.classList.remove('colab-df-spinner');\n",
              "      quickchartButtonEl.classList.add('colab-df-quickchart-complete');\n",
              "    }\n",
              "    (() => {\n",
              "      let quickchartButtonEl =\n",
              "        document.querySelector('#df-67c8cb3e-b60f-4b45-9d9f-293f63f531d5 button');\n",
              "      quickchartButtonEl.style.display =\n",
              "        google.colab.kernel.accessAllowed ? 'block' : 'none';\n",
              "    })();\n",
              "  </script>\n",
              "</div>\n",
              "\n",
              "    </div>\n",
              "  </div>\n"
            ],
            "application/vnd.google.colaboratory.intrinsic+json": {
              "type": "dataframe",
              "summary": "{\n  \"name\": \"data\",\n  \"rows\": 16400,\n  \"fields\": [\n    {\n      \"column\": \"Country Code\",\n      \"properties\": {\n        \"dtype\": \"category\",\n        \"num_unique_values\": 265,\n        \"samples\": [\n          \"NZL\",\n          \"ITA\",\n          \"HKG\"\n        ],\n        \"semantic_type\": \"\",\n        \"description\": \"\"\n      }\n    },\n    {\n      \"column\": \"Year\",\n      \"properties\": {\n        \"dtype\": \"number\",\n        \"std\": 17,\n        \"min\": 1960,\n        \"max\": 2021,\n        \"num_unique_values\": 62,\n        \"samples\": [\n          2010,\n          2016,\n          1960\n        ],\n        \"semantic_type\": \"\",\n        \"description\": \"\"\n      }\n    },\n    {\n      \"column\": \"Value\",\n      \"properties\": {\n        \"dtype\": \"number\",\n        \"std\": 704055432.3845558,\n        \"min\": -214077724.13384145,\n        \"max\": 7674328315.8661585,\n        \"num_unique_values\": 16196,\n        \"samples\": [\n          28208629.866158545,\n          -204035212.13384145,\n          -208991951.13384145\n        ],\n        \"semantic_type\": \"\",\n        \"description\": \"\"\n      }\n    }\n  ]\n}"
            }
          },
          "metadata": {},
          "execution_count": 5
        }
      ]
    },
    {
      "cell_type": "markdown",
      "source": [
        "## Groupwise analysis\n"
      ],
      "metadata": {
        "id": "WTAXFJyJEtib"
      }
    }
  ]
}