{
  "nbformat": 4,
  "nbformat_minor": 0,
  "metadata": {
    "colab": {
      "provenance": [],
      "authorship_tag": "ABX9TyNvwvPhfNXLw6TMXWbTm/pg",
      "include_colab_link": true
    },
    "kernelspec": {
      "name": "python3",
      "display_name": "Python 3"
    },
    "language_info": {
      "name": "python"
    }
  },
  "cells": [
    {
      "cell_type": "markdown",
      "metadata": {
        "id": "view-in-github",
        "colab_type": "text"
      },
      "source": [
        "<a href=\"https://colab.research.google.com/github/ameer-salam/Notes/blob/main/Pandas.ipynb\" target=\"_parent\"><img src=\"https://colab.research.google.com/assets/colab-badge.svg\" alt=\"Open In Colab\"/></a>"
      ]
    },
    {
      "cell_type": "markdown",
      "source": [
        "# Pandas\n",
        "* Pandas library is build upon the NumPy library\n",
        "* Pandas is used for data manipulation and analysis\n",
        "* makes working on structured or tabular data easy and intuitive.\n"
      ],
      "metadata": {
        "id": "t45BVRsRyWvQ"
      }
    },
    {
      "cell_type": "markdown",
      "source": [
        "## DataFrames\n",
        "* it is a two dimensional labelled datastructure which resemblesa spreadsheet or SQL table.\n",
        "* it consists of Rows and Columns, where each column contain a data of different data types.\n",
        "* here we can have names to both rows and columns and have index names(index lables)\n",
        "* Nan - unavailable data"
      ],
      "metadata": {
        "id": "e-TD1QV3zF5h"
      }
    }
  ]
}