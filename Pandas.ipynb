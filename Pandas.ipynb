{
  "nbformat": 4,
  "nbformat_minor": 0,
  "metadata": {
    "colab": {
      "provenance": [],
      "authorship_tag": "ABX9TyOGn5FexTJw21fXs028Tq+e",
      "include_colab_link": true
    },
    "kernelspec": {
      "name": "python3",
      "display_name": "Python 3"
    },
    "language_info": {
      "name": "python"
    }
  },
  "cells": [
    {
      "cell_type": "markdown",
      "metadata": {
        "id": "view-in-github",
        "colab_type": "text"
      },
      "source": [
        "<a href=\"https://colab.research.google.com/github/ameer-salam/Notes/blob/main/Pandas.ipynb\" target=\"_parent\"><img src=\"https://colab.research.google.com/assets/colab-badge.svg\" alt=\"Open In Colab\"/></a>"
      ]
    },
    {
      "cell_type": "markdown",
      "source": [
        "# Pandas\n",
        "* Pandas library is build upon the NumPy library\n",
        "* Pandas is used for data manipulation and analysis\n",
        "* makes working on structured or tabular data easy and intuitive.\n"
      ],
      "metadata": {
        "id": "t45BVRsRyWvQ"
      }
    },
    {
      "cell_type": "markdown",
      "source": [
        "## DataFrames\n",
        "* in simple words DataFrame is a Table, it contains an array of individual entries each with certain value.\n",
        "* it is a two dimensional labelled datastructure which resemblesa spreadsheet or SQL table.\n",
        "* it consists of Rows and Columns, where each column contain a data of different data types.\n",
        "* here we can have names to both rows and columns and have index names(index lables)\n",
        "* Nan - unavailable data\n",
        "\n",
        "| Categorical variables | Numerical Variables |\n",
        "|-|-|\n",
        "| Represents qualitative or nominal data which falls into discrete category or groups | Represents numerical data or quantitative data |\n",
        "|example - Gender, Maritial status, Product categories|number of products, no.. of Cars|\n",
        "|have limited number of distince values|can takeup wide range of values|\n"
      ],
      "metadata": {
        "id": "e-TD1QV3zF5h"
      }
    },
    {
      "cell_type": "markdown",
      "source": [
        "## DataFrames in Pandas\n",
        "* it is a single dimensional labeled array-like datastructure"
      ],
      "metadata": {
        "id": "C7lyYwgT5GuA"
      }
    },
    {
      "cell_type": "code",
      "source": [
        "#creating DataFrame\n",
        "import pandas as pd\n",
        "import numpy as np\n",
        "\n",
        "df=pd.DataFrame({'Yes':[30, 40], 'No':[45, 76]})\n",
        "print(df)\n",
        "\n",
        "#Data Frames elemments are not just limited to one datatype\n",
        "print(\"\\n\")\n",
        "df=pd.DataFrame({\"Ameer\":['Code', 'Robots', 'God'], 'Salam':['Cars', 'Games', 'Work']})\n",
        "print(df)"
      ],
      "metadata": {
        "colab": {
          "base_uri": "https://localhost:8080/"
        },
        "id": "9KVxdvU85igX",
        "outputId": "5e532b8c-02a9-4cbd-9763-07b9ccf4dad2"
      },
      "execution_count": 28,
      "outputs": [
        {
          "output_type": "stream",
          "name": "stdout",
          "text": [
            "   Yes  No\n",
            "0   30  45\n",
            "1   40  76\n",
            "\n",
            "\n",
            "    Ameer  Salam\n",
            "0    Code   Cars\n",
            "1  Robots  Games\n",
            "2     God   Work\n"
          ]
        }
      ]
    },
    {
      "cell_type": "code",
      "source": [
        "#indexing in Pandas\n",
        "df=pd.DataFrame({\"Car Company\":['Hundai', 'Volvo'],'Car Models':['Eon', 'S90']}, index=['Compact', 'Sedan'])\n",
        "print(df)"
      ],
      "metadata": {
        "colab": {
          "base_uri": "https://localhost:8080/"
        },
        "id": "egohKhFw7dGe",
        "outputId": "34bce759-e62a-4709-afd7-15306d9f8461"
      },
      "execution_count": 29,
      "outputs": [
        {
          "output_type": "stream",
          "name": "stdout",
          "text": [
            "        Car Company Car Models\n",
            "Compact      Hundai        Eon\n",
            "Sedan         Volvo        S90\n"
          ]
        }
      ]
    },
    {
      "cell_type": "markdown",
      "source": [
        "## Series in Pandas\n",
        "\n",
        "* Series is a sequence of Data values,\n",
        "* if DataFrame is Table, then Series is a list\n",
        "* just like Pandas, Series can also have indexing, but since it only has one column, we can only give it one `name`\n",
        "* **We can also take DataFrames as a collection of Series which are glues together**\n"
      ],
      "metadata": {
        "id": "Dji0tNsQ7-Ia"
      }
    },
    {
      "cell_type": "code",
      "source": [
        "s=pd.Series([1,2,3,4,np.nan, 6,7])\n",
        "print(s)"
      ],
      "metadata": {
        "colab": {
          "base_uri": "https://localhost:8080/"
        },
        "id": "J6jNoc_Y9ShA",
        "outputId": "1d4dbd03-e33d-450d-e91c-c551745952b5"
      },
      "execution_count": 30,
      "outputs": [
        {
          "output_type": "stream",
          "name": "stdout",
          "text": [
            "0    1.0\n",
            "1    2.0\n",
            "2    3.0\n",
            "3    4.0\n",
            "4    NaN\n",
            "5    6.0\n",
            "6    7.0\n",
            "dtype: float64\n"
          ]
        }
      ]
    },
    {
      "cell_type": "code",
      "source": [
        "s=pd.Series([1,2,3,4,np.nan, 6,7], index=['2018 Sales', '2019 Sales', '2020 Sales', '2021 Sales', '2022 Sales', '2023 Sales', '2024 Sales'], name='Sales')\n",
        "print(s)"
      ],
      "metadata": {
        "colab": {
          "base_uri": "https://localhost:8080/"
        },
        "id": "YFzH_aZT95hP",
        "outputId": "b461fbc0-4295-4dea-8a77-d37c31640569"
      },
      "execution_count": 31,
      "outputs": [
        {
          "output_type": "stream",
          "name": "stdout",
          "text": [
            "2018 Sales    1.0\n",
            "2019 Sales    2.0\n",
            "2020 Sales    3.0\n",
            "2021 Sales    4.0\n",
            "2022 Sales    NaN\n",
            "2023 Sales    6.0\n",
            "2024 Sales    7.0\n",
            "Name: Sales, dtype: float64\n"
          ]
        }
      ]
    },
    {
      "cell_type": "markdown",
      "source": [
        "## Reading Data Files\n",
        "\n",
        "* the most common format of storing data in datasheets is the `csv` file (Comma-Separated Values)\n",
        "\n",
        "to read a csv file we use - pd.read_csv()"
      ],
      "metadata": {
        "id": "8snA69uM-gtC"
      }
    },
    {
      "cell_type": "code",
      "source": [
        "import requests\n",
        "\n",
        "url=\"https://gist.githubusercontent.com/netj/8836201/raw/6f9306ad21398ea43cba4f7d537619d0e07d5ae3/iris.csv\"\n",
        "\n",
        "file=pd.read_csv(url)\n",
        "print(file.head()) #head prints the first five rows"
      ],
      "metadata": {
        "colab": {
          "base_uri": "https://localhost:8080/"
        },
        "id": "qWCNum_x_s9z",
        "outputId": "99469e3f-fb3c-4286-813a-23919009ec92"
      },
      "execution_count": 32,
      "outputs": [
        {
          "output_type": "stream",
          "name": "stdout",
          "text": [
            "   sepal.length  sepal.width  petal.length  petal.width variety\n",
            "0           5.1          3.5           1.4          0.2  Setosa\n",
            "1           4.9          3.0           1.4          0.2  Setosa\n",
            "2           4.7          3.2           1.3          0.2  Setosa\n",
            "3           4.6          3.1           1.5          0.2  Setosa\n",
            "4           5.0          3.6           1.4          0.2  Setosa\n"
          ]
        }
      ]
    },
    {
      "cell_type": "code",
      "source": [
        "#We can use the Shape function to know the shape of the file\n",
        "print(file.shape)\n",
        "\n",
        "#this shows (n,m) the data is of n records (Rows) split accorss m-columns"
      ],
      "metadata": {
        "colab": {
          "base_uri": "https://localhost:8080/"
        },
        "id": "i7gIa4ED_9Uc",
        "outputId": "8502ea98-ca0c-41bd-bef3-46459a0eafe3"
      },
      "execution_count": 33,
      "outputs": [
        {
          "output_type": "stream",
          "name": "stdout",
          "text": [
            "(150, 5)\n"
          ]
        }
      ]
    },
    {
      "cell_type": "code",
      "source": [
        "import pandas as pd\n",
        "import numpy as np\n",
        "\n",
        "url=\"https://gist.githubusercontent.com/netj/8836201/raw/6f9306ad21398ea43cba4f7d537619d0e07d5ae3/iris.csv\"\n",
        "\n",
        "\n",
        "#to make the pandas use the column of the datasheet as index we can use the function ined_col\n",
        "file=pd.read_csv(url, index_col=0)\n",
        "print(file.head())"
      ],
      "metadata": {
        "id": "U4HQTjL-AkSC",
        "colab": {
          "base_uri": "https://localhost:8080/"
        },
        "outputId": "6307d70a-179e-4499-e726-621e6470d0ef"
      },
      "execution_count": 34,
      "outputs": [
        {
          "output_type": "stream",
          "name": "stdout",
          "text": [
            "              sepal.width  petal.length  petal.width variety\n",
            "sepal.length                                                \n",
            "5.1                   3.5           1.4          0.2  Setosa\n",
            "4.9                   3.0           1.4          0.2  Setosa\n",
            "4.7                   3.2           1.3          0.2  Setosa\n",
            "4.6                   3.1           1.5          0.2  Setosa\n",
            "5.0                   3.6           1.4          0.2  Setosa\n"
          ]
        }
      ]
    },
    {
      "cell_type": "code",
      "source": [],
      "metadata": {
        "id": "IyKfAhJvbTjw"
      },
      "execution_count": 34,
      "outputs": []
    },
    {
      "cell_type": "markdown",
      "source": [
        "## Indexing\n",
        "With indexing we can select a specific data expelicitly to work on"
      ],
      "metadata": {
        "id": "-Ffu0ktfbaGe"
      }
    },
    {
      "cell_type": "code",
      "source": [
        "#selectin only the variety column\n",
        "print(\"The indexing : \\n\", file.variety.head())\n",
        "print(\"\\n\",file['petal.length'].head())"
      ],
      "metadata": {
        "colab": {
          "base_uri": "https://localhost:8080/"
        },
        "id": "QoHgYo9ubgaR",
        "outputId": "98f8b9c2-7531-40f4-ee38-9c233c9a9e92"
      },
      "execution_count": 35,
      "outputs": [
        {
          "output_type": "stream",
          "name": "stdout",
          "text": [
            "The indexing : \n",
            " sepal.length\n",
            "5.1    Setosa\n",
            "4.9    Setosa\n",
            "4.7    Setosa\n",
            "4.6    Setosa\n",
            "5.0    Setosa\n",
            "Name: variety, dtype: object\n",
            "\n",
            " sepal.length\n",
            "5.1    1.4\n",
            "4.9    1.4\n",
            "4.7    1.3\n",
            "4.6    1.5\n",
            "5.0    1.4\n",
            "Name: petal.length, dtype: float64\n"
          ]
        }
      ]
    },
    {
      "cell_type": "markdown",
      "source": [
        "index based selection\n",
        "* loc()\n",
        "* iloc()\n",
        "\n",
        "they are both row first and column second functions"
      ],
      "metadata": {
        "id": "VcBvq41Ic2yS"
      }
    },
    {
      "cell_type": "code",
      "source": [
        "print(file.iloc[10:21,2:3]) #wor range and column range(row start : row end+1, column start : column end+1)"
      ],
      "metadata": {
        "colab": {
          "base_uri": "https://localhost:8080/"
        },
        "id": "FHibKHiudNgC",
        "outputId": "499498e4-312f-45fe-ff33-f3a437071e1e"
      },
      "execution_count": 36,
      "outputs": [
        {
          "output_type": "stream",
          "name": "stdout",
          "text": [
            "              petal.width\n",
            "sepal.length             \n",
            "5.4                   0.2\n",
            "4.8                   0.2\n",
            "4.8                   0.1\n",
            "4.3                   0.1\n",
            "5.8                   0.2\n",
            "5.7                   0.4\n",
            "5.4                   0.4\n",
            "5.1                   0.3\n",
            "5.7                   0.3\n",
            "5.1                   0.3\n",
            "5.4                   0.2\n"
          ]
        }
      ]
    },
    {
      "cell_type": "code",
      "source": [
        "#country population data\n",
        "url = \"https://raw.githubusercontent.com/datasets/population/main/data/population.csv\"\n",
        "\n",
        "data=pd.read_csv(url, index_col=1)\n",
        "print(data.head(100))\n",
        "\n",
        "#indexing using list\n",
        "print(data.iloc[[1,100,300,400,500], 1:2])\n"
      ],
      "metadata": {
        "colab": {
          "base_uri": "https://localhost:8080/"
        },
        "id": "cbJznu1Ud0JR",
        "outputId": "028ec45e-f7c7-41e3-ad10-6bedaa0300d6"
      },
      "execution_count": 37,
      "outputs": [
        {
          "output_type": "stream",
          "name": "stdout",
          "text": [
            "                             Country Name  Year      Value\n",
            "Country Code                                              \n",
            "ABW                                 Aruba  1960      54608\n",
            "ABW                                 Aruba  1961      55811\n",
            "ABW                                 Aruba  1962      56682\n",
            "ABW                                 Aruba  1963      57475\n",
            "ABW                                 Aruba  1964      58178\n",
            "...                                   ...   ...        ...\n",
            "AFE           Africa Eastern and Southern  1993  335625136\n",
            "AFE           Africa Eastern and Southern  1994  344418362\n",
            "AFE           Africa Eastern and Southern  1995  353466601\n",
            "AFE           Africa Eastern and Southern  1996  362985802\n",
            "AFE           Africa Eastern and Southern  1997  372352230\n",
            "\n",
            "[100 rows x 3 columns]\n",
            "              Year\n",
            "Country Code      \n",
            "ABW           1961\n",
            "AFE           1998\n",
            "AGO           2012\n",
            "AND           1988\n",
            "ARE           1964\n"
          ]
        }
      ]
    },
    {
      "cell_type": "markdown",
      "source": [
        "Lable-based selection\n",
        "iloc(row, column)\n"
      ],
      "metadata": {
        "id": "YWZDANLbflXh"
      }
    },
    {
      "cell_type": "code",
      "source": [
        "import pandas as pd\n",
        "\n",
        "url = \"https://raw.githubusercontent.com/datasets/population/main/data/population.csv\"\n",
        "data = pd.read_csv(url, index_col=1)\n",
        "\n",
        "print(data.head(100))\n",
        "\n",
        "# Indexing using integer positions\n",
        "print(data.iloc[0, 2])\n"
      ],
      "metadata": {
        "colab": {
          "base_uri": "https://localhost:8080/"
        },
        "id": "OPZxhFLSgTKZ",
        "outputId": "8e6688e5-67b0-49b2-883b-4af163c88f79"
      },
      "execution_count": 38,
      "outputs": [
        {
          "output_type": "stream",
          "name": "stdout",
          "text": [
            "                             Country Name  Year      Value\n",
            "Country Code                                              \n",
            "ABW                                 Aruba  1960      54608\n",
            "ABW                                 Aruba  1961      55811\n",
            "ABW                                 Aruba  1962      56682\n",
            "ABW                                 Aruba  1963      57475\n",
            "ABW                                 Aruba  1964      58178\n",
            "...                                   ...   ...        ...\n",
            "AFE           Africa Eastern and Southern  1993  335625136\n",
            "AFE           Africa Eastern and Southern  1994  344418362\n",
            "AFE           Africa Eastern and Southern  1995  353466601\n",
            "AFE           Africa Eastern and Southern  1996  362985802\n",
            "AFE           Africa Eastern and Southern  1997  372352230\n",
            "\n",
            "[100 rows x 3 columns]\n",
            "54608\n"
          ]
        }
      ]
    },
    {
      "cell_type": "code",
      "source": [
        "!pip install pandas"
      ],
      "metadata": {
        "colab": {
          "base_uri": "https://localhost:8080/"
        },
        "id": "sHO9exlr0D9Q",
        "outputId": "bccefabf-16eb-4b7e-8094-a1a660516260"
      },
      "execution_count": null,
      "outputs": [
        {
          "output_type": "stream",
          "name": "stdout",
          "text": [
            "Requirement already satisfied: pandas in /usr/local/lib/python3.10/dist-packages (1.5.3)\n",
            "Requirement already satisfied: python-dateutil>=2.8.1 in /usr/local/lib/python3.10/dist-packages (from pandas) (2.8.2)\n",
            "Requirement already satisfied: pytz>=2020.1 in /usr/local/lib/python3.10/dist-packages (from pandas) (2023.4)\n",
            "Requirement already satisfied: numpy>=1.21.0 in /usr/local/lib/python3.10/dist-packages (from pandas) (1.25.2)\n",
            "Requirement already satisfied: six>=1.5 in /usr/local/lib/python3.10/dist-packages (from python-dateutil>=2.8.1->pandas) (1.16.0)\n"
          ]
        }
      ]
    },
    {
      "cell_type": "code",
      "source": [
        "# Manipulating index\n",
        "import pandas as pd\n",
        "\n",
        "url = \"https://raw.githubusercontent.com/datasets/population/main/data/population.csv\"\n",
        "data = pd.read_csv(url, index_col=0)\n",
        "\n",
        "data = data.set_index(\"Index values\")\n",
        "print(data)"
      ],
      "metadata": {
        "id": "eEgoUsf-zcJg"
      },
      "execution_count": null,
      "outputs": []
    },
    {
      "cell_type": "markdown",
      "source": [
        "## Conditional Selection\n",
        "\n",
        "* so far we have been indexing using structural properties of DataFrame.\n",
        "* with conditional indexing we can select the wanted data"
      ],
      "metadata": {
        "id": "2s-DoMTt0bJ_"
      }
    }
  ]
}