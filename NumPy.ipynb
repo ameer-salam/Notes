{
  "nbformat": 4,
  "nbformat_minor": 0,
  "metadata": {
    "colab": {
      "provenance": [],
      "authorship_tag": "ABX9TyN85y6xGDmaEeqkJxym8yqM",
      "include_colab_link": true
    },
    "kernelspec": {
      "name": "python3",
      "display_name": "Python 3"
    },
    "language_info": {
      "name": "python"
    }
  },
  "cells": [
    {
      "cell_type": "markdown",
      "metadata": {
        "id": "view-in-github",
        "colab_type": "text"
      },
      "source": [
        "<a href=\"https://colab.research.google.com/github/ameer-salam/Notes/blob/main/NumPy.ipynb\" target=\"_parent\"><img src=\"https://colab.research.google.com/assets/colab-badge.svg\" alt=\"Open In Colab\"/></a>"
      ]
    },
    {
      "cell_type": "markdown",
      "source": [
        "# NumPy\n",
        "Stands for Numerical Python which is a core library for numeric and scientific calculation\n",
        "* it containt multidimensional array aobjects and collection of routines(Functions) for processing those arrays\n"
      ],
      "metadata": {
        "id": "JmE2PKnGEvOR"
      }
    },
    {
      "cell_type": "markdown",
      "source": [
        "## Creating arrays\n"
      ],
      "metadata": {
        "id": "DKXcxmXAFad1"
      }
    },
    {
      "cell_type": "code",
      "source": [
        "import numpy as np\n",
        "import  random\n",
        "\n",
        "a=np.array([1,2,3,4,5,6], dtype=int)\n",
        "print(\"Single dimensional array : \", a)"
      ],
      "metadata": {
        "colab": {
          "base_uri": "https://localhost:8080/"
        },
        "id": "g04R5N09Fd9m",
        "outputId": "dae4742a-d655-4563-f6e9-857f4bcfd6a6"
      },
      "execution_count": 40,
      "outputs": [
        {
          "output_type": "stream",
          "name": "stdout",
          "text": [
            "Single dimensional array :  [1 2 3 4 5 6]\n"
          ]
        }
      ]
    },
    {
      "cell_type": "code",
      "source": [
        "#creating multi-dim array with lists\n",
        "m=np.array([[1,2,3,4,5,6], [7,8,9,10,11,12]], dtype=int)\n",
        "print(\"Multi dimensional array : \", m)"
      ],
      "metadata": {
        "colab": {
          "base_uri": "https://localhost:8080/"
        },
        "id": "7cmcECAqKCxM",
        "outputId": "87fe4d48-b4ae-43a1-edd7-7e34dd5e6e50"
      },
      "execution_count": 39,
      "outputs": [
        {
          "output_type": "stream",
          "name": "stdout",
          "text": [
            "Multi dimensional array :  [[ 1  2  3  4  5  6]\n",
            " [ 7  8  9 10 11 12]]\n"
          ]
        }
      ]
    },
    {
      "cell_type": "markdown",
      "source": [
        "### Creatin matrix with ones and Zeros\n"
      ],
      "metadata": {
        "id": "OcSDYpSiKgxc"
      }
    },
    {
      "cell_type": "code",
      "source": [
        "#creating a 2x2 array with all elements as 1\n",
        "o=np.ones((2,2))\n",
        "print(\"\\n\", o)"
      ],
      "metadata": {
        "colab": {
          "base_uri": "https://localhost:8080/"
        },
        "id": "R1VaYheiKFUX",
        "outputId": "9f1f3a92-1e14-40d2-fc58-e273dc1611c7"
      },
      "execution_count": 32,
      "outputs": [
        {
          "output_type": "stream",
          "name": "stdout",
          "text": [
            "\n",
            " [[1. 1.]\n",
            " [1. 1.]]\n"
          ]
        }
      ]
    },
    {
      "cell_type": "code",
      "source": [
        "#creating a 3x3 array with all elements as 0\n",
        "z=np.zeros((2,2))\n",
        "print(\"\\n\", z)"
      ],
      "metadata": {
        "colab": {
          "base_uri": "https://localhost:8080/"
        },
        "id": "bjdEtoG0KITZ",
        "outputId": "9848c7db-7a35-4af5-9e00-294f76b40daf"
      },
      "execution_count": 33,
      "outputs": [
        {
          "output_type": "stream",
          "name": "stdout",
          "text": [
            "\n",
            " [[0. 0.]\n",
            " [0. 0.]]\n"
          ]
        }
      ]
    },
    {
      "cell_type": "markdown",
      "source": [
        "### Initialize Arrays with same elements"
      ],
      "metadata": {
        "id": "H2QwHA6BKnbn"
      }
    },
    {
      "cell_type": "code",
      "source": [
        "#initialize the numpay arrays with  the same numbers\n",
        "s=np.full((3,3), 10)\n",
        "print(\"\\n\", s)"
      ],
      "metadata": {
        "colab": {
          "base_uri": "https://localhost:8080/"
        },
        "id": "oVsZOqOXKMO1",
        "outputId": "47df2b0e-7438-4537-db9d-668889faabac"
      },
      "execution_count": 34,
      "outputs": [
        {
          "output_type": "stream",
          "name": "stdout",
          "text": [
            "\n",
            " [[10 10 10]\n",
            " [10 10 10]\n",
            " [10 10 10]]\n"
          ]
        }
      ]
    },
    {
      "cell_type": "markdown",
      "source": [
        "### Initialize Arrays with range function"
      ],
      "metadata": {
        "id": "sJkbjt_vKtm8"
      }
    },
    {
      "cell_type": "code",
      "source": [
        "#initializing single dimension np array with range\n",
        "r=np.arange(10, 21)\n",
        "print(\"\\n\", r)"
      ],
      "metadata": {
        "colab": {
          "base_uri": "https://localhost:8080/"
        },
        "id": "V8KCTICRKPF7",
        "outputId": "b5f521a9-4c88-4357-91e1-ed4a6d8b4592"
      },
      "execution_count": 35,
      "outputs": [
        {
          "output_type": "stream",
          "name": "stdout",
          "text": [
            "\n",
            " [10 11 12 13 14 15 16 17 18 19 20]\n"
          ]
        }
      ]
    },
    {
      "cell_type": "code",
      "source": [
        "#initializing single dimension np array with skip value\n",
        "r1=np.arange(10, 51, 5)\n",
        "print(\"\\n\", r1)"
      ],
      "metadata": {
        "colab": {
          "base_uri": "https://localhost:8080/"
        },
        "id": "CGAG_6YOKSJy",
        "outputId": "322b5583-fb7c-46af-c9b5-fd49eff59e51"
      },
      "execution_count": 36,
      "outputs": [
        {
          "output_type": "stream",
          "name": "stdout",
          "text": [
            "\n",
            " [10 15 20 25 30 35 40 45 50]\n"
          ]
        }
      ]
    },
    {
      "cell_type": "markdown",
      "source": [
        "### Initialize Arrays with Random function"
      ],
      "metadata": {
        "id": "E3KQbt-aKyoE"
      }
    },
    {
      "cell_type": "code",
      "source": [
        "#initialize with Random numbers\n",
        "ra=np.random.randint(1, 50, 5)\n",
        "print(\"\\n\", ra)"
      ],
      "metadata": {
        "colab": {
          "base_uri": "https://localhost:8080/"
        },
        "id": "5XZ75JxFKUkL",
        "outputId": "e842d91d-c4d1-42c0-f409-467e4f267084"
      },
      "execution_count": 37,
      "outputs": [
        {
          "output_type": "stream",
          "name": "stdout",
          "text": [
            "\n",
            " [42  2 41 44 43]\n"
          ]
        }
      ]
    },
    {
      "cell_type": "code",
      "source": [
        "#initialize multidimensional array with Random numbers\n",
        "ra=np.random.randint(1, 50, (5,5))\n",
        "print(\"\\n\", ra)"
      ],
      "metadata": {
        "colab": {
          "base_uri": "https://localhost:8080/"
        },
        "id": "CKTW-9UCKWuO",
        "outputId": "c8317b26-0f1c-4211-82a8-ab9064c74e45"
      },
      "execution_count": 38,
      "outputs": [
        {
          "output_type": "stream",
          "name": "stdout",
          "text": [
            "\n",
            " [[16  6 49 26 24]\n",
            " [21 41 23 24 45]\n",
            " [28 20 36 22 11]\n",
            " [45 21 41  8 29]\n",
            " [ 8 11 11 44 38]]\n"
          ]
        }
      ]
    },
    {
      "cell_type": "markdown",
      "source": [
        "## Numpy Operations\n",
        "\n",
        "NumPy arrays support a wide range of operations for efficient numerical computing. Here's a summary of some of the key operations available for NumPy arrays:\n",
        "\n",
        "1. **Element-wise Operations**:\n",
        "   - Arithmetic operations: Addition (`+`), subtraction (`-`), multiplication (`*`), division (`/`), exponentiation (`**`), etc.\n",
        "   - Trigonometric functions: `numpy.sin()`, `numpy.cos()`, `numpy.tan()`, `numpy.arcsin()`, `numpy.arccos()`, `numpy.arctan()`, etc.\n",
        "   - Exponential and logarithmic functions: `numpy.exp()`, `numpy.log()`, `numpy.log10()`, `numpy.log2()`, etc.\n",
        "   - Absolute value: `numpy.abs()`\n",
        "   - Rounding: `numpy.round()`, `numpy.floor()`, `numpy.ceil()`, etc.\n",
        "   - Comparison operations: `==`, `!=`, `<`, `<=`, `>`, `>=`, etc.\n",
        "   - Element-wise logical operations: `numpy.logical_and()`, `numpy.logical_or()`, `numpy.logical_not()`, etc.\n",
        "   \n",
        "2. **Reduction Operations**:\n",
        "   - Summation: `numpy.sum()`\n",
        "   - Mean: `numpy.mean()`\n",
        "   - Standard deviation: `numpy.std()`\n",
        "   - Variance: `numpy.var()`\n",
        "   - Minimum: `numpy.min()`\n",
        "   - Maximum: `numpy.max()`\n",
        "   - Median: `numpy.median()`\n",
        "   - Percentiles: `numpy.percentile()`\n",
        "   - Cumulative sum: `numpy.cumsum()`\n",
        "   - Cumulative product: `numpy.cumprod()`\n",
        "\n",
        "3. **Linear Algebra Operations**:\n",
        "   - Matrix multiplication: `numpy.dot()`, `@` operator (Python 3.5+)\n",
        "   - Transpose: `numpy.transpose()`, `.T` attribute\n",
        "   - Inverse: `numpy.linalg.inv()`\n",
        "   - Determinant: `numpy.linalg.det()`\n",
        "   - Eigenvalues and eigenvectors: `numpy.linalg.eig()`\n",
        "   - Singular Value Decomposition (SVD): `numpy.linalg.svd()`\n",
        "   - Solving linear equations: `numpy.linalg.solve()`\n",
        "\n",
        "4. **Array Manipulation Operations**:\n",
        "   - Reshaping: `numpy.reshape()`\n",
        "   - Flattening: `numpy.flatten()`, `numpy.ravel()`\n",
        "   - Concatenation: `numpy.concatenate()`, `numpy.stack()`\n",
        "   - Splitting: `numpy.split()`, `numpy.array_split()`\n",
        "   - Transposition: `numpy.transpose()`, `.T` attribute\n",
        "\n",
        "5. **Random Number Generation**:\n",
        "   - Random samples from various distributions: `numpy.random.rand()`, `numpy.random.randn()`, `numpy.random.randint()`, `numpy.random.uniform()`, `numpy.random.normal()`, etc."
      ],
      "metadata": {
        "id": "jHUvZQ01I9fE"
      }
    },
    {
      "cell_type": "markdown",
      "source": [
        "### Operations on Shape"
      ],
      "metadata": {
        "id": "vSZw8maVm5l0"
      }
    },
    {
      "cell_type": "markdown",
      "source": [
        "### Check the shape of numpy array and change it"
      ],
      "metadata": {
        "id": "1Wu-44XFm92R"
      }
    },
    {
      "cell_type": "code",
      "source": [
        "# checking the shape of the array\n",
        "import numpy as np\n",
        "import random\n",
        "a=np.random.randint(2,67, (3,2))\n",
        "print(a)\n",
        "print(\"The Shape of the Array is : \", a.shape)\n",
        "\n",
        "# to change the shape of the np array\n",
        "a.shape=(2,3)\n",
        "print(\"Array after changing the shape : \", a)"
      ],
      "metadata": {
        "colab": {
          "base_uri": "https://localhost:8080/"
        },
        "id": "trUAEbcYJh8w",
        "outputId": "aa814d10-1b22-4a3f-e333-33b3c7730032"
      },
      "execution_count": 5,
      "outputs": [
        {
          "output_type": "stream",
          "name": "stdout",
          "text": [
            "[[62 16]\n",
            " [60 42]\n",
            " [54 21]]\n",
            "The Shape of the Array is :  (3, 2)\n",
            "Array after changing the shape :  [[62 16 60]\n",
            " [42 54 21]]\n"
          ]
        }
      ]
    },
    {
      "cell_type": "markdown",
      "source": [
        "### Stacking methods\n",
        "* In NumPy, stacking methods refer to functions that are used to concatenate or stack arrays along a specified axis. These methods allow you to combine multiple arrays into a single array, either by stacking them vertically (along the row axis) or horizontally (along the column axis).\n",
        "\n",
        "* Stacking methods are\n",
        "1. **Combining** - combining data from different data sources or data structures into a single array.\n",
        "2. **Creating multidimensional arrays** - you can create higher dimension arrays from lower dinemsion arrays\n",
        "3. **Preparing data for Machine learning** - while trainging a ML model, you need to provide mulitple features arrays as one array, and with stacking methods you can oncatinate these arrays and create single input array\n",
        "4. **Data Visualization** - combine multiple data sets for plotting,\n",
        "5. **Array Manipulation** - reshaping, splitting, and transposing arrays.\n",
        "\n",
        "\n",
        "#### Different Stacking methods are:\n",
        "1. numpy.vstack() - Stack vertically\n",
        "2. numpy.hstack() - Stack horizontally\n",
        "3. numpy.dstack() - depth-wise stacking\n",
        "4. numpy.stack()  - along a new axis\n",
        "5. numpy.column_stack()  - arranges the np arrays (rows) into columns\n",
        "\n"
      ],
      "metadata": {
        "id": "wSuQvpkMn_Ay"
      }
    },
    {
      "cell_type": "code",
      "source": [
        "import numpy as np\n",
        "\n",
        "a=np.array([10,20,30,40,50],)\n",
        "a.shape=(5,1)\n",
        "b=np.array([60,70,80,90,100])\n",
        "b.shape=(5,1)\n",
        "print(\"Array A is : \", a, \"\\nArray B is : \", b,'\\n')"
      ],
      "metadata": {
        "colab": {
          "base_uri": "https://localhost:8080/"
        },
        "id": "KMVI7cYYrKGT",
        "outputId": "31c71e61-3770-403c-82a0-29fc0f6bd59d"
      },
      "execution_count": 17,
      "outputs": [
        {
          "output_type": "stream",
          "name": "stdout",
          "text": [
            "Array A is :  [[10]\n",
            " [20]\n",
            " [30]\n",
            " [40]\n",
            " [50]] \n",
            "Array B is :  [[ 60]\n",
            " [ 70]\n",
            " [ 80]\n",
            " [ 90]\n",
            " [100]] \n",
            "\n"
          ]
        }
      ]
    },
    {
      "cell_type": "code",
      "source": [
        "#vertical stacking\n",
        "vs=np.vstack((a, b))\n",
        "print(\"Stacking done one above another : \\n\", vs)"
      ],
      "metadata": {
        "colab": {
          "base_uri": "https://localhost:8080/"
        },
        "id": "JOejUX2gsAVn",
        "outputId": "9f1aeb19-5413-4e94-8b13-911cd6577c9d"
      },
      "execution_count": 19,
      "outputs": [
        {
          "output_type": "stream",
          "name": "stdout",
          "text": [
            "Stacking done one above another : \n",
            " [[ 10]\n",
            " [ 20]\n",
            " [ 30]\n",
            " [ 40]\n",
            " [ 50]\n",
            " [ 60]\n",
            " [ 70]\n",
            " [ 80]\n",
            " [ 90]\n",
            " [100]]\n"
          ]
        }
      ]
    },
    {
      "cell_type": "code",
      "source": [
        "#horizontal shapping\n",
        "\n",
        "a.shape=b.shape=(1,5)\n",
        "print(\"Array A is : \", a, \"\\nArray B is : \", b,'\\n')\n",
        "hs=np.hstack((a, b))\n",
        "print(\"After Horizontal shapping : \\n\", hs)"
      ],
      "metadata": {
        "colab": {
          "base_uri": "https://localhost:8080/"
        },
        "id": "oFvKMLwlskGZ",
        "outputId": "abaf74a5-866e-4cdf-ae23-038655f53a56"
      },
      "execution_count": 24,
      "outputs": [
        {
          "output_type": "stream",
          "name": "stdout",
          "text": [
            "Array A is :  [[10 20 30 40 50]] \n",
            "Array B is :  [[ 60  70  80  90 100]] \n",
            "\n",
            "After Horizontal shapping : \n",
            " [[ 10  20  30  40  50  60  70  80  90 100]]\n"
          ]
        }
      ]
    },
    {
      "cell_type": "code",
      "source": [
        "#column shapping\n",
        "a.shape=b.shape=(5,1)\n",
        "print(\"Array A is : \\n\", a, \"\\nArray B is : \\n\", b,'\\n')\n",
        "cs=np.column_stack((a, b))\n",
        "print(\"After Column shapping : \\n\", cs)"
      ],
      "metadata": {
        "colab": {
          "base_uri": "https://localhost:8080/"
        },
        "id": "C-q_nGPKs6UH",
        "outputId": "1c1871ed-b06b-427c-e0a1-9abd0b06b973"
      },
      "execution_count": 28,
      "outputs": [
        {
          "output_type": "stream",
          "name": "stdout",
          "text": [
            "Array A is : \n",
            " [[10]\n",
            " [20]\n",
            " [30]\n",
            " [40]\n",
            " [50]] \n",
            "Array B is : \n",
            " [[ 60]\n",
            " [ 70]\n",
            " [ 80]\n",
            " [ 90]\n",
            " [100]] \n",
            "\n",
            "After Column shapping : \n",
            " [[ 10  60]\n",
            " [ 20  70]\n",
            " [ 30  80]\n",
            " [ 40  90]\n",
            " [ 50 100]]\n"
          ]
        }
      ]
    },
    {
      "cell_type": "markdown",
      "source": [
        "### Intersection and Difference of sets\n"
      ],
      "metadata": {
        "id": "4bQ5OzOhvn6H"
      }
    },
    {
      "cell_type": "code",
      "source": [
        "#intersection\n",
        "n1=np.array([1,2,3,4,5])\n",
        "n2=np.array([3,4,5,6,7])\n",
        "\n",
        "#intersection\n",
        "i=np.intersect1d(n1, n2)\n",
        "print(\"The common Elements in n1 and n2 are : \", i)"
      ],
      "metadata": {
        "colab": {
          "base_uri": "https://localhost:8080/"
        },
        "id": "fhoMKxcZvtNo",
        "outputId": "eb653215-fbed-4b29-b643-3025d6c297ee"
      },
      "execution_count": 31,
      "outputs": [
        {
          "output_type": "stream",
          "name": "stdout",
          "text": [
            "The common Elements in n1 and n2 are :  [3 4 5]\n"
          ]
        }
      ]
    },
    {
      "cell_type": "code",
      "source": [
        "#difference\n",
        "\n",
        "#difference (to find elements unique to only n1)\n",
        "d1=np.setdiff1d(n1, n2)\n",
        "print(\"The elements unique to only n1 are : \", d1)\n",
        "\n",
        "#difference (to find elements unique to only n2)\n",
        "d2=np.setdiff1d(n2, n1)\n",
        "print(\"The elements unique to only n2 are : \", d2)"
      ],
      "metadata": {
        "colab": {
          "base_uri": "https://localhost:8080/"
        },
        "id": "Es59P8jLwGkl",
        "outputId": "15b665fd-dedb-4816-9e40-c98c3304dce5"
      },
      "execution_count": 32,
      "outputs": [
        {
          "output_type": "stream",
          "name": "stdout",
          "text": [
            "The elements unique to only n1 are :  [1 2]\n",
            "The elements unique to only n2 are :  [6 7]\n"
          ]
        }
      ]
    }
  ]
}